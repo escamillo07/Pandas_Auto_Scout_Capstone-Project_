{
 "cells": [
  {
   "cell_type": "markdown",
   "metadata": {
    "id": "1-mowPyWq7aY"
   },
   "source": [
    "___\n",
    "\n",
    "<p style=\"text-align: center;\"><img src=\"https://docs.google.com/uc?id=1lY0Uj5R04yMY3-ZppPWxqCr5pvBLYPnV\" class=\"img-fluid\" \n",
    "alt=\"CLRSWY\"></p>\n",
    "\n",
    "## <p style=\"background-color:#FDFEFE; font-family:newtimeroman; color:#9d4f8c; font-size:100%; text-align:center; border-radius:10px 10px;\">WAY TO REINVENT YOURSELF</p>"
   ]
  },
  {
   "cell_type": "markdown",
   "metadata": {
    "id": "4VxkZA4Eq7aj"
   },
   "source": [
    "<img src=https://i.ibb.co/wJW61Y2/Used-cars.jpg width=\"700\" height=\"200\">\n",
    "\n",
    "## <p style=\"background-color:#FDFEFE; font-family:newtimeroman; color:#060108; font-size:200%; text-align:center; border-radius:10px 10px;\">The Capstone Project of Data Analytics Module</p>\n",
    "\n",
    "## <p style=\"background-color:#FDFEFE; font-family:newtimeroman; color:#060108; font-size:150%; text-align:center; border-radius:10px 10px;\">Car Price Prediction EDA</p>"
   ]
  },
  {
   "cell_type": "markdown",
   "metadata": {
    "id": "PiUaKVJZq7ak"
   },
   "source": [
    "# WELCOME!"
   ]
  },
  {
   "cell_type": "markdown",
   "metadata": {
    "id": "xd_-HCdoq7ak"
   },
   "source": [
    "## Introduction\n",
    "Welcome to \"***AutoScout Data Analysis Project***\". This is the capstone project of ***Data Analysis*** Module. **Auto Scout** data which using for this project, scraped from the on-line car trading company in 2019, contains many features of 9 different car models. In this project, you will have the opportunity to apply many commonly used algorithms for Data Cleaning and Exploratory Data Analysis by using many Python libraries such as Numpy, Pandas, Matplotlib, Seaborn, Scipy you will analyze clean dataset.\n",
    "\n",
    "The project consists of 3 parts:\n",
    "* First part is related with 'data cleaning'. It deals with Incorrect Headers, Incorrect Format, Anomalies, Dropping useless columns.\n",
    "* Second part is related with 'filling data'. It deals with Missing Values. Categorical to numeric transformation is done.\n",
    "* Third part is related with 'handling outliers of data' via Visualisation libraries. Some insights are extracted.\n"
   ]
  },
  {
   "cell_type": "markdown",
   "metadata": {
    "id": "OMIB8I_wq7al"
   },
   "source": [
    "# PART- 1 `( Data Cleaning )`"
   ]
  },
  {
   "cell_type": "code",
   "execution_count": null,
   "metadata": {
    "id": "I4424sK4q7al"
   },
   "outputs": [],
   "source": []
  },
  {
   "cell_type": "markdown",
   "metadata": {
    "id": "NMLlPPlZq7am"
   },
   "source": [
    "# PART- 2 `( Handling With Missing Values )`"
   ]
  },
  {
   "cell_type": "code",
   "execution_count": 40,
   "metadata": {
    "id": "N7IbKag7q7an"
   },
   "outputs": [],
   "source": [
    "import numpy as np\n",
    "import pandas as pd\n",
    "import matplotlib.pyplot as plt\n",
    "%matplotlib inline\n",
    "import scipy\n",
    "import seaborn as sns"
   ]
  },
  {
   "cell_type": "code",
   "execution_count": 265,
   "metadata": {
    "id": "yybdr1bQq7ao"
   },
   "outputs": [],
   "source": [
    "df = pd.read_csv(\"G1_Scout_car.csv\")"
   ]
  },
  {
   "cell_type": "code",
   "execution_count": 267,
   "metadata": {
    "colab": {
     "base_uri": "https://localhost:8080/"
    },
    "id": "Br0BsAsFq7ap",
    "outputId": "90fa8ee0-87bb-4af7-f51f-0710ce8b260d"
   },
   "outputs": [
    {
     "data": {
      "text/plain": [
       "8594        13\n",
       "8828       120\n",
       "6066       255\n",
       "8829       331\n",
       "8827      4950\n",
       "         ...  \n",
       "15828    64332\n",
       "3587     64900\n",
       "3649     67600\n",
       "15826    68320\n",
       "3648     74600\n",
       "Name: price, Length: 15919, dtype: int64"
      ]
     },
     "execution_count": 267,
     "metadata": {},
     "output_type": "execute_result"
    }
   ],
   "source": [
    "df.price.sort_values()"
   ]
  },
  {
   "cell_type": "code",
   "execution_count": 43,
   "metadata": {
    "id": "zA0eqmpzq7ar"
   },
   "outputs": [],
   "source": [
    "## df.drop(['short_description','next_inspection','inspection_new','offer_number', 'first_registration','warranty','model_code'],axis=1,inplace=True)"
   ]
  },
  {
   "cell_type": "code",
   "execution_count": 44,
   "metadata": {
    "colab": {
     "base_uri": "https://localhost:8080/"
    },
    "id": "GNS58YJpq7ar",
    "outputId": "8b4bf9fc-1b83-4b3d-9b43-8816bd64a518"
   },
   "outputs": [
    {
     "data": {
      "text/plain": [
       "Index(['make_model', 'body_type', 'price', 'vat', 'km', 'age', 'hp_kw', 'type',\n",
       "       'previous_owners', 'body_color', 'paint_type', 'nr_of_doors',\n",
       "       'nr_of_seats', 'gearing_type', 'displacement', 'cylinders',\n",
       "       'drive_chain', 'fuel', 'co2_emission', 'emission_class',\n",
       "       'comfort_convenience', 'entertainment_media', 'extras',\n",
       "       'safety_security', 'gears', 'upholstery_type', 'upholstery_color',\n",
       "       'consumption_comb', 'consumption_city', 'consumption_country',\n",
       "       'weight_kg'],\n",
       "      dtype='object')"
      ]
     },
     "execution_count": 44,
     "metadata": {},
     "output_type": "execute_result"
    }
   ],
   "source": [
    "df.columns"
   ]
  },
  {
   "cell_type": "code",
   "execution_count": 45,
   "metadata": {
    "colab": {
     "base_uri": "https://localhost:8080/"
    },
    "id": "_lGqkVRIq7as",
    "outputId": "478247ff-7f03-4d79-8e30-77968d09a5cd"
   },
   "outputs": [
    {
     "name": "stdout",
     "output_type": "stream",
     "text": [
      "<class 'pandas.core.frame.DataFrame'>\n",
      "RangeIndex: 15919 entries, 0 to 15918\n",
      "Data columns (total 31 columns):\n",
      " #   Column               Non-Null Count  Dtype  \n",
      "---  ------               --------------  -----  \n",
      " 0   make_model           15919 non-null  object \n",
      " 1   body_type            15919 non-null  object \n",
      " 2   price                15919 non-null  int64  \n",
      " 3   vat                  15919 non-null  object \n",
      " 4   km                   15919 non-null  int64  \n",
      " 5   age                  15919 non-null  int64  \n",
      " 6   hp_kw                15919 non-null  int64  \n",
      " 7   type                 15919 non-null  object \n",
      " 8   previous_owners      15919 non-null  int64  \n",
      " 9   body_color           15919 non-null  object \n",
      " 10  paint_type           15919 non-null  object \n",
      " 11  nr_of_doors          15919 non-null  int64  \n",
      " 12  nr_of_seats          15919 non-null  int64  \n",
      " 13  gearing_type         15919 non-null  object \n",
      " 14  displacement         15919 non-null  float64\n",
      " 15  cylinders            15919 non-null  float64\n",
      " 16  drive_chain          15919 non-null  object \n",
      " 17  fuel                 15919 non-null  object \n",
      " 18  co2_emission         15919 non-null  float64\n",
      " 19  emission_class       15919 non-null  object \n",
      " 20  comfort_convenience  15919 non-null  object \n",
      " 21  entertainment_media  15919 non-null  object \n",
      " 22  extras               15919 non-null  object \n",
      " 23  safety_security      15919 non-null  object \n",
      " 24  gears                15919 non-null  int64  \n",
      " 25  upholstery_type      15919 non-null  object \n",
      " 26  upholstery_color     15919 non-null  object \n",
      " 27  consumption_comb     15919 non-null  float64\n",
      " 28  consumption_city     15919 non-null  float64\n",
      " 29  consumption_country  15919 non-null  float64\n",
      " 30  weight_kg            15919 non-null  int64  \n",
      "dtypes: float64(6), int64(9), object(16)\n",
      "memory usage: 3.8+ MB\n"
     ]
    }
   ],
   "source": [
    "df.info()"
   ]
  },
  {
   "cell_type": "markdown",
   "metadata": {
    "id": "agOtTPiSq7as"
   },
   "source": [
    "## make_model"
   ]
  },
  {
   "cell_type": "code",
   "execution_count": 46,
   "metadata": {
    "id": "ZiE8zFyvq7as"
   },
   "outputs": [],
   "source": [
    "# missing value yok"
   ]
  },
  {
   "cell_type": "markdown",
   "metadata": {
    "id": "FyCpwOhZq7at"
   },
   "source": [
    "## body_type "
   ]
  },
  {
   "cell_type": "code",
   "execution_count": 47,
   "metadata": {
    "id": "XKUyS8iyq7at"
   },
   "outputs": [],
   "source": [
    "# for x in list(df[\"make_model\"].unique()):\n",
    "#     model_uniques = df[\"make_model\"] == x\n",
    "#     body_mode = list(df[model_uniques][\"body_type\"].mode())\n",
    "#     if  body_mode !=[]:\n",
    "#         df.loc[model_uniques,\"body_type\"]= df.loc[model_uniques,\"body_type\"].fillna(df[model_uniques][\"body_type\"].mode()[0])\n",
    "#     else :\n",
    "#         df.loc[model_uniques,\"body_type\"]= df.loc[model_uniques,\"body_type\"].fillna(df[\"body_type\"].mode()[0])"
   ]
  },
  {
   "cell_type": "code",
   "execution_count": 48,
   "metadata": {
    "colab": {
     "base_uri": "https://localhost:8080/"
    },
    "id": "QWRV1Exoq7at",
    "outputId": "52f606bf-6b7a-4d8b-b584-8ec53c688ba7"
   },
   "outputs": [
    {
     "data": {
      "text/plain": [
       "0"
      ]
     },
     "execution_count": 48,
     "metadata": {},
     "output_type": "execute_result"
    }
   ],
   "source": [
    "df.body_type.isnull().sum()"
   ]
  },
  {
   "cell_type": "markdown",
   "metadata": {
    "id": "WC4RpONdq7au"
   },
   "source": [
    "## price"
   ]
  },
  {
   "cell_type": "code",
   "execution_count": 49,
   "metadata": {
    "id": "tCtDg73aq7au"
   },
   "outputs": [],
   "source": [
    "#null yok"
   ]
  },
  {
   "cell_type": "markdown",
   "metadata": {
    "id": "2hWQoiZhq7au"
   },
   "source": [
    "## vat"
   ]
  },
  {
   "cell_type": "code",
   "execution_count": 50,
   "metadata": {
    "id": "VMUqvlDAq7au"
   },
   "outputs": [],
   "source": [
    "## df[\"vat\"] = df[\"vat\"].fillna(df[\"vat\"].mode()[0])"
   ]
  },
  {
   "cell_type": "code",
   "execution_count": 51,
   "metadata": {
    "colab": {
     "base_uri": "https://localhost:8080/"
    },
    "id": "TNfLFbIsq7av",
    "outputId": "f811a362-b2de-4ccf-b65b-da2d7512d6e3"
   },
   "outputs": [
    {
     "data": {
      "text/plain": [
       "0"
      ]
     },
     "execution_count": 51,
     "metadata": {},
     "output_type": "execute_result"
    }
   ],
   "source": [
    "df.vat.isnull().sum()"
   ]
  },
  {
   "cell_type": "markdown",
   "metadata": {
    "id": "Ka9zika1q7av"
   },
   "source": [
    "## km"
   ]
  },
  {
   "cell_type": "code",
   "execution_count": 52,
   "metadata": {
    "colab": {
     "base_uri": "https://localhost:8080/"
    },
    "id": "oebhxfbyq7av",
    "outputId": "518388aa-529c-4461-ad00-d18d84474e60"
   },
   "outputs": [
    {
     "data": {
      "text/plain": [
       "0"
      ]
     },
     "execution_count": 52,
     "metadata": {},
     "output_type": "execute_result"
    }
   ],
   "source": [
    "df.km.isnull().sum()"
   ]
  },
  {
   "cell_type": "markdown",
   "metadata": {
    "id": "OsBti_K2q7av"
   },
   "source": [
    "## age"
   ]
  },
  {
   "cell_type": "code",
   "execution_count": 53,
   "metadata": {
    "colab": {
     "base_uri": "https://localhost:8080/"
    },
    "id": "5J21Z5lqq7aw",
    "outputId": "258e578f-0a2c-4dc4-f33b-b59880b32d0e"
   },
   "outputs": [
    {
     "data": {
      "text/plain": [
       "1    4525\n",
       "0    4412\n",
       "3    3709\n",
       "2    3273\n",
       "Name: age, dtype: int64"
      ]
     },
     "execution_count": 53,
     "metadata": {},
     "output_type": "execute_result"
    }
   ],
   "source": [
    "df.age.value_counts(dropna=False)"
   ]
  },
  {
   "cell_type": "code",
   "execution_count": 54,
   "metadata": {
    "id": "t8yCSWpGN_6Y"
   },
   "outputs": [],
   "source": [
    "## df.age.replace(\"-\",np.nan,inplace=True)"
   ]
  },
  {
   "cell_type": "code",
   "execution_count": 55,
   "metadata": {
    "id": "QI4fUmOzq7aw"
   },
   "outputs": [],
   "source": [
    "# for group in list(df['type'].unique()):\n",
    "#     cond = df['type'] == group\n",
    "#     mode = list(df[cond]['age'].mode())\n",
    "#     if mode != []:\n",
    "#         df.loc[cond,'age'] = df.loc[cond,'age'].fillna(df[cond]['age'].mode()[0])\n",
    "#     else:\n",
    "#         df.loc[cond,'age'] = df.loc[cond,'age'].fillna(df['age'].mode()[0])"
   ]
  },
  {
   "cell_type": "code",
   "execution_count": 56,
   "metadata": {
    "colab": {
     "base_uri": "https://localhost:8080/"
    },
    "id": "Rv_xupG3q7aw",
    "outputId": "13c76572-4e29-4060-f1e1-e5867aaf854a",
    "scrolled": true
   },
   "outputs": [
    {
     "data": {
      "text/plain": [
       "1    4525\n",
       "0    4412\n",
       "3    3709\n",
       "2    3273\n",
       "Name: age, dtype: int64"
      ]
     },
     "execution_count": 56,
     "metadata": {},
     "output_type": "execute_result"
    }
   ],
   "source": [
    "df.age.value_counts(dropna=False)"
   ]
  },
  {
   "cell_type": "markdown",
   "metadata": {
    "id": "A9-4AZ5Tq7ax"
   },
   "source": [
    "## hp_ kw"
   ]
  },
  {
   "cell_type": "code",
   "execution_count": 57,
   "metadata": {
    "colab": {
     "base_uri": "https://localhost:8080/"
    },
    "id": "OpobIKaoq7ay",
    "outputId": "7c545505-1d26-4d64-effe-6d7e6935b808"
   },
   "outputs": [
    {
     "ename": "AttributeError",
     "evalue": "'DataFrame' object has no attribute 'kw'",
     "output_type": "error",
     "traceback": [
      "\u001b[1;31m---------------------------------------------------------------------------\u001b[0m",
      "\u001b[1;31mAttributeError\u001b[0m                            Traceback (most recent call last)",
      "\u001b[1;32m~\\AppData\\Local\\Temp/ipykernel_10316/2668090281.py\u001b[0m in \u001b[0;36m<module>\u001b[1;34m\u001b[0m\n\u001b[1;32m----> 1\u001b[1;33m \u001b[0mdf\u001b[0m\u001b[1;33m.\u001b[0m\u001b[0mkw\u001b[0m\u001b[1;33m\u001b[0m\u001b[1;33m\u001b[0m\u001b[0m\n\u001b[0m",
      "\u001b[1;32mC:\\Program Files\\Python39\\lib\\site-packages\\pandas\\core\\generic.py\u001b[0m in \u001b[0;36m__getattr__\u001b[1;34m(self, name)\u001b[0m\n\u001b[0;32m   5485\u001b[0m         ):\n\u001b[0;32m   5486\u001b[0m             \u001b[1;32mreturn\u001b[0m \u001b[0mself\u001b[0m\u001b[1;33m[\u001b[0m\u001b[0mname\u001b[0m\u001b[1;33m]\u001b[0m\u001b[1;33m\u001b[0m\u001b[1;33m\u001b[0m\u001b[0m\n\u001b[1;32m-> 5487\u001b[1;33m         \u001b[1;32mreturn\u001b[0m \u001b[0mobject\u001b[0m\u001b[1;33m.\u001b[0m\u001b[0m__getattribute__\u001b[0m\u001b[1;33m(\u001b[0m\u001b[0mself\u001b[0m\u001b[1;33m,\u001b[0m \u001b[0mname\u001b[0m\u001b[1;33m)\u001b[0m\u001b[1;33m\u001b[0m\u001b[1;33m\u001b[0m\u001b[0m\n\u001b[0m\u001b[0;32m   5488\u001b[0m \u001b[1;33m\u001b[0m\u001b[0m\n\u001b[0;32m   5489\u001b[0m     \u001b[1;32mdef\u001b[0m \u001b[0m__setattr__\u001b[0m\u001b[1;33m(\u001b[0m\u001b[0mself\u001b[0m\u001b[1;33m,\u001b[0m \u001b[0mname\u001b[0m\u001b[1;33m:\u001b[0m \u001b[0mstr\u001b[0m\u001b[1;33m,\u001b[0m \u001b[0mvalue\u001b[0m\u001b[1;33m)\u001b[0m \u001b[1;33m->\u001b[0m \u001b[1;32mNone\u001b[0m\u001b[1;33m:\u001b[0m\u001b[1;33m\u001b[0m\u001b[1;33m\u001b[0m\u001b[0m\n",
      "\u001b[1;31mAttributeError\u001b[0m: 'DataFrame' object has no attribute 'kw'"
     ]
    }
   ],
   "source": [
    "df.kw"
   ]
  },
  {
   "cell_type": "code",
   "execution_count": null,
   "metadata": {
    "colab": {
     "base_uri": "https://localhost:8080/"
    },
    "id": "--Bb2gzp1KD5",
    "outputId": "e781d87f-6972-408f-91d9-f31c93be486f"
   },
   "outputs": [],
   "source": [
    "df[\"kw\"].value_counts(dropna=False)"
   ]
  },
  {
   "cell_type": "code",
   "execution_count": null,
   "metadata": {
    "id": "U7fiBqDpCQr0"
   },
   "outputs": [],
   "source": [
    "##df.rename(columns = {'kw': 'hp_kw'}, inplace = True)"
   ]
  },
  {
   "cell_type": "code",
   "execution_count": null,
   "metadata": {
    "colab": {
     "base_uri": "https://localhost:8080/"
    },
    "id": "SNTPyqC01cCT",
    "outputId": "bbefc3f7-9a86-49b2-d851-aa9a51b3f59f"
   },
   "outputs": [],
   "source": [
    "df[\"hp_kw\"].isnull().sum()"
   ]
  },
  {
   "cell_type": "code",
   "execution_count": null,
   "metadata": {
    "id": "DoSKPYkoA8sM"
   },
   "outputs": [],
   "source": [
    "# for group in list(df['cylinders'].unique()):\n",
    "#     cond = df['cylinders'] == group\n",
    "#     mode = list(df[cond][\"hp_kw\"].mode())\n",
    "#     if mode != []:\n",
    "#         df.loc[cond,\"hp_kw\"] = df.loc[cond,\"hp_kw\"].fillna(df[cond][\"hp_kw\"].mode()[0])\n",
    "#     else:\n",
    "#         df.loc[cond,\"hp_kw\"] = df.loc[cond,\"hp_kw\"].fillna(df[\"hp_kw\"].mode()[0])"
   ]
  },
  {
   "cell_type": "code",
   "execution_count": null,
   "metadata": {
    "colab": {
     "base_uri": "https://localhost:8080/"
    },
    "id": "T5PympZsBb81",
    "outputId": "21a0a33a-c510-4720-f1c6-1723ff3a1b24"
   },
   "outputs": [],
   "source": [
    "df[\"hp_kw\"].isnull().sum()"
   ]
  },
  {
   "cell_type": "code",
   "execution_count": null,
   "metadata": {
    "id": "VmcyB-IDC9-D"
   },
   "outputs": [],
   "source": [
    "# for group1 in list(df['body_type'].unique()):\n",
    "#     for group2 in list(df['fuel'].unique()):\n",
    "#         cond1 = df['body_type']==group1\n",
    "#         cond2 = (df['body_type']==group1) & (df['fuel']==group2)\n",
    "#         mode1 = list(df[cond1][\"hp_kw\"].mode())\n",
    "#         mode2 = list(df[cond2][\"hp_kw\"].mode())\n",
    "#         if mode2 != []:\n",
    "#             df.loc[cond2,\"hp_kw\"] = df.loc[cond2, \"hp_kw\"].fillna(df[cond2][\"hp_kw\"].mode()[0])\n",
    "#         elif mode1 != []:\n",
    "#             df.loc[cond2, \"hp_kw\"] = df.loc[cond2,\"hp_kw\"].fillna(df[cond1][\"hp_kw\"].mode()[0])\n",
    "#         else:\n",
    "#             df.loc[cond2, \"hp_kw\"] = df.loc[cond2, \"hp_kw\"].fillna(df[\"hp_kw\"].mode()[0])"
   ]
  },
  {
   "cell_type": "code",
   "execution_count": null,
   "metadata": {
    "colab": {
     "base_uri": "https://localhost:8080/"
    },
    "id": "MqH5lARlDEAN",
    "outputId": "22019580-50d3-4982-ea43-afc368276310"
   },
   "outputs": [],
   "source": [
    "df[\"hp_kw\"].isnull().sum()"
   ]
  },
  {
   "cell_type": "markdown",
   "metadata": {
    "id": "UG2bxxCPq7ay"
   },
   "source": [
    "## type"
   ]
  },
  {
   "cell_type": "code",
   "execution_count": null,
   "metadata": {
    "colab": {
     "base_uri": "https://localhost:8080/",
     "height": 292
    },
    "id": "3WAUM5PSq7ay",
    "outputId": "bf51c591-6c40-450f-f943-46683dfd9345"
   },
   "outputs": [],
   "source": [
    "df[df['type'].isna()]"
   ]
  },
  {
   "cell_type": "code",
   "execution_count": null,
   "metadata": {
    "id": "WYy_9eA-q7ay"
   },
   "outputs": [],
   "source": [
    "# df.loc[2765,\"type\"]=\"Used\""
   ]
  },
  {
   "cell_type": "code",
   "execution_count": null,
   "metadata": {
    "id": "4IoR7iVnq7ay"
   },
   "outputs": [],
   "source": [
    "# df.loc[5237,\"type\"]=\"New\""
   ]
  },
  {
   "cell_type": "code",
   "execution_count": null,
   "metadata": {
    "colab": {
     "base_uri": "https://localhost:8080/"
    },
    "id": "Q76gfHpKq7ay",
    "outputId": "977b9136-ebfe-4897-9f61-1e7647915c38"
   },
   "outputs": [],
   "source": [
    "df.type.isnull().sum()"
   ]
  },
  {
   "cell_type": "markdown",
   "metadata": {
    "id": "qUzmG7-Qq7az"
   },
   "source": [
    "## previous_owners"
   ]
  },
  {
   "cell_type": "code",
   "execution_count": null,
   "metadata": {
    "colab": {
     "base_uri": "https://localhost:8080/"
    },
    "id": "KzYlD1Foq7az",
    "outputId": "d10c60b8-5548-44b0-e8e9-874b08f2815e"
   },
   "outputs": [],
   "source": [
    "#age sütunu doldurulduktan sonra çalıştırılacak\n",
    "df[\"previous_owners\"].value_counts(dropna=False) "
   ]
  },
  {
   "cell_type": "code",
   "execution_count": null,
   "metadata": {
    "colab": {
     "base_uri": "https://localhost:8080/"
    },
    "id": "KCVgVMGjq7az",
    "outputId": "133b69c6-eff4-417a-c47e-09996835fa9c"
   },
   "outputs": [],
   "source": [
    "df.age.value_counts(dropna=False)"
   ]
  },
  {
   "cell_type": "code",
   "execution_count": null,
   "metadata": {
    "colab": {
     "base_uri": "https://localhost:8080/"
    },
    "id": "N_hJZgpPq7a0",
    "outputId": "8936ba5e-004e-4562-e398-dc55aa19f791"
   },
   "outputs": [],
   "source": [
    "# df.groupby([\"age\"])[\"previous_owners\"].apply(lambda x:x.mean())"
   ]
  },
  {
   "cell_type": "code",
   "execution_count": null,
   "metadata": {
    "colab": {
     "base_uri": "https://localhost:8080/"
    },
    "id": "dXt78Nacq7a0",
    "outputId": "51f986ca-09f6-4073-fdba-5f1ae1a81400"
   },
   "outputs": [],
   "source": [
    "# df.groupby([\"age\"])[\"previous_owners\"].apply(lambda x:x.mode()[0])"
   ]
  },
  {
   "cell_type": "code",
   "execution_count": null,
   "metadata": {
    "colab": {
     "base_uri": "https://localhost:8080/"
    },
    "id": "FawOCJaHq7a0",
    "outputId": "5a9cb7c0-c323-4707-8a61-cd10ff82ebe7",
    "scrolled": true
   },
   "outputs": [],
   "source": [
    "# df.groupby([\"age\"])[\"previous_owners\"].transform(lambda x:x.mode()[0])"
   ]
  },
  {
   "cell_type": "code",
   "execution_count": null,
   "metadata": {
    "id": "LpbeAZbEq7a0"
   },
   "outputs": [],
   "source": [
    "# df[\"previous_owners\"].fillna(df.groupby([\"age\"])[\"previous_owners\"].transform(lambda x:x.mode()[0]),inplace=True)"
   ]
  },
  {
   "cell_type": "code",
   "execution_count": null,
   "metadata": {
    "colab": {
     "base_uri": "https://localhost:8080/"
    },
    "id": "9S8rf4gpq7a0",
    "outputId": "3e10c2ef-7589-4fd8-cab4-5b77a90aacfa"
   },
   "outputs": [],
   "source": [
    "df[\"previous_owners\"].value_counts(dropna=False)"
   ]
  },
  {
   "cell_type": "code",
   "execution_count": null,
   "metadata": {
    "colab": {
     "base_uri": "https://localhost:8080/"
    },
    "id": "3zboqJzaq7a1",
    "outputId": "8e356735-7d5f-4185-c2ef-3a00eaed51a3"
   },
   "outputs": [],
   "source": [
    "df[\"previous_owners\"].isnull().sum()"
   ]
  },
  {
   "cell_type": "markdown",
   "metadata": {
    "id": "a-AgqTR0q7a1"
   },
   "source": [
    "## 'body_color'"
   ]
  },
  {
   "cell_type": "code",
   "execution_count": null,
   "metadata": {
    "id": "SABbvHRm0y5c"
   },
   "outputs": [],
   "source": [
    "# for group1 in list(df[\"make_model\"].unique()):\n",
    "#     for group2 in list(df[\"body_type\"].unique()):\n",
    "#         cond2 = (df[\"make_model\"]==group1) & (df[\"body_type\"]==group2)\n",
    "#         df.loc[cond2, \"body_color\"] = df.loc[cond2, \"body_color\"].fillna(method=\"ffill\").fillna(method=\"bfill\")"
   ]
  },
  {
   "cell_type": "code",
   "execution_count": null,
   "metadata": {
    "id": "fuk9atDqq7a1"
   },
   "outputs": [],
   "source": [
    "# for group1 in list(df[\"make_model\"].unique()):\n",
    "#     cond1 = df[\"make_model\"]==group1\n",
    "#     df.loc[cond1, \"body_color\"] = df.loc[cond1, \"body_color\"].fillna(method=\"ffill\").fillna(method=\"bfill\")"
   ]
  },
  {
   "cell_type": "code",
   "execution_count": null,
   "metadata": {
    "colab": {
     "base_uri": "https://localhost:8080/"
    },
    "id": "sDuugOCp0qDZ",
    "outputId": "c8c9f95f-459c-4a14-a406-3b3bf64c5310"
   },
   "outputs": [],
   "source": [
    "df[\"body_color\"].isnull().sum()"
   ]
  },
  {
   "cell_type": "markdown",
   "metadata": {
    "id": "FJj-4zKoq7a1"
   },
   "source": [
    "## paint_type "
   ]
  },
  {
   "cell_type": "code",
   "execution_count": null,
   "metadata": {
    "colab": {
     "base_uri": "https://localhost:8080/"
    },
    "id": "iy0njcKYq7a1",
    "outputId": "cdbb4baa-6bb4-4271-ca8a-564905acd17e"
   },
   "outputs": [],
   "source": [
    "df[\"paint_type\"].isnull().sum()"
   ]
  },
  {
   "cell_type": "code",
   "execution_count": null,
   "metadata": {
    "id": "9RH6pLSp0dVT"
   },
   "outputs": [],
   "source": [
    "# for group1 in list(df[\"make_model\"].unique()):\n",
    "#     for group2 in list(df[\"body_type\"].unique()):\n",
    "#         cond2 = (df[\"make_model\"]==group1) & (df[\"body_type\"]==group2)\n",
    "#         df.loc[cond2, \"paint_type\"] = df.loc[cond2, \"paint_type\"].fillna(method=\"ffill\").fillna(method=\"bfill\")"
   ]
  },
  {
   "cell_type": "code",
   "execution_count": null,
   "metadata": {
    "colab": {
     "base_uri": "https://localhost:8080/"
    },
    "id": "cDXe4F0O0dYa",
    "outputId": "9de07f0f-06e7-4d4b-acc7-6a6d84a91fab"
   },
   "outputs": [],
   "source": [
    "df[\"paint_type\"].isnull().sum()"
   ]
  },
  {
   "cell_type": "code",
   "execution_count": null,
   "metadata": {
    "id": "ulp-jN2P0mkP"
   },
   "outputs": [],
   "source": [
    "# for group1 in list(df[\"make_model\"].unique()):\n",
    "#     cond1 = df[\"make_model\"]==group1\n",
    "#     df.loc[cond1, \"paint_type\"] = df.loc[cond1, \"paint_type\"].fillna(method=\"ffill\").fillna(method=\"bfill\")"
   ]
  },
  {
   "cell_type": "code",
   "execution_count": null,
   "metadata": {
    "colab": {
     "base_uri": "https://localhost:8080/"
    },
    "id": "etg0eEAD0tNS",
    "outputId": "57b4d5e7-84ac-4d39-f703-c2e4f71004c0"
   },
   "outputs": [],
   "source": [
    "df[\"paint_type\"].isnull().sum()"
   ]
  },
  {
   "cell_type": "markdown",
   "metadata": {
    "id": "oNtvU-dqq7a1"
   },
   "source": [
    "## body_color_original"
   ]
  },
  {
   "cell_type": "code",
   "execution_count": null,
   "metadata": {
    "id": "wG-52k2yq7a2"
   },
   "outputs": [],
   "source": [
    "#drop"
   ]
  },
  {
   "cell_type": "code",
   "execution_count": null,
   "metadata": {
    "id": "68nJnf5p1uv9"
   },
   "outputs": [],
   "source": [
    "# df.drop(\"body_color_original\",axis=1,inplace=True)"
   ]
  },
  {
   "cell_type": "markdown",
   "metadata": {
    "id": "R93YirU3q7a2"
   },
   "source": [
    "## nr_of_doors"
   ]
  },
  {
   "cell_type": "code",
   "execution_count": null,
   "metadata": {
    "id": "eh-kNGYoq7a2"
   },
   "outputs": [],
   "source": [
    "# for group1 in list(df['make_model'].unique()):\n",
    "#     for group2 in list(df['body_type'].unique()):\n",
    "#         cond2 = (df['make_model'] == group1) & (df['body_type'] == group2)\n",
    "#         df.loc[cond2,'nr_of_doors'] = df.loc[cond2,'nr_of_doors'].fillna(method=\"ffill\").fillna(method=\"bfill\")"
   ]
  },
  {
   "cell_type": "code",
   "execution_count": null,
   "metadata": {
    "colab": {
     "base_uri": "https://localhost:8080/"
    },
    "id": "-5eqG5mpq7a2",
    "outputId": "a995b72d-6b55-4b32-df89-4ea87fe5f98c"
   },
   "outputs": [],
   "source": [
    "df['nr_of_doors'].value_counts(dropna=False)"
   ]
  },
  {
   "cell_type": "code",
   "execution_count": null,
   "metadata": {
    "id": "xVUd0SxVq7a2"
   },
   "outputs": [],
   "source": [
    "# for group in list(df['make_model'].unique()):\n",
    "#     cond = df['make_model'] == group\n",
    "#     mode = list(df[cond]['nr_of_doors'].mode())\n",
    "#     if mode != []:\n",
    "#         df.loc[cond,'nr_of_doors'] = df.loc[cond,'nr_of_doors'].fillna(df[cond]['nr_of_doors'].mode()[0])\n",
    "#     else:\n",
    "#         df.loc[cond,'nr_of_doors'] = df.loc[cond,'nr_of_doors'].fillna(df['nr_of_doors'].mode()[0])"
   ]
  },
  {
   "cell_type": "code",
   "execution_count": null,
   "metadata": {
    "colab": {
     "base_uri": "https://localhost:8080/"
    },
    "id": "oNrY5o7_q7a3",
    "outputId": "fd29542b-3af6-4713-9ae8-5771e16a24ec"
   },
   "outputs": [],
   "source": [
    "df['nr_of_doors'].value_counts(dropna=False)"
   ]
  },
  {
   "cell_type": "code",
   "execution_count": null,
   "metadata": {
    "colab": {
     "base_uri": "https://localhost:8080/"
    },
    "id": "neG3788Lq7a3",
    "outputId": "a9d4be90-b324-40f0-d420-ad1158d7ad74"
   },
   "outputs": [],
   "source": [
    "df.nr_of_doors.isnull().sum()"
   ]
  },
  {
   "cell_type": "markdown",
   "metadata": {
    "id": "ROfFJnhRq7a3"
   },
   "source": [
    "## nr_of_seats"
   ]
  },
  {
   "cell_type": "code",
   "execution_count": null,
   "metadata": {
    "id": "RZyCaXSEq7a3"
   },
   "outputs": [],
   "source": [
    "# for group1 in list(df['make_model'].unique()):\n",
    "#     for group2 in list(df['body_type'].unique()):\n",
    "#         cond2 = (df['make_model'] == group1) & (df['body_type'] == group2)\n",
    "#         df.loc[cond2,'nr_of_seats'] = df.loc[cond2,'nr_of_seats'].fillna(method=\"ffill\").fillna(method=\"bfill\")"
   ]
  },
  {
   "cell_type": "code",
   "execution_count": null,
   "metadata": {
    "colab": {
     "base_uri": "https://localhost:8080/"
    },
    "id": "cdlsFEEGq7a3",
    "outputId": "6b76912c-49b6-4bac-fe8b-ccd3f2319b43"
   },
   "outputs": [],
   "source": [
    "df['nr_of_seats'].value_counts(dropna=False)"
   ]
  },
  {
   "cell_type": "code",
   "execution_count": null,
   "metadata": {
    "id": "KAuyP_Qqq7a4"
   },
   "outputs": [],
   "source": [
    "# for group in list(df['make_model'].unique()):\n",
    "#     cond = df['make_model'] == group\n",
    "#     mode = list(df[cond]['nr_of_seats'].mode())\n",
    "#     if mode != []:\n",
    "#         df.loc[cond,'nr_of_seats'] = df.loc[cond,'nr_of_seats'].fillna(df[cond]['nr_of_seats'].mode()[0])\n",
    "#     else:\n",
    "#         df.loc[cond,'nr_of_seats'] = df.loc[cond,'nr_of_seats'].fillna(df['nr_of_seats'].mode()[0])"
   ]
  },
  {
   "cell_type": "code",
   "execution_count": null,
   "metadata": {
    "colab": {
     "base_uri": "https://localhost:8080/"
    },
    "id": "R5dUnkDjq7a4",
    "outputId": "a78e2d72-b844-4339-cdc0-8eef5e839b22"
   },
   "outputs": [],
   "source": [
    "df['nr_of_seats'].value_counts(dropna=False)"
   ]
  },
  {
   "cell_type": "code",
   "execution_count": null,
   "metadata": {
    "colab": {
     "base_uri": "https://localhost:8080/"
    },
    "id": "vjrDUv4Oq7a5",
    "outputId": "f780a5a3-6083-45bf-ec2a-91b7ae80dfeb"
   },
   "outputs": [],
   "source": [
    "df['nr_of_seats'].isnull().sum()"
   ]
  },
  {
   "cell_type": "code",
   "execution_count": null,
   "metadata": {
    "colab": {
     "base_uri": "https://localhost:8080/"
    },
    "id": "2feRzEiiq7a5",
    "outputId": "26c93b81-e9c3-4dc9-fdc7-a8dd62d3a75e"
   },
   "outputs": [],
   "source": [
    "df.columns"
   ]
  },
  {
   "cell_type": "markdown",
   "metadata": {
    "id": "fDwp1HLtq7a7"
   },
   "source": [
    "## gearing_type"
   ]
  },
  {
   "cell_type": "code",
   "execution_count": null,
   "metadata": {
    "colab": {
     "base_uri": "https://localhost:8080/"
    },
    "id": "fycCCJZtq7a7",
    "outputId": "4a8b5a52-d3b1-41c6-fd9a-b73b5f8494a6"
   },
   "outputs": [],
   "source": [
    "df.gearing_type.value_counts(dropna=False)"
   ]
  },
  {
   "cell_type": "code",
   "execution_count": null,
   "metadata": {
    "colab": {
     "base_uri": "https://localhost:8080/"
    },
    "id": "S_VZ057oq7a7",
    "outputId": "d5bcd56a-c516-460d-c788-1394e4f98bd3"
   },
   "outputs": [],
   "source": [
    "# df.groupby([\"make_model\",\"gears\"])[\"gearing_type\"].apply(lambda x:x.mode()[0])"
   ]
  },
  {
   "cell_type": "code",
   "execution_count": null,
   "metadata": {
    "colab": {
     "base_uri": "https://localhost:8080/"
    },
    "id": "URA4lrSZq7a8",
    "outputId": "241c7871-9d09-40e0-b1d9-f4b1077d4773"
   },
   "outputs": [],
   "source": [
    "df.gearing_type.isnull().sum()"
   ]
  },
  {
   "cell_type": "code",
   "execution_count": null,
   "metadata": {
    "id": "_22QkD-5q7a8"
   },
   "outputs": [],
   "source": [
    "# df.gearing_type.fillna(df.groupby([\"make_model\",\"gears\"])[\"gearing_type\"].transform(lambda x:x.mode()[0]),inplace=True)"
   ]
  },
  {
   "cell_type": "code",
   "execution_count": null,
   "metadata": {
    "id": "IvGKnVSCq7a9"
   },
   "outputs": [],
   "source": []
  },
  {
   "cell_type": "markdown",
   "metadata": {
    "id": "qmujagq3q7a9"
   },
   "source": [
    "## displacement"
   ]
  },
  {
   "cell_type": "code",
   "execution_count": null,
   "metadata": {
    "colab": {
     "base_uri": "https://localhost:8080/"
    },
    "id": "P5k5knFIq7a9",
    "outputId": "53b52f05-ac57-4f0e-da4a-bedf9d7d4c17"
   },
   "outputs": [],
   "source": [
    "df.displacement.isnull().sum()"
   ]
  },
  {
   "cell_type": "code",
   "execution_count": null,
   "metadata": {
    "colab": {
     "base_uri": "https://localhost:8080/"
    },
    "id": "GVDy92gfq7a9",
    "outputId": "70043bdd-c1e3-45b5-890b-e0019a170a44"
   },
   "outputs": [],
   "source": [
    "df.displacement.value_counts(dropna=False)"
   ]
  },
  {
   "cell_type": "code",
   "execution_count": null,
   "metadata": {
    "colab": {
     "base_uri": "https://localhost:8080/"
    },
    "id": "YlWnV_F9q7a-",
    "outputId": "ea12827f-8821-4ad2-fb93-6fa8f839c894"
   },
   "outputs": [],
   "source": [
    "# df.groupby([\"make_model\",\"body_type\"])[\"displacement\"].apply(lambda x:x.mean())"
   ]
  },
  {
   "cell_type": "code",
   "execution_count": null,
   "metadata": {
    "id": "RT7gXPcnq7a-"
   },
   "outputs": [],
   "source": [
    "# df.displacement.fillna(df.groupby([\"make_model\",\"hp_kw\"])[\"displacement\"].transform(lambda x:x.mean()),inplace=True)"
   ]
  },
  {
   "cell_type": "code",
   "execution_count": 58,
   "metadata": {
    "colab": {
     "base_uri": "https://localhost:8080/",
     "height": 974
    },
    "id": "jPmn7WLsq7a_",
    "outputId": "531f8096-d578-4fbb-c246-39b34ef74de6"
   },
   "outputs": [
    {
     "data": {
      "text/html": [
       "<div>\n",
       "<style scoped>\n",
       "    .dataframe tbody tr th:only-of-type {\n",
       "        vertical-align: middle;\n",
       "    }\n",
       "\n",
       "    .dataframe tbody tr th {\n",
       "        vertical-align: top;\n",
       "    }\n",
       "\n",
       "    .dataframe thead th {\n",
       "        text-align: right;\n",
       "    }\n",
       "</style>\n",
       "<table border=\"1\" class=\"dataframe\">\n",
       "  <thead>\n",
       "    <tr style=\"text-align: right;\">\n",
       "      <th></th>\n",
       "      <th>make_model</th>\n",
       "      <th>body_type</th>\n",
       "      <th>price</th>\n",
       "      <th>vat</th>\n",
       "      <th>km</th>\n",
       "      <th>age</th>\n",
       "      <th>hp_kw</th>\n",
       "      <th>type</th>\n",
       "      <th>previous_owners</th>\n",
       "      <th>body_color</th>\n",
       "      <th>...</th>\n",
       "      <th>entertainment_media</th>\n",
       "      <th>extras</th>\n",
       "      <th>safety_security</th>\n",
       "      <th>gears</th>\n",
       "      <th>upholstery_type</th>\n",
       "      <th>upholstery_color</th>\n",
       "      <th>consumption_comb</th>\n",
       "      <th>consumption_city</th>\n",
       "      <th>consumption_country</th>\n",
       "      <th>weight_kg</th>\n",
       "    </tr>\n",
       "  </thead>\n",
       "  <tbody>\n",
       "  </tbody>\n",
       "</table>\n",
       "<p>0 rows × 31 columns</p>\n",
       "</div>"
      ],
      "text/plain": [
       "Empty DataFrame\n",
       "Columns: [make_model, body_type, price, vat, km, age, hp_kw, type, previous_owners, body_color, paint_type, nr_of_doors, nr_of_seats, gearing_type, displacement, cylinders, drive_chain, fuel, co2_emission, emission_class, comfort_convenience, entertainment_media, extras, safety_security, gears, upholstery_type, upholstery_color, consumption_comb, consumption_city, consumption_country, weight_kg]\n",
       "Index: []\n",
       "\n",
       "[0 rows x 31 columns]"
      ]
     },
     "execution_count": 58,
     "metadata": {},
     "output_type": "execute_result"
    }
   ],
   "source": [
    "df[df['displacement'].isna()]"
   ]
  },
  {
   "cell_type": "code",
   "execution_count": 59,
   "metadata": {
    "colab": {
     "base_uri": "https://localhost:8080/"
    },
    "id": "Yd2j4blEq7bA",
    "outputId": "2154ec41-d071-4c65-fbba-cea3f9943e4f"
   },
   "outputs": [
    {
     "data": {
      "text/plain": [
       "0"
      ]
     },
     "execution_count": 59,
     "metadata": {},
     "output_type": "execute_result"
    }
   ],
   "source": [
    "df.displacement.isnull().sum()"
   ]
  },
  {
   "cell_type": "code",
   "execution_count": 60,
   "metadata": {
    "id": "wwB9VErl6jWs"
   },
   "outputs": [],
   "source": [
    "# df.displacement.fillna(df.groupby([\"make_model\"])[\"displacement\"].transform(lambda x:x.mean()),inplace=True)"
   ]
  },
  {
   "cell_type": "code",
   "execution_count": 61,
   "metadata": {
    "colab": {
     "base_uri": "https://localhost:8080/"
    },
    "id": "E0Q10z6n6oMl",
    "outputId": "a3003ab5-dfa8-42dd-f586-192dbc2bb0b3"
   },
   "outputs": [
    {
     "data": {
      "text/plain": [
       "0"
      ]
     },
     "execution_count": 61,
     "metadata": {},
     "output_type": "execute_result"
    }
   ],
   "source": [
    "df.displacement.isnull().sum()"
   ]
  },
  {
   "cell_type": "markdown",
   "metadata": {
    "id": "VKoybJeIq7bA"
   },
   "source": [
    "## cylinders"
   ]
  },
  {
   "cell_type": "code",
   "execution_count": 62,
   "metadata": {
    "colab": {
     "base_uri": "https://localhost:8080/"
    },
    "id": "6M83wQQgq7bA",
    "outputId": "188b8463-9acd-46c9-f17f-87d0c12efd2e",
    "scrolled": true
   },
   "outputs": [
    {
     "data": {
      "text/plain": [
       "4.0    12409\n",
       "3.0     3478\n",
       "5.0       22\n",
       "8.0        4\n",
       "6.0        3\n",
       "2.0        2\n",
       "1.0        1\n",
       "Name: cylinders, dtype: int64"
      ]
     },
     "execution_count": 62,
     "metadata": {},
     "output_type": "execute_result"
    }
   ],
   "source": [
    "df.cylinders.value_counts(dropna=False)"
   ]
  },
  {
   "cell_type": "code",
   "execution_count": 63,
   "metadata": {
    "colab": {
     "base_uri": "https://localhost:8080/"
    },
    "id": "0hxpPAUEq7bA",
    "outputId": "f427a607-183f-4c33-e962-66de3febc6bf"
   },
   "outputs": [],
   "source": [
    "# for group in list(df['displacement'].unique()):\n",
    "#     cond = df['displacement'] == group\n",
    "#     mode = list(df[cond]['cylinders'].mode())\n",
    "#     if mode != []:\n",
    "#         df.loc[cond,'cylinders'] = df.loc[cond,'cylinders'].fillna(df[cond]['cylinders'].mode()[0])\n",
    "#     else:\n",
    "#         df.loc[cond,'cylinders'] = df.loc[cond,'cylinders'].fillna(df['cylinders'].mode()[0])"
   ]
  },
  {
   "cell_type": "code",
   "execution_count": 64,
   "metadata": {
    "colab": {
     "base_uri": "https://localhost:8080/"
    },
    "id": "J7-QSZPMq7bB",
    "outputId": "8926fe87-8a11-411d-b8e9-4407ad8a1f8e"
   },
   "outputs": [
    {
     "data": {
      "text/plain": [
       "4.0    12409\n",
       "3.0     3478\n",
       "5.0       22\n",
       "8.0        4\n",
       "6.0        3\n",
       "2.0        2\n",
       "1.0        1\n",
       "Name: cylinders, dtype: int64"
      ]
     },
     "execution_count": 64,
     "metadata": {},
     "output_type": "execute_result"
    }
   ],
   "source": [
    "df.cylinders.value_counts(dropna=False)"
   ]
  },
  {
   "cell_type": "code",
   "execution_count": 65,
   "metadata": {
    "colab": {
     "base_uri": "https://localhost:8080/"
    },
    "id": "1VdfFXtPq7bC",
    "outputId": "e3df109a-6a22-4a67-a81a-de31023e9f41"
   },
   "outputs": [
    {
     "data": {
      "text/plain": [
       "0"
      ]
     },
     "execution_count": 65,
     "metadata": {},
     "output_type": "execute_result"
    }
   ],
   "source": [
    "df.cylinders.isnull().sum()"
   ]
  },
  {
   "cell_type": "markdown",
   "metadata": {
    "id": "w3acSrsgq7bC"
   },
   "source": [
    "## drive_chain"
   ]
  },
  {
   "cell_type": "code",
   "execution_count": 66,
   "metadata": {
    "colab": {
     "base_uri": "https://localhost:8080/"
    },
    "id": "HBYQA1EFq7bC",
    "outputId": "6c73af84-9dab-4215-cef5-4b0f4ea2cac0",
    "scrolled": true
   },
   "outputs": [
    {
     "data": {
      "text/plain": [
       "front    15575\n",
       "4WD        339\n",
       "rear         5\n",
       "Name: drive_chain, dtype: int64"
      ]
     },
     "execution_count": 66,
     "metadata": {},
     "output_type": "execute_result"
    }
   ],
   "source": [
    "df.drive_chain.value_counts(dropna=False)"
   ]
  },
  {
   "cell_type": "code",
   "execution_count": 67,
   "metadata": {
    "colab": {
     "base_uri": "https://localhost:8080/"
    },
    "id": "KK3k-GzMq7bD",
    "outputId": "98057594-44b9-4637-fe00-53cc2dc8019c"
   },
   "outputs": [],
   "source": [
    "# df.groupby([\"make_model\",\"body_type\"])[\"drive_chain\"].apply(lambda x:x.mode())"
   ]
  },
  {
   "cell_type": "code",
   "execution_count": 68,
   "metadata": {
    "id": "VDPN9e2Aq7bD"
   },
   "outputs": [],
   "source": [
    "#df.drive_chain.fillna(df.groupby([\"make_model\",\"body_type\"])[\"drive_chain\"].transform(lambda x:x.mode()),inplace=True)"
   ]
  },
  {
   "cell_type": "code",
   "execution_count": 69,
   "metadata": {
    "colab": {
     "base_uri": "https://localhost:8080/"
    },
    "id": "oJVk_N4pq7bD",
    "outputId": "f0234c8e-add5-4e9f-e7b8-3caaa892e968"
   },
   "outputs": [
    {
     "data": {
      "text/plain": [
       "0"
      ]
     },
     "execution_count": 69,
     "metadata": {},
     "output_type": "execute_result"
    }
   ],
   "source": [
    "df.drive_chain.isnull().sum()"
   ]
  },
  {
   "cell_type": "code",
   "execution_count": 70,
   "metadata": {
    "id": "Pc1GdBXDq7bD"
   },
   "outputs": [],
   "source": [
    "# for group1 in list(df['make_model'].unique()):\n",
    "#     for group2 in list(df['body_type'].unique()):\n",
    "#         cond2 = (df['make_model'] == group1) & (df['body_type'] == group2)\n",
    "#         df.loc[cond2,'drive_chain'] = df.loc[cond2,'drive_chain'].fillna(method=\"ffill\").fillna(method=\"bfill\")"
   ]
  },
  {
   "cell_type": "code",
   "execution_count": 71,
   "metadata": {
    "colab": {
     "base_uri": "https://localhost:8080/"
    },
    "id": "oAGdX-xrq7bD",
    "outputId": "8d5da7ba-eb4e-4ce3-d862-d655938f85f1"
   },
   "outputs": [
    {
     "data": {
      "text/plain": [
       "0"
      ]
     },
     "execution_count": 71,
     "metadata": {},
     "output_type": "execute_result"
    }
   ],
   "source": [
    "df.drive_chain.isnull().sum()"
   ]
  },
  {
   "cell_type": "code",
   "execution_count": 72,
   "metadata": {
    "id": "2UWThrxmq7bD"
   },
   "outputs": [],
   "source": [
    "# for group in list(df['make_model'].unique()):\n",
    "#     cond = df['make_model'] == group\n",
    "#     mode = list(df[cond]['drive_chain'].mode())\n",
    "#     if mode != []:\n",
    "#         df.loc[cond,'drive_chain'] = df.loc[cond,'drive_chain'].fillna(df[cond]['drive_chain'].mode()[0])\n",
    "#     else:\n",
    "#         df.loc[cond,'drive_chain'] = df.loc[cond,'drive_chain'].fillna(df['drive_chain'].mode()[0])"
   ]
  },
  {
   "cell_type": "code",
   "execution_count": 73,
   "metadata": {
    "colab": {
     "base_uri": "https://localhost:8080/"
    },
    "id": "-l2HX8zKq7bE",
    "outputId": "607dea1d-c15a-400e-9990-15303f2baac7"
   },
   "outputs": [
    {
     "data": {
      "text/plain": [
       "0"
      ]
     },
     "execution_count": 73,
     "metadata": {},
     "output_type": "execute_result"
    }
   ],
   "source": [
    "df.drive_chain.isnull().sum()"
   ]
  },
  {
   "cell_type": "markdown",
   "metadata": {
    "id": "9HFePhHVq7bE"
   },
   "source": [
    "## fuel"
   ]
  },
  {
   "cell_type": "code",
   "execution_count": 74,
   "metadata": {
    "id": "mH-t1HbNq7bE"
   },
   "outputs": [],
   "source": [
    "#null yok"
   ]
  },
  {
   "cell_type": "code",
   "execution_count": 75,
   "metadata": {
    "colab": {
     "base_uri": "https://localhost:8080/"
    },
    "id": "QeSsWoaeq7bE",
    "outputId": "88a9ebff-a283-438f-beaa-964fe62efebe"
   },
   "outputs": [
    {
     "data": {
      "text/plain": [
       "Diesel     7299\n",
       "Benzine    5293\n",
       "LPG/CNG    3316\n",
       "others       11\n",
       "Name: fuel, dtype: int64"
      ]
     },
     "execution_count": 75,
     "metadata": {},
     "output_type": "execute_result"
    }
   ],
   "source": [
    "df.fuel.value_counts(dropna=False)"
   ]
  },
  {
   "cell_type": "code",
   "execution_count": 76,
   "metadata": {
    "colab": {
     "base_uri": "https://localhost:8080/"
    },
    "id": "8lz77KjAq7bE",
    "outputId": "8e9880bd-abd5-401f-f9da-9c02e8d8fdff"
   },
   "outputs": [
    {
     "data": {
      "text/plain": [
       "Index(['make_model', 'body_type', 'price', 'vat', 'km', 'age', 'hp_kw', 'type',\n",
       "       'previous_owners', 'body_color', 'paint_type', 'nr_of_doors',\n",
       "       'nr_of_seats', 'gearing_type', 'displacement', 'cylinders',\n",
       "       'drive_chain', 'fuel', 'co2_emission', 'emission_class',\n",
       "       'comfort_convenience', 'entertainment_media', 'extras',\n",
       "       'safety_security', 'gears', 'upholstery_type', 'upholstery_color',\n",
       "       'consumption_comb', 'consumption_city', 'consumption_country',\n",
       "       'weight_kg'],\n",
       "      dtype='object')"
      ]
     },
     "execution_count": 76,
     "metadata": {},
     "output_type": "execute_result"
    }
   ],
   "source": [
    "df.columns"
   ]
  },
  {
   "cell_type": "markdown",
   "metadata": {
    "id": "nyK6M5Vaq7bF"
   },
   "source": [
    "## co2_emission"
   ]
  },
  {
   "cell_type": "code",
   "execution_count": 77,
   "metadata": {
    "colab": {
     "base_uri": "https://localhost:8080/"
    },
    "id": "u-inb2zJq7bF",
    "outputId": "29b3f278-97e3-4f3e-9c5f-85285ff7a626"
   },
   "outputs": [
    {
     "data": {
      "text/plain": [
       "120.0    796\n",
       "99.0     564\n",
       "97.0     538\n",
       "104.0    501\n",
       "102.0    495\n",
       "        ... \n",
       "181.0      1\n",
       "177.0      1\n",
       "180.0      1\n",
       "45.0       1\n",
       "193.0      1\n",
       "Name: co2_emission, Length: 257, dtype: int64"
      ]
     },
     "execution_count": 77,
     "metadata": {},
     "output_type": "execute_result"
    }
   ],
   "source": [
    "df[\"co2_emission\"].value_counts(dropna=False)"
   ]
  },
  {
   "cell_type": "code",
   "execution_count": 78,
   "metadata": {
    "colab": {
     "base_uri": "https://localhost:8080/"
    },
    "id": "ObsWl-qrq7bF",
    "outputId": "8a227ef4-b713-4b92-d7ab-bedcfb552df3"
   },
   "outputs": [],
   "source": [
    "# df.groupby([\"displacement\",'age','fuel'])[\"co2_emission\"].apply(lambda x:x.mean())"
   ]
  },
  {
   "cell_type": "code",
   "execution_count": 79,
   "metadata": {
    "id": "tks0Mr5Xq7bF"
   },
   "outputs": [],
   "source": [
    "# df[\"co2_emission\"].fillna(df.groupby([\"displacement\",'age','fuel'])[\"co2_emission\"].transform(\"mean\"),inplace=True)"
   ]
  },
  {
   "cell_type": "code",
   "execution_count": 80,
   "metadata": {
    "colab": {
     "base_uri": "https://localhost:8080/"
    },
    "id": "umBzLWwaq7bF",
    "outputId": "0cd89723-da41-4b48-a5b6-de0e58a6ce47"
   },
   "outputs": [
    {
     "data": {
      "text/plain": [
       "120.0    796\n",
       "99.0     564\n",
       "97.0     538\n",
       "104.0    501\n",
       "102.0    495\n",
       "        ... \n",
       "181.0      1\n",
       "177.0      1\n",
       "180.0      1\n",
       "45.0       1\n",
       "193.0      1\n",
       "Name: co2_emission, Length: 257, dtype: int64"
      ]
     },
     "execution_count": 80,
     "metadata": {},
     "output_type": "execute_result"
    }
   ],
   "source": [
    "df[\"co2_emission\"].value_counts(dropna=False)"
   ]
  },
  {
   "cell_type": "code",
   "execution_count": 81,
   "metadata": {
    "id": "T6n1nmJLq7bG"
   },
   "outputs": [],
   "source": [
    "#df[\"co2_emission\"].fillna(df.groupby([\"displacement\",'fuel'])[\"co2_emission\"].transform(lambda x:x.mean()),inplace=True)"
   ]
  },
  {
   "cell_type": "code",
   "execution_count": 82,
   "metadata": {
    "colab": {
     "base_uri": "https://localhost:8080/"
    },
    "id": "GmWxz6RAq7bG",
    "outputId": "b0b365d9-e66a-48a4-ee44-c7df13e8f905"
   },
   "outputs": [
    {
     "data": {
      "text/plain": [
       "120.0    796\n",
       "99.0     564\n",
       "97.0     538\n",
       "104.0    501\n",
       "102.0    495\n",
       "        ... \n",
       "181.0      1\n",
       "177.0      1\n",
       "180.0      1\n",
       "45.0       1\n",
       "193.0      1\n",
       "Name: co2_emission, Length: 257, dtype: int64"
      ]
     },
     "execution_count": 82,
     "metadata": {},
     "output_type": "execute_result"
    }
   ],
   "source": [
    "df[\"co2_emission\"].value_counts(dropna=False)"
   ]
  },
  {
   "cell_type": "code",
   "execution_count": 83,
   "metadata": {
    "id": "kO_ijdcKq7bG"
   },
   "outputs": [],
   "source": [
    "#df[\"co2_emission\"].fillna(df.groupby([\"fuel\"])[\"co2_emission\"].transform(lambda x:x.mean()),inplace=True)"
   ]
  },
  {
   "cell_type": "code",
   "execution_count": 84,
   "metadata": {
    "colab": {
     "base_uri": "https://localhost:8080/"
    },
    "id": "6B-OLJ4Lq7bG",
    "outputId": "5e66a508-d19f-4a6f-9108-fc8223b4bfd9"
   },
   "outputs": [
    {
     "data": {
      "text/plain": [
       "0"
      ]
     },
     "execution_count": 84,
     "metadata": {},
     "output_type": "execute_result"
    }
   ],
   "source": [
    "df[\"co2_emission\"].isnull().sum()"
   ]
  },
  {
   "cell_type": "markdown",
   "metadata": {
    "id": "7YJbw3Q8q7bH"
   },
   "source": [
    "## emission_class"
   ]
  },
  {
   "cell_type": "code",
   "execution_count": 85,
   "metadata": {
    "colab": {
     "base_uri": "https://localhost:8080/"
    },
    "id": "99FsTNFeq7bH",
    "outputId": "06a086cf-a105-4a22-ecad-b63448fc0a03"
   },
   "outputs": [
    {
     "data": {
      "text/plain": [
       "Euro 6          13035\n",
       "Euro 6d-TEMP     2463\n",
       "Euro 6c           199\n",
       "Euro 5             99\n",
       "Euro 6d            80\n",
       "Euro 4             43\n",
       "Name: emission_class, dtype: int64"
      ]
     },
     "execution_count": 85,
     "metadata": {},
     "output_type": "execute_result"
    }
   ],
   "source": [
    "df['emission_class'].value_counts(dropna=False)"
   ]
  },
  {
   "cell_type": "code",
   "execution_count": 86,
   "metadata": {
    "id": "yHlR4Vkhq7bH"
   },
   "outputs": [],
   "source": [
    "#df['emission_class'].replace(\"[]\", np.nan,inplace=True)"
   ]
  },
  {
   "cell_type": "code",
   "execution_count": 87,
   "metadata": {
    "colab": {
     "base_uri": "https://localhost:8080/"
    },
    "id": "ESaEaytuq7bH",
    "outputId": "646b0a03-cb9e-46e4-956e-c16a36a431f0"
   },
   "outputs": [
    {
     "data": {
      "text/plain": [
       "Euro 6          13035\n",
       "Euro 6d-TEMP     2463\n",
       "Euro 6c           199\n",
       "Euro 5             99\n",
       "Euro 6d            80\n",
       "Euro 4             43\n",
       "Name: emission_class, dtype: int64"
      ]
     },
     "execution_count": 87,
     "metadata": {},
     "output_type": "execute_result"
    }
   ],
   "source": [
    "df['emission_class'].value_counts(dropna=False)"
   ]
  },
  {
   "cell_type": "code",
   "execution_count": 88,
   "metadata": {
    "colab": {
     "base_uri": "https://localhost:8080/"
    },
    "id": "oD2KgKmbq7bH",
    "outputId": "1bfdca41-cd42-403f-9f71-5f484c5e6f3b"
   },
   "outputs": [],
   "source": [
    "#df.groupby(['fuel','age','emission_class'])['emission_class'].apply(lambda x:x.mode()[0])"
   ]
  },
  {
   "cell_type": "code",
   "execution_count": 89,
   "metadata": {
    "colab": {
     "base_uri": "https://localhost:8080/"
    },
    "id": "hYmS7uzUq7bI",
    "outputId": "66f46ea7-9a71-4650-b4b6-30babd57b2a8"
   },
   "outputs": [],
   "source": [
    "#df.groupby(['fuel','age','emission_class'])['emission_class'].transform(lambda x:x.mode()[0]).sample(50)"
   ]
  },
  {
   "cell_type": "code",
   "execution_count": 90,
   "metadata": {
    "id": "JzAlAUPvq7bI"
   },
   "outputs": [],
   "source": [
    "#df['emission_class'].fillna(df.groupby(['fuel','age','emission_class'])['emission_class'].transform(lambda x:x.mode()[0]),inplace=True)"
   ]
  },
  {
   "cell_type": "code",
   "execution_count": 91,
   "metadata": {
    "colab": {
     "base_uri": "https://localhost:8080/"
    },
    "id": "I-LIJWqhq7bI",
    "outputId": "17d7662e-daa3-4625-fad8-4fe4e212bb14"
   },
   "outputs": [
    {
     "data": {
      "text/plain": [
       "Euro 6          13035\n",
       "Euro 6d-TEMP     2463\n",
       "Euro 6c           199\n",
       "Euro 5             99\n",
       "Euro 6d            80\n",
       "Euro 4             43\n",
       "Name: emission_class, dtype: int64"
      ]
     },
     "execution_count": 91,
     "metadata": {},
     "output_type": "execute_result"
    }
   ],
   "source": [
    "df[\"emission_class\"].value_counts(dropna=False)"
   ]
  },
  {
   "cell_type": "code",
   "execution_count": 92,
   "metadata": {
    "id": "Rd6kOw-Uq7bI"
   },
   "outputs": [],
   "source": [
    "# for group1 in list(df['fuel'].unique()):\n",
    "#     for group2 in list(df['age'].unique()):\n",
    "#         cond2 = (df['fuel'] == group1) & (df['age'] == group2)\n",
    "#         df.loc[cond2,'emission_class'] = df.loc[cond2,'emission_class'].fillna(method=\"ffill\").fillna(method=\"bfill\")"
   ]
  },
  {
   "cell_type": "code",
   "execution_count": 93,
   "metadata": {
    "id": "9wHjW_PDq7bI"
   },
   "outputs": [],
   "source": [
    "# for group in list(df['fuel'].unique()):\n",
    "#     cond = df['fuel'] == group\n",
    "#     mode = list(df[cond]['emission_class'].mode())\n",
    "#     if mode != []:\n",
    "#         df.loc[cond,'emission_class'] = df.loc[cond,'emission_class'].fillna(df[cond]['emission_class'].mode()[0])\n",
    "#     else:\n",
    "#         df.loc[cond,'emission_class'] = df.loc[cond,'emission_class'].fillna(df['emission_class'].mode()[0])"
   ]
  },
  {
   "cell_type": "code",
   "execution_count": 94,
   "metadata": {
    "colab": {
     "base_uri": "https://localhost:8080/"
    },
    "id": "Q5Y9VQ5qq7bJ",
    "outputId": "7b43a1d9-eae1-4e5b-984b-806c6af2dc35"
   },
   "outputs": [
    {
     "data": {
      "text/plain": [
       "Euro 6          13035\n",
       "Euro 6d-TEMP     2463\n",
       "Euro 6c           199\n",
       "Euro 5             99\n",
       "Euro 6d            80\n",
       "Euro 4             43\n",
       "Name: emission_class, dtype: int64"
      ]
     },
     "execution_count": 94,
     "metadata": {},
     "output_type": "execute_result"
    }
   ],
   "source": [
    "df[\"emission_class\"].value_counts(dropna=False)"
   ]
  },
  {
   "cell_type": "markdown",
   "metadata": {
    "id": "gf5H2XhHq7bJ"
   },
   "source": [
    "## comfort_convenience"
   ]
  },
  {
   "cell_type": "code",
   "execution_count": 95,
   "metadata": {
    "id": "FPSRB0vZq7bJ"
   },
   "outputs": [],
   "source": [
    "# for x1 in list(df['make_model'].unique()):\n",
    "#     for x2 in list(df['body_type'].unique()):\n",
    "#         cond2 = (df[\"make_model\"] == x1)& (df[\"body_type\"]== x2)\n",
    "#         df.loc[cond2, 'comfort_convenience'] = df.loc[cond2, 'comfort_convenience'].fillna(method=\"ffill\").fillna(method=\"bfill\")\n",
    "# for x1 in list(df['make_model'].unique()):\n",
    "#         cond1 = (df[\"make_model\"] == x1)\n",
    "#         df.loc[cond1,'comfort_convenience'] = df.loc[cond1,'comfort_convenience'].fillna(method=\"ffill\").fillna(method=\"bfill\")\n",
    "\n",
    "# df['comfort_convenience'] = df['comfort_convenience'].fillna(method=\"ffill\").fillna(method=\"bfill\")"
   ]
  },
  {
   "cell_type": "code",
   "execution_count": 96,
   "metadata": {
    "colab": {
     "base_uri": "https://localhost:8080/"
    },
    "id": "so81DYm7q7bJ",
    "outputId": "01d4bfe5-50a2-43c9-bbc4-902a25923945"
   },
   "outputs": [
    {
     "data": {
      "text/plain": [
       "0"
      ]
     },
     "execution_count": 96,
     "metadata": {},
     "output_type": "execute_result"
    }
   ],
   "source": [
    "df.comfort_convenience.isnull().sum()"
   ]
  },
  {
   "cell_type": "markdown",
   "metadata": {
    "id": "1mPFgxkHq7bK"
   },
   "source": [
    "## entertainment_media"
   ]
  },
  {
   "cell_type": "code",
   "execution_count": 97,
   "metadata": {
    "id": "u7G1LFswq7bK"
   },
   "outputs": [],
   "source": [
    "# for group in list(df['make_model'].unique()):\n",
    "#     cond = df['make_model'] == group\n",
    "#     mode = list(df[cond]['entertainment_media'].mode())\n",
    "#     if mode != []:\n",
    "#         df.loc[cond,'entertainment_media'] = df.loc[cond,'entertainment_media'].fillna(df[cond]['entertainment_media'].mode()[0])\n",
    "#     else:\n",
    "#         df.loc[cond,'entertainment_media'] = df.loc[cond,'entertainment_media'].fillna(df['entertainment_media'].mode()[0])"
   ]
  },
  {
   "cell_type": "code",
   "execution_count": 98,
   "metadata": {
    "colab": {
     "base_uri": "https://localhost:8080/"
    },
    "id": "2p0cbqocq7bK",
    "outputId": "3bb2e7ea-a3c4-4281-d1cb-212b7205c860"
   },
   "outputs": [
    {
     "data": {
      "text/plain": [
       "0"
      ]
     },
     "execution_count": 98,
     "metadata": {},
     "output_type": "execute_result"
    }
   ],
   "source": [
    "df.entertainment_media.isnull().sum()"
   ]
  },
  {
   "cell_type": "markdown",
   "metadata": {
    "id": "g9CM9ZDlq7bK"
   },
   "source": [
    "## extras"
   ]
  },
  {
   "cell_type": "code",
   "execution_count": 99,
   "metadata": {
    "colab": {
     "base_uri": "https://localhost:8080/"
    },
    "id": "DP_xoUf5q7bQ",
    "outputId": "f489ce3c-5374-44d5-ea89-05e76e24d8da"
   },
   "outputs": [
    {
     "data": {
      "text/plain": [
       "0"
      ]
     },
     "execution_count": 99,
     "metadata": {},
     "output_type": "execute_result"
    }
   ],
   "source": [
    "df['extras'].isnull().sum()"
   ]
  },
  {
   "cell_type": "code",
   "execution_count": 100,
   "metadata": {
    "id": "nmcZsh8Uq7bR"
   },
   "outputs": [],
   "source": [
    "# for group1 in list(df[\"make_model\"].unique()):\n",
    "#     for group2 in list(df[\"body_type\"].unique()):\n",
    "#         cond1 = df[\"make_model\"]==group1\n",
    "#         cond2 = (df[\"make_model\"]==group1) & (df[\"body_type\"]==group2)\n",
    "#         mode1 = list(df[cond1]['extras'].mode())\n",
    "#         mode2 = list(df[cond2]['extras'].mode())\n",
    "#         if mode2 != []:\n",
    "#             df.loc[cond2,'extras'] = df.loc[cond2, 'extras'].fillna(df[cond2]['extras'].mode()[0])\n",
    "#         elif mode1 != []:\n",
    "#             df.loc[cond2, 'extras'] = df.loc[cond2,'extras'].fillna(df[cond1]['extras'].mode()[0])\n",
    "#         else:\n",
    "#             df.loc[cond2, 'extras'] = df.loc[cond2, 'extras'].fillna(df['extras'].mode()[0])"
   ]
  },
  {
   "cell_type": "code",
   "execution_count": 101,
   "metadata": {
    "colab": {
     "base_uri": "https://localhost:8080/"
    },
    "id": "Z-SJbJLEq7bR",
    "outputId": "0885db53-b470-499f-e6e9-f2484114f38f"
   },
   "outputs": [
    {
     "data": {
      "text/plain": [
       "0"
      ]
     },
     "execution_count": 101,
     "metadata": {},
     "output_type": "execute_result"
    }
   ],
   "source": [
    "df['extras'].isnull().sum()"
   ]
  },
  {
   "cell_type": "code",
   "execution_count": 102,
   "metadata": {
    "id": "yl57igtsq7bS"
   },
   "outputs": [],
   "source": [
    "# df['extras']=df['extras'].fillna(df.groupby('make_model')['extras'].transform(lambda x : x.mode()[0]))"
   ]
  },
  {
   "cell_type": "code",
   "execution_count": 103,
   "metadata": {
    "colab": {
     "base_uri": "https://localhost:8080/"
    },
    "id": "-qCjgeXRq7bS",
    "outputId": "974dd7c1-a7eb-44ee-9c7a-ff09ea681390"
   },
   "outputs": [
    {
     "data": {
      "text/plain": [
       "0"
      ]
     },
     "execution_count": 103,
     "metadata": {},
     "output_type": "execute_result"
    }
   ],
   "source": [
    "df['extras'].isnull().sum()"
   ]
  },
  {
   "cell_type": "markdown",
   "metadata": {
    "id": "VPnVLciHq7bT"
   },
   "source": [
    "## safety_security"
   ]
  },
  {
   "cell_type": "code",
   "execution_count": 104,
   "metadata": {
    "colab": {
     "base_uri": "https://localhost:8080/"
    },
    "id": "v9veQQ_zq7bU",
    "outputId": "39c135d8-1ba6-41a4-b888-404f2a43aeb7"
   },
   "outputs": [
    {
     "data": {
      "text/plain": [
       "0"
      ]
     },
     "execution_count": 104,
     "metadata": {},
     "output_type": "execute_result"
    }
   ],
   "source": [
    "df[\"safety_security\"].isnull().sum()"
   ]
  },
  {
   "cell_type": "code",
   "execution_count": 105,
   "metadata": {
    "id": "BNIVJLv7q7bV"
   },
   "outputs": [],
   "source": [
    "# for group1 in list(df[\"make_model\"].unique()):\n",
    "#     for group2 in list(df[\"body_type\"].unique()):\n",
    "#         cond2 = (df[\"make_model\"]==group1) & (df[\"body_type\"]==group2)\n",
    "#         df.loc[cond2, \"safety_security\"] = df.loc[cond2, \"safety_security\"].fillna(method=\"ffill\").fillna(method=\"bfill\")"
   ]
  },
  {
   "cell_type": "code",
   "execution_count": 106,
   "metadata": {
    "colab": {
     "base_uri": "https://localhost:8080/"
    },
    "id": "tCRUqIJvq7bV",
    "outputId": "49982d20-b1e8-48af-a6d7-4431f448c65d"
   },
   "outputs": [
    {
     "data": {
      "text/plain": [
       "0"
      ]
     },
     "execution_count": 106,
     "metadata": {},
     "output_type": "execute_result"
    }
   ],
   "source": [
    "df[\"safety_security\"].isnull().sum()"
   ]
  },
  {
   "cell_type": "markdown",
   "metadata": {
    "id": "cqpzYagWq7bV"
   },
   "source": [
    "## gears"
   ]
  },
  {
   "cell_type": "code",
   "execution_count": 107,
   "metadata": {
    "colab": {
     "base_uri": "https://localhost:8080/"
    },
    "id": "q3f-Ntc5q7bW",
    "outputId": "0378a6c4-2df0-4165-d9ca-8e86bbb0a0c6"
   },
   "outputs": [
    {
     "data": {
      "text/plain": [
       "6    8410\n",
       "5    5364\n",
       "7    1908\n",
       "8     224\n",
       "9       6\n",
       "1       2\n",
       "3       2\n",
       "4       2\n",
       "2       1\n",
       "Name: gears, dtype: int64"
      ]
     },
     "execution_count": 107,
     "metadata": {},
     "output_type": "execute_result"
    }
   ],
   "source": [
    "df.gears.value_counts(dropna=False)"
   ]
  },
  {
   "cell_type": "code",
   "execution_count": 108,
   "metadata": {
    "colab": {
     "base_uri": "https://localhost:8080/"
    },
    "id": "sDXzsmn0q7bW",
    "outputId": "6cdb1f4e-ac63-4bca-c7f3-74b21e8a9c17"
   },
   "outputs": [],
   "source": [
    "# df.groupby([\"make_model\",\"displacement\",\"cylinders\"])[\"gears\"].apply(lambda x:x.mode())"
   ]
  },
  {
   "cell_type": "code",
   "execution_count": 109,
   "metadata": {
    "id": "6Vs7dndPq7bW"
   },
   "outputs": [],
   "source": [
    "# df.gears.fillna(df.groupby([\"make_model\",\"displacement\",\"cylinders\"])[\"gears\"].transform(lambda x:x.mode()),inplace=True)"
   ]
  },
  {
   "cell_type": "code",
   "execution_count": 110,
   "metadata": {
    "colab": {
     "base_uri": "https://localhost:8080/"
    },
    "id": "OtwMW_fBq7bW",
    "outputId": "bb8ae379-b47b-4048-aa05-e0becb8b6b32"
   },
   "outputs": [
    {
     "data": {
      "text/plain": [
       "0"
      ]
     },
     "execution_count": 110,
     "metadata": {},
     "output_type": "execute_result"
    }
   ],
   "source": [
    "df.gears.isnull().sum()"
   ]
  },
  {
   "cell_type": "code",
   "execution_count": 111,
   "metadata": {
    "id": "uWrXhfEYq7bW"
   },
   "outputs": [],
   "source": [
    "# df.gears.fillna(df.groupby([\"displacement\",\"cylinders\"])[\"gears\"].transform(lambda x:x.mode()),inplace=True)"
   ]
  },
  {
   "cell_type": "code",
   "execution_count": 112,
   "metadata": {
    "colab": {
     "base_uri": "https://localhost:8080/"
    },
    "id": "cNIjYU6kq7bX",
    "outputId": "6121c824-bb8a-47e3-99fa-a401c1a5646b"
   },
   "outputs": [
    {
     "data": {
      "text/plain": [
       "0"
      ]
     },
     "execution_count": 112,
     "metadata": {},
     "output_type": "execute_result"
    }
   ],
   "source": [
    "df.gears.isnull().sum()"
   ]
  },
  {
   "cell_type": "code",
   "execution_count": 113,
   "metadata": {
    "id": "HD6TNEnoq7bX"
   },
   "outputs": [],
   "source": [
    "# for group in list(df['make_model'].unique()):\n",
    "#     cond = df['make_model'] == group\n",
    "#     mode = list(df[cond]['gears'].mode())\n",
    "#     if mode != []:\n",
    "#         df.loc[cond,'gears'] = df.loc[cond,'gears'].fillna(df[cond]['gears'].mode()[0])\n",
    "#     else:\n",
    "#         df.loc[cond,'gears'] = df.loc[cond,'gears'].fillna(df['gears'].mode()[0])"
   ]
  },
  {
   "cell_type": "code",
   "execution_count": 114,
   "metadata": {
    "colab": {
     "base_uri": "https://localhost:8080/"
    },
    "id": "eAZ8qhIQq7bX",
    "outputId": "ecb62987-e788-4e91-d009-def344c302ab"
   },
   "outputs": [
    {
     "data": {
      "text/plain": [
       "0"
      ]
     },
     "execution_count": 114,
     "metadata": {},
     "output_type": "execute_result"
    }
   ],
   "source": [
    "df.gears.isnull().sum()"
   ]
  },
  {
   "cell_type": "markdown",
   "metadata": {
    "id": "8xEemrIzq7bX"
   },
   "source": [
    "## upholstery_type"
   ]
  },
  {
   "cell_type": "code",
   "execution_count": 115,
   "metadata": {
    "id": "GmDGcLn8q7bX"
   },
   "outputs": [],
   "source": [
    "# for group1 in list(df[\"make_model\"].unique()):\n",
    "#     for group2 in list(df[\"body_type\"].unique()):\n",
    "#         cond2 = (df[\"make_model\"]==group1) & (df[\"body_type\"]==group2)\n",
    "#         df.loc[cond2, \"upholstery_type\"] = df.loc[cond2, \"upholstery_type\"].fillna(method=\"ffill\").fillna(method=\"bfill\")"
   ]
  },
  {
   "cell_type": "code",
   "execution_count": 116,
   "metadata": {
    "id": "sPtHq-tOq7bY"
   },
   "outputs": [],
   "source": [
    "# for group1 in list(df[\"make_model\"].unique()):\n",
    "#     cond1 = df[\"make_model\"]==group1\n",
    "#     df.loc[cond1, \"upholstery_type\"] = df.loc[cond1, \"upholstery_type\"].fillna(method=\"ffill\").fillna(method=\"bfill\")"
   ]
  },
  {
   "cell_type": "code",
   "execution_count": 117,
   "metadata": {
    "colab": {
     "base_uri": "https://localhost:8080/"
    },
    "id": "NWoVWXF2q7bY",
    "outputId": "09664ffc-7a3e-485f-c50a-d98eafcb5205"
   },
   "outputs": [
    {
     "data": {
      "text/plain": [
       "0"
      ]
     },
     "execution_count": 117,
     "metadata": {},
     "output_type": "execute_result"
    }
   ],
   "source": [
    "df[\"upholstery_type\"].isnull().sum()"
   ]
  },
  {
   "cell_type": "markdown",
   "metadata": {
    "id": "i4OGqDieq7bY"
   },
   "source": [
    "## upholstery_colour"
   ]
  },
  {
   "cell_type": "code",
   "execution_count": 118,
   "metadata": {
    "colab": {
     "base_uri": "https://localhost:8080/"
    },
    "id": "MhlHakkKq7bY",
    "outputId": "b6f76171-b019-4cdf-d501-cd35675abd61"
   },
   "outputs": [
    {
     "data": {
      "text/plain": [
       "0"
      ]
     },
     "execution_count": 118,
     "metadata": {},
     "output_type": "execute_result"
    }
   ],
   "source": [
    "df[\"upholstery_color\"].isnull().sum()"
   ]
  },
  {
   "cell_type": "code",
   "execution_count": 119,
   "metadata": {
    "id": "4hiGksN8q7bY"
   },
   "outputs": [],
   "source": [
    "# for group1 in list(df[\"make_model\"].unique()):\n",
    "#     for group2 in list(df[\"body_type\"].unique()):\n",
    "#         cond2 = (df[\"make_model\"]==group1) & (df[\"body_type\"]==group2)\n",
    "#         df.loc[cond2, 'upholstery_color'] = df.loc[cond2, 'upholstery_color'].fillna(method=\"ffill\").fillna(method=\"bfill\")"
   ]
  },
  {
   "cell_type": "code",
   "execution_count": 120,
   "metadata": {
    "id": "ix_2X0xAq7bY"
   },
   "outputs": [],
   "source": [
    "# for group1 in list(df[\"make_model\"].unique()):\n",
    "#     cond1 = df[\"make_model\"]==group1\n",
    "#     df.loc[cond1, 'upholstery_color'] = df.loc[cond1, 'upholstery_color'].fillna(method=\"ffill\").fillna(method=\"bfill\")"
   ]
  },
  {
   "cell_type": "code",
   "execution_count": 121,
   "metadata": {
    "colab": {
     "base_uri": "https://localhost:8080/"
    },
    "id": "ks_lOnzTyrdZ",
    "outputId": "23f22dcb-1de9-4f61-fca5-1923735a1e63"
   },
   "outputs": [
    {
     "data": {
      "text/plain": [
       "0"
      ]
     },
     "execution_count": 121,
     "metadata": {},
     "output_type": "execute_result"
    }
   ],
   "source": [
    "df[\"upholstery_color\"].isnull().sum()"
   ]
  },
  {
   "cell_type": "markdown",
   "metadata": {
    "id": "UrA8XmuFq7bY"
   },
   "source": [
    "## weight_kg"
   ]
  },
  {
   "cell_type": "code",
   "execution_count": 122,
   "metadata": {
    "id": "lu8dojT7q7bZ"
   },
   "outputs": [],
   "source": [
    "# for group1 in list(df[\"make_model\"].unique()):\n",
    "#     for group2 in list(df[\"body_type\"].unique()):\n",
    "#         cond2 = (df[\"make_model\"]==group1) & (df[\"body_type\"]==group2)\n",
    "#         df.loc[cond2, \"weight\"] = df.loc[cond2, \"weight\"].fillna(method=\"ffill\").fillna(method=\"bfill\")"
   ]
  },
  {
   "cell_type": "code",
   "execution_count": 123,
   "metadata": {
    "id": "kgNb5Chqq7bZ"
   },
   "outputs": [],
   "source": [
    "# for group1 in list(df[\"make_model\"].unique()):\n",
    "#     cond1 = df[\"make_model\"]==group1\n",
    "#     df.loc[cond1, \"weight\"] = df.loc[cond1, \"weight\"].fillna(method=\"ffill\").fillna(method=\"bfill\")"
   ]
  },
  {
   "cell_type": "code",
   "execution_count": 124,
   "metadata": {
    "id": "1V2maW8Uq7bZ"
   },
   "outputs": [],
   "source": [
    "# for group1 in list(df[\"make_model\"].unique()):\n",
    "#     cond1 = df[\"make_model\"]==group1\n",
    "#     df.loc[cond1, \"weight\"] = df.loc[cond1, \"weight\"].fillna(df[\"weight\"].mode()[0])"
   ]
  },
  {
   "cell_type": "code",
   "execution_count": 125,
   "metadata": {
    "colab": {
     "base_uri": "https://localhost:8080/"
    },
    "id": "MOMGar66zEsS",
    "outputId": "46fbc663-716f-44f4-b7ef-500bfd95df14"
   },
   "outputs": [
    {
     "ename": "KeyError",
     "evalue": "'weight'",
     "output_type": "error",
     "traceback": [
      "\u001b[1;31m---------------------------------------------------------------------------\u001b[0m",
      "\u001b[1;31mKeyError\u001b[0m                                  Traceback (most recent call last)",
      "\u001b[1;32mC:\\Program Files\\Python39\\lib\\site-packages\\pandas\\core\\indexes\\base.py\u001b[0m in \u001b[0;36mget_loc\u001b[1;34m(self, key, method, tolerance)\u001b[0m\n\u001b[0;32m   3360\u001b[0m             \u001b[1;32mtry\u001b[0m\u001b[1;33m:\u001b[0m\u001b[1;33m\u001b[0m\u001b[1;33m\u001b[0m\u001b[0m\n\u001b[1;32m-> 3361\u001b[1;33m                 \u001b[1;32mreturn\u001b[0m \u001b[0mself\u001b[0m\u001b[1;33m.\u001b[0m\u001b[0m_engine\u001b[0m\u001b[1;33m.\u001b[0m\u001b[0mget_loc\u001b[0m\u001b[1;33m(\u001b[0m\u001b[0mcasted_key\u001b[0m\u001b[1;33m)\u001b[0m\u001b[1;33m\u001b[0m\u001b[1;33m\u001b[0m\u001b[0m\n\u001b[0m\u001b[0;32m   3362\u001b[0m             \u001b[1;32mexcept\u001b[0m \u001b[0mKeyError\u001b[0m \u001b[1;32mas\u001b[0m \u001b[0merr\u001b[0m\u001b[1;33m:\u001b[0m\u001b[1;33m\u001b[0m\u001b[1;33m\u001b[0m\u001b[0m\n",
      "\u001b[1;32mC:\\Program Files\\Python39\\lib\\site-packages\\pandas\\_libs\\index.pyx\u001b[0m in \u001b[0;36mpandas._libs.index.IndexEngine.get_loc\u001b[1;34m()\u001b[0m\n",
      "\u001b[1;32mC:\\Program Files\\Python39\\lib\\site-packages\\pandas\\_libs\\index.pyx\u001b[0m in \u001b[0;36mpandas._libs.index.IndexEngine.get_loc\u001b[1;34m()\u001b[0m\n",
      "\u001b[1;32mpandas\\_libs\\hashtable_class_helper.pxi\u001b[0m in \u001b[0;36mpandas._libs.hashtable.PyObjectHashTable.get_item\u001b[1;34m()\u001b[0m\n",
      "\u001b[1;32mpandas\\_libs\\hashtable_class_helper.pxi\u001b[0m in \u001b[0;36mpandas._libs.hashtable.PyObjectHashTable.get_item\u001b[1;34m()\u001b[0m\n",
      "\u001b[1;31mKeyError\u001b[0m: 'weight'",
      "\nThe above exception was the direct cause of the following exception:\n",
      "\u001b[1;31mKeyError\u001b[0m                                  Traceback (most recent call last)",
      "\u001b[1;32m~\\AppData\\Local\\Temp/ipykernel_10316/316918743.py\u001b[0m in \u001b[0;36m<module>\u001b[1;34m\u001b[0m\n\u001b[1;32m----> 1\u001b[1;33m \u001b[0mdf\u001b[0m\u001b[1;33m[\u001b[0m\u001b[1;34m\"weight\"\u001b[0m\u001b[1;33m]\u001b[0m\u001b[1;33m.\u001b[0m\u001b[0misna\u001b[0m\u001b[1;33m(\u001b[0m\u001b[1;33m)\u001b[0m\u001b[1;33m.\u001b[0m\u001b[0msum\u001b[0m\u001b[1;33m(\u001b[0m\u001b[1;33m)\u001b[0m\u001b[1;33m\u001b[0m\u001b[1;33m\u001b[0m\u001b[0m\n\u001b[0m",
      "\u001b[1;32mC:\\Program Files\\Python39\\lib\\site-packages\\pandas\\core\\frame.py\u001b[0m in \u001b[0;36m__getitem__\u001b[1;34m(self, key)\u001b[0m\n\u001b[0;32m   3456\u001b[0m             \u001b[1;32mif\u001b[0m \u001b[0mself\u001b[0m\u001b[1;33m.\u001b[0m\u001b[0mcolumns\u001b[0m\u001b[1;33m.\u001b[0m\u001b[0mnlevels\u001b[0m \u001b[1;33m>\u001b[0m \u001b[1;36m1\u001b[0m\u001b[1;33m:\u001b[0m\u001b[1;33m\u001b[0m\u001b[1;33m\u001b[0m\u001b[0m\n\u001b[0;32m   3457\u001b[0m                 \u001b[1;32mreturn\u001b[0m \u001b[0mself\u001b[0m\u001b[1;33m.\u001b[0m\u001b[0m_getitem_multilevel\u001b[0m\u001b[1;33m(\u001b[0m\u001b[0mkey\u001b[0m\u001b[1;33m)\u001b[0m\u001b[1;33m\u001b[0m\u001b[1;33m\u001b[0m\u001b[0m\n\u001b[1;32m-> 3458\u001b[1;33m             \u001b[0mindexer\u001b[0m \u001b[1;33m=\u001b[0m \u001b[0mself\u001b[0m\u001b[1;33m.\u001b[0m\u001b[0mcolumns\u001b[0m\u001b[1;33m.\u001b[0m\u001b[0mget_loc\u001b[0m\u001b[1;33m(\u001b[0m\u001b[0mkey\u001b[0m\u001b[1;33m)\u001b[0m\u001b[1;33m\u001b[0m\u001b[1;33m\u001b[0m\u001b[0m\n\u001b[0m\u001b[0;32m   3459\u001b[0m             \u001b[1;32mif\u001b[0m \u001b[0mis_integer\u001b[0m\u001b[1;33m(\u001b[0m\u001b[0mindexer\u001b[0m\u001b[1;33m)\u001b[0m\u001b[1;33m:\u001b[0m\u001b[1;33m\u001b[0m\u001b[1;33m\u001b[0m\u001b[0m\n\u001b[0;32m   3460\u001b[0m                 \u001b[0mindexer\u001b[0m \u001b[1;33m=\u001b[0m \u001b[1;33m[\u001b[0m\u001b[0mindexer\u001b[0m\u001b[1;33m]\u001b[0m\u001b[1;33m\u001b[0m\u001b[1;33m\u001b[0m\u001b[0m\n",
      "\u001b[1;32mC:\\Program Files\\Python39\\lib\\site-packages\\pandas\\core\\indexes\\base.py\u001b[0m in \u001b[0;36mget_loc\u001b[1;34m(self, key, method, tolerance)\u001b[0m\n\u001b[0;32m   3361\u001b[0m                 \u001b[1;32mreturn\u001b[0m \u001b[0mself\u001b[0m\u001b[1;33m.\u001b[0m\u001b[0m_engine\u001b[0m\u001b[1;33m.\u001b[0m\u001b[0mget_loc\u001b[0m\u001b[1;33m(\u001b[0m\u001b[0mcasted_key\u001b[0m\u001b[1;33m)\u001b[0m\u001b[1;33m\u001b[0m\u001b[1;33m\u001b[0m\u001b[0m\n\u001b[0;32m   3362\u001b[0m             \u001b[1;32mexcept\u001b[0m \u001b[0mKeyError\u001b[0m \u001b[1;32mas\u001b[0m \u001b[0merr\u001b[0m\u001b[1;33m:\u001b[0m\u001b[1;33m\u001b[0m\u001b[1;33m\u001b[0m\u001b[0m\n\u001b[1;32m-> 3363\u001b[1;33m                 \u001b[1;32mraise\u001b[0m \u001b[0mKeyError\u001b[0m\u001b[1;33m(\u001b[0m\u001b[0mkey\u001b[0m\u001b[1;33m)\u001b[0m \u001b[1;32mfrom\u001b[0m \u001b[0merr\u001b[0m\u001b[1;33m\u001b[0m\u001b[1;33m\u001b[0m\u001b[0m\n\u001b[0m\u001b[0;32m   3364\u001b[0m \u001b[1;33m\u001b[0m\u001b[0m\n\u001b[0;32m   3365\u001b[0m         \u001b[1;32mif\u001b[0m \u001b[0mis_scalar\u001b[0m\u001b[1;33m(\u001b[0m\u001b[0mkey\u001b[0m\u001b[1;33m)\u001b[0m \u001b[1;32mand\u001b[0m \u001b[0misna\u001b[0m\u001b[1;33m(\u001b[0m\u001b[0mkey\u001b[0m\u001b[1;33m)\u001b[0m \u001b[1;32mand\u001b[0m \u001b[1;32mnot\u001b[0m \u001b[0mself\u001b[0m\u001b[1;33m.\u001b[0m\u001b[0mhasnans\u001b[0m\u001b[1;33m:\u001b[0m\u001b[1;33m\u001b[0m\u001b[1;33m\u001b[0m\u001b[0m\n",
      "\u001b[1;31mKeyError\u001b[0m: 'weight'"
     ]
    }
   ],
   "source": [
    "df[\"weight\"].isna().sum()"
   ]
  },
  {
   "cell_type": "code",
   "execution_count": null,
   "metadata": {
    "id": "SW2zm0t9zKPO"
   },
   "outputs": [],
   "source": [
    "# df[\"weight_kg\"]=df[\"weight\"]"
   ]
  },
  {
   "cell_type": "code",
   "execution_count": null,
   "metadata": {
    "colab": {
     "base_uri": "https://localhost:8080/"
    },
    "id": "-6K0OUnzzPd9",
    "outputId": "29b627dc-91d7-4f70-870e-bce534fe65c4"
   },
   "outputs": [],
   "source": [
    "df.columns"
   ]
  },
  {
   "cell_type": "code",
   "execution_count": null,
   "metadata": {
    "id": "_rVHK8y4zT6q"
   },
   "outputs": [],
   "source": [
    "# df.drop(\"weight\",axis=1,inplace=True)"
   ]
  },
  {
   "cell_type": "code",
   "execution_count": null,
   "metadata": {
    "colab": {
     "base_uri": "https://localhost:8080/"
    },
    "id": "vI5PCwlEzcIP",
    "outputId": "bc1d20b5-7040-4c9b-8908-dcda46289a43"
   },
   "outputs": [],
   "source": [
    "df.columns"
   ]
  },
  {
   "cell_type": "markdown",
   "metadata": {
    "id": "syLra1R-q7bZ"
   },
   "source": [
    "## consumption_comb"
   ]
  },
  {
   "cell_type": "code",
   "execution_count": null,
   "metadata": {
    "colab": {
     "base_uri": "https://localhost:8080/",
     "height": 974
    },
    "id": "2lRm4osNq7bZ",
    "outputId": "ccf08217-8f59-4c2e-b4d4-27a380f05e33"
   },
   "outputs": [],
   "source": [
    "# df[df['consumption_country']=='n']"
   ]
  },
  {
   "cell_type": "code",
   "execution_count": null,
   "metadata": {
    "id": "4vEEVbdEq7bZ"
   },
   "outputs": [],
   "source": [
    "# df['consumption_country'].replace('n',np.nan,inplace=True)"
   ]
  },
  {
   "cell_type": "code",
   "execution_count": null,
   "metadata": {
    "id": "2pZm-iJ2q7bZ"
   },
   "outputs": [],
   "source": [
    "# df['consumption_country']=df['consumption_country'].astype(float)"
   ]
  },
  {
   "cell_type": "code",
   "execution_count": null,
   "metadata": {
    "colab": {
     "base_uri": "https://localhost:8080/"
    },
    "id": "gQDAOKSZq7ba",
    "outputId": "a83d6719-fcf0-41bc-b053-6dc85b692025"
   },
   "outputs": [],
   "source": [
    "# df.citycountrymean=(df['consumption_country']+df['consumption_city'])/2"
   ]
  },
  {
   "cell_type": "code",
   "execution_count": null,
   "metadata": {
    "colab": {
     "base_uri": "https://localhost:8080/"
    },
    "id": "9WKZzLVuq7ba",
    "outputId": "dbb407e6-5ee2-45b9-8546-22808cfbe133"
   },
   "outputs": [],
   "source": [
    "df.citycountrymean.value_counts(dropna=False)"
   ]
  },
  {
   "cell_type": "code",
   "execution_count": null,
   "metadata": {
    "id": "3L-JEezrq7ba"
   },
   "outputs": [],
   "source": [
    "# df['consumption_comb'].fillna(df.citycountrymean,inplace=True)"
   ]
  },
  {
   "cell_type": "code",
   "execution_count": null,
   "metadata": {
    "colab": {
     "base_uri": "https://localhost:8080/"
    },
    "id": "EVaS2Xqlq7ba",
    "outputId": "a2e87b72-d7ea-405f-b1bf-e902f5671bd5"
   },
   "outputs": [],
   "source": [
    "df['consumption_comb'].value_counts(dropna=False)"
   ]
  },
  {
   "cell_type": "code",
   "execution_count": null,
   "metadata": {
    "colab": {
     "base_uri": "https://localhost:8080/"
    },
    "id": "fiXnsAXsq7ba",
    "outputId": "ff541e53-9c94-44b7-d04a-5e34b1ed63e1"
   },
   "outputs": [],
   "source": [
    "# df.groupby(['make_model',\"gearing_type\",\"displacement\"])['consumption_comb'].transform(\"mean\").round(2)"
   ]
  },
  {
   "cell_type": "code",
   "execution_count": null,
   "metadata": {
    "id": "VGsZazhTq7bb"
   },
   "outputs": [],
   "source": [
    "# df['consumption_comb'].fillna(df.groupby(['make_model',\"gearing_type\",\"displacement\"])['consumption_comb'].transform(\"mean\").round(2),inplace=True)"
   ]
  },
  {
   "cell_type": "code",
   "execution_count": null,
   "metadata": {
    "colab": {
     "base_uri": "https://localhost:8080/"
    },
    "id": "TwaJX6BQq7bb",
    "outputId": "2c97d245-1684-4251-c1a7-778338ae19ef"
   },
   "outputs": [],
   "source": [
    "df['consumption_comb'].value_counts(dropna=False)"
   ]
  },
  {
   "cell_type": "code",
   "execution_count": null,
   "metadata": {
    "id": "17rzoboDq7bb"
   },
   "outputs": [],
   "source": [
    "# df['consumption_comb'].fillna(df.groupby(['make_model',\"gearing_type\"])['consumption_comb'].transform(\"mean\").round(2),inplace=True)"
   ]
  },
  {
   "cell_type": "code",
   "execution_count": null,
   "metadata": {
    "colab": {
     "base_uri": "https://localhost:8080/"
    },
    "id": "uKcnQ74iq7bc",
    "outputId": "690ae83a-74b4-46d0-c4c1-4847d2fdfc5d",
    "scrolled": true
   },
   "outputs": [],
   "source": [
    "df['consumption_comb'].value_counts(dropna=False)"
   ]
  },
  {
   "cell_type": "code",
   "execution_count": null,
   "metadata": {
    "colab": {
     "base_uri": "https://localhost:8080/"
    },
    "id": "hG95WXF_q7bd",
    "outputId": "ebfc4f15-6fe6-4fce-9be9-020b949ec5ba"
   },
   "outputs": [],
   "source": [
    "df.consumption_comb.isnull().sum()"
   ]
  },
  {
   "cell_type": "markdown",
   "metadata": {
    "id": "DW41UBxNq7be"
   },
   "source": [
    "## consumption_city"
   ]
  },
  {
   "cell_type": "code",
   "execution_count": null,
   "metadata": {
    "id": "M6_JtaSVq7be"
   },
   "outputs": [],
   "source": [
    "# df['consumption_city'].fillna(df.groupby(['make_model',\"gearing_type\",\"displacement\"])['consumption_city'].transform(\"mean\").round(2),inplace=True)"
   ]
  },
  {
   "cell_type": "code",
   "execution_count": null,
   "metadata": {
    "colab": {
     "base_uri": "https://localhost:8080/"
    },
    "id": "PgZJD-0Iq7bf",
    "outputId": "ac9cb59a-c909-4436-ee9d-f41bc01ee017"
   },
   "outputs": [],
   "source": [
    "df['consumption_city'].value_counts(dropna=False)"
   ]
  },
  {
   "cell_type": "code",
   "execution_count": null,
   "metadata": {
    "colab": {
     "base_uri": "https://localhost:8080/"
    },
    "id": "OZesOYHXq7bg",
    "outputId": "e5671baf-3c7c-47d2-f74c-a439ba36866b"
   },
   "outputs": [],
   "source": [
    "# df.groupby(['make_model',\"gearing_type\"])['consumption_city'].apply(lambda x:x.mean())"
   ]
  },
  {
   "cell_type": "code",
   "execution_count": null,
   "metadata": {
    "id": "bctFRJccq7bh"
   },
   "outputs": [],
   "source": [
    "# df['consumption_city'].fillna(df.groupby(['make_model',\"gearing_type\"])['consumption_city'].transform(\"mean\").round(2),inplace=True)"
   ]
  },
  {
   "cell_type": "code",
   "execution_count": null,
   "metadata": {
    "colab": {
     "base_uri": "https://localhost:8080/"
    },
    "id": "0W-gTByxq7bi",
    "outputId": "f071ba15-15a6-4d05-de77-3b7dc8c25385"
   },
   "outputs": [],
   "source": [
    "df['consumption_city'].value_counts(dropna=False)"
   ]
  },
  {
   "cell_type": "code",
   "execution_count": null,
   "metadata": {
    "colab": {
     "base_uri": "https://localhost:8080/"
    },
    "id": "JhMQmd4Uq7bj",
    "outputId": "95511139-c3fa-4612-ef8d-9303993a7234"
   },
   "outputs": [],
   "source": [
    "df['consumption_city'].isnull().sum()"
   ]
  },
  {
   "cell_type": "markdown",
   "metadata": {
    "id": "7bdYvn2wq7bk"
   },
   "source": [
    "## consumption_country"
   ]
  },
  {
   "cell_type": "code",
   "execution_count": null,
   "metadata": {
    "colab": {
     "base_uri": "https://localhost:8080/"
    },
    "id": "bAEgUoheq7bk",
    "outputId": "ff5da64e-ed4a-4886-fc6c-e8537bdab0f6"
   },
   "outputs": [],
   "source": [
    "df['consumption_country'].value_counts(dropna=False)"
   ]
  },
  {
   "cell_type": "code",
   "execution_count": null,
   "metadata": {
    "id": "OiqC8Ttlq7bk"
   },
   "outputs": [],
   "source": [
    "# df['consumption_country'].fillna(df.groupby(['make_model',\"gearing_type\",\"displacement\"])['consumption_country'].transform(\"mean\").round(2),inplace=True)"
   ]
  },
  {
   "cell_type": "code",
   "execution_count": null,
   "metadata": {
    "colab": {
     "base_uri": "https://localhost:8080/"
    },
    "id": "TYtX9Ts0q7bl",
    "outputId": "7df27fa0-958c-4331-d2bd-2296a3d39033"
   },
   "outputs": [],
   "source": [
    "df['consumption_country'].value_counts(dropna=False)"
   ]
  },
  {
   "cell_type": "code",
   "execution_count": null,
   "metadata": {
    "colab": {
     "base_uri": "https://localhost:8080/"
    },
    "id": "1YdYEuWmq7bl",
    "outputId": "8ab41949-8168-47dd-83ac-5b3d346b3caa",
    "scrolled": true
   },
   "outputs": [],
   "source": [
    "# df.groupby(['make_model',\"gearing_type\"])['consumption_country'].apply(lambda x:x.mean())"
   ]
  },
  {
   "cell_type": "code",
   "execution_count": null,
   "metadata": {
    "id": "0AE3IpVrq7bl"
   },
   "outputs": [],
   "source": [
    "# df['consumption_country'].fillna(df.groupby(['make_model',\"gearing_type\"])['consumption_country'].transform(\"mean\").round(2),inplace=True)"
   ]
  },
  {
   "cell_type": "code",
   "execution_count": null,
   "metadata": {
    "colab": {
     "base_uri": "https://localhost:8080/"
    },
    "id": "gNR5KXr5q7bm",
    "outputId": "6a439978-dcec-46ea-96aa-79f7883a3c03"
   },
   "outputs": [],
   "source": [
    "df['consumption_country'].value_counts(dropna=False)"
   ]
  },
  {
   "cell_type": "code",
   "execution_count": null,
   "metadata": {
    "colab": {
     "base_uri": "https://localhost:8080/"
    },
    "id": "i2SJvwXiq7bm",
    "outputId": "b36e38dc-f75e-4ab7-a3f7-27797cd5ca1a"
   },
   "outputs": [],
   "source": [
    "df['consumption_country'].isnull().sum()"
   ]
  },
  {
   "cell_type": "code",
   "execution_count": null,
   "metadata": {
    "colab": {
     "base_uri": "https://localhost:8080/"
    },
    "id": "ghD1SVLT7PDk",
    "outputId": "3997318d-29d2-48d7-e124-dbd2c42872ed"
   },
   "outputs": [],
   "source": [
    "df.isnull().sum()"
   ]
  },
  {
   "cell_type": "code",
   "execution_count": null,
   "metadata": {
    "id": "pnkaAQqL2A5D"
   },
   "outputs": [],
   "source": [
    "# df.to_csv('19_04_2022_scout_car_filled.csv',index=False)"
   ]
  },
  {
   "cell_type": "markdown",
   "metadata": {
    "id": "KfUKW5qQq7bm"
   },
   "source": [
    "# PART- 3 `( Handling With Outliers )`"
   ]
  },
  {
   "cell_type": "code",
   "execution_count": null,
   "metadata": {},
   "outputs": [],
   "source": [
    "pwd"
   ]
  },
  {
   "cell_type": "code",
   "execution_count": 268,
   "metadata": {
    "id": "l0fVQzW_4BXV"
   },
   "outputs": [
    {
     "name": "stdout",
     "output_type": "stream",
     "text": [
      "<class 'pandas.core.frame.DataFrame'>\n",
      "RangeIndex: 15919 entries, 0 to 15918\n",
      "Data columns (total 31 columns):\n",
      " #   Column               Non-Null Count  Dtype  \n",
      "---  ------               --------------  -----  \n",
      " 0   make_model           15919 non-null  object \n",
      " 1   body_type            15919 non-null  object \n",
      " 2   price                15919 non-null  int64  \n",
      " 3   vat                  15919 non-null  object \n",
      " 4   km                   15919 non-null  int64  \n",
      " 5   age                  15919 non-null  int64  \n",
      " 6   hp_kw                15919 non-null  int64  \n",
      " 7   type                 15919 non-null  object \n",
      " 8   previous_owners      15919 non-null  int64  \n",
      " 9   body_color           15919 non-null  object \n",
      " 10  paint_type           15919 non-null  object \n",
      " 11  nr_of_doors          15919 non-null  int64  \n",
      " 12  nr_of_seats          15919 non-null  int64  \n",
      " 13  gearing_type         15919 non-null  object \n",
      " 14  displacement         15919 non-null  float64\n",
      " 15  cylinders            15919 non-null  float64\n",
      " 16  drive_chain          15919 non-null  object \n",
      " 17  fuel                 15919 non-null  object \n",
      " 18  co2_emission         15919 non-null  float64\n",
      " 19  emission_class       15919 non-null  object \n",
      " 20  comfort_convenience  15919 non-null  object \n",
      " 21  entertainment_media  15919 non-null  object \n",
      " 22  extras               15919 non-null  object \n",
      " 23  safety_security      15919 non-null  object \n",
      " 24  gears                15919 non-null  int64  \n",
      " 25  upholstery_type      15919 non-null  object \n",
      " 26  upholstery_color     15919 non-null  object \n",
      " 27  consumption_comb     15919 non-null  float64\n",
      " 28  consumption_city     15919 non-null  float64\n",
      " 29  consumption_country  15919 non-null  float64\n",
      " 30  weight_kg            15919 non-null  int64  \n",
      "dtypes: float64(6), int64(9), object(16)\n",
      "memory usage: 3.8+ MB\n"
     ]
    }
   ],
   "source": [
    "df.info()"
   ]
  },
  {
   "cell_type": "code",
   "execution_count": 269,
   "metadata": {
    "colab": {
     "base_uri": "https://localhost:8080/"
    },
    "id": "t2DJdc8a4Bac",
    "outputId": "5e3add91-5a05-4daf-9a46-ca3f27dff06c"
   },
   "outputs": [
    {
     "data": {
      "text/plain": [
       "make_model             0\n",
       "body_type              0\n",
       "price                  0\n",
       "vat                    0\n",
       "km                     0\n",
       "age                    0\n",
       "hp_kw                  0\n",
       "type                   0\n",
       "previous_owners        0\n",
       "body_color             0\n",
       "paint_type             0\n",
       "nr_of_doors            0\n",
       "nr_of_seats            0\n",
       "gearing_type           0\n",
       "displacement           0\n",
       "cylinders              0\n",
       "drive_chain            0\n",
       "fuel                   0\n",
       "co2_emission           0\n",
       "emission_class         0\n",
       "comfort_convenience    0\n",
       "entertainment_media    0\n",
       "extras                 0\n",
       "safety_security        0\n",
       "gears                  0\n",
       "upholstery_type        0\n",
       "upholstery_color       0\n",
       "consumption_comb       0\n",
       "consumption_city       0\n",
       "consumption_country    0\n",
       "weight_kg              0\n",
       "dtype: int64"
      ]
     },
     "execution_count": 269,
     "metadata": {},
     "output_type": "execute_result"
    }
   ],
   "source": [
    "df.isnull().sum()"
   ]
  },
  {
   "cell_type": "markdown",
   "metadata": {},
   "source": [
    "## price"
   ]
  },
  {
   "cell_type": "code",
   "execution_count": null,
   "metadata": {
    "colab": {
     "base_uri": "https://localhost:8080/",
     "height": 388
    },
    "id": "cI498IPj4BdR",
    "outputId": "d5ee4205-ded8-4fe8-c2ac-2fbf22c71ac9"
   },
   "outputs": [],
   "source": [
    "plt.figure(figsize = (10, 6))\n",
    "sns.boxplot(x = df.price);"
   ]
  },
  {
   "cell_type": "code",
   "execution_count": null,
   "metadata": {
    "colab": {
     "base_uri": "https://localhost:8080/",
     "height": 369
    },
    "id": "ZDJOBzgF4Bfv",
    "outputId": "e7bd64e7-2547-44bd-f92f-28165c7a1aa8"
   },
   "outputs": [],
   "source": [
    "sns.displot(df.price, bins = 50, kde = False);"
   ]
  },
  {
   "cell_type": "code",
   "execution_count": null,
   "metadata": {
    "colab": {
     "base_uri": "https://localhost:8080/"
    },
    "id": "jg1qSfrc4BjL",
    "outputId": "ca29c955-ec76-4b53-c9c4-3959ae02fe04"
   },
   "outputs": [],
   "source": [
    "df[\"price\"].sort_values().tail(30)"
   ]
  },
  {
   "cell_type": "code",
   "execution_count": null,
   "metadata": {},
   "outputs": [],
   "source": [
    "df[\"make_model\"].value_counts()"
   ]
  },
  {
   "cell_type": "code",
   "execution_count": null,
   "metadata": {},
   "outputs": [],
   "source": [
    "df.loc[3648]"
   ]
  },
  {
   "cell_type": "code",
   "execution_count": null,
   "metadata": {
    "colab": {
     "base_uri": "https://localhost:8080/"
    },
    "id": "CFA21uIO4Bls",
    "outputId": "f944f290-c155-4883-c567-8f7f661f82ea"
   },
   "outputs": [],
   "source": [
    "df.price.describe()"
   ]
  },
  {
   "cell_type": "code",
   "execution_count": null,
   "metadata": {
    "colab": {
     "base_uri": "https://localhost:8080/"
    },
    "id": "sgTcON1gHL63",
    "outputId": "50d6dd75-75ea-48c5-f458-eb3d8e4f5b98"
   },
   "outputs": [],
   "source": [
    "Q1 = df.price.describe()[4]\n",
    "Q1"
   ]
  },
  {
   "cell_type": "code",
   "execution_count": null,
   "metadata": {
    "colab": {
     "base_uri": "https://localhost:8080/"
    },
    "id": "uF0B0uJFHL-z",
    "outputId": "2e731510-b2b9-4db0-c195-e7334c7f135c"
   },
   "outputs": [],
   "source": [
    "Q3 = df.price.describe()[6]\n",
    "Q3"
   ]
  },
  {
   "cell_type": "code",
   "execution_count": null,
   "metadata": {
    "colab": {
     "base_uri": "https://localhost:8080/"
    },
    "id": "QHxL9oJSHMDD",
    "outputId": "769d270d-00a9-4bb2-b9d9-ff28feaae6e7"
   },
   "outputs": [],
   "source": [
    "IQR = Q3-Q1\n",
    "IQR"
   ]
  },
  {
   "cell_type": "code",
   "execution_count": null,
   "metadata": {
    "id": "v-qjqzKQHMHc"
   },
   "outputs": [],
   "source": [
    "lower_lim = Q1 - 1.5 * IQR\n",
    "upper_lim = Q3 + 1.5 * IQR"
   ]
  },
  {
   "cell_type": "code",
   "execution_count": null,
   "metadata": {
    "colab": {
     "base_uri": "https://localhost:8080/"
    },
    "id": "VUDNbvVpHML2",
    "outputId": "5ec717bf-ecee-4f91-81de-b9ea1bb45d0e"
   },
   "outputs": [],
   "source": [
    "lower_lim"
   ]
  },
  {
   "cell_type": "code",
   "execution_count": null,
   "metadata": {
    "colab": {
     "base_uri": "https://localhost:8080/"
    },
    "id": "TurfT2EaHMPh",
    "outputId": "a952967b-c00a-419b-bbc9-40eae311476b"
   },
   "outputs": [],
   "source": [
    "upper_lim "
   ]
  },
  {
   "cell_type": "code",
   "execution_count": null,
   "metadata": {
    "colab": {
     "base_uri": "https://localhost:8080/"
    },
    "id": "BAQnZDNMHfCx",
    "outputId": "8df421eb-071b-4967-8531-80fd62de0a64"
   },
   "outputs": [],
   "source": [
    "(df.price < lower_lim).sum()"
   ]
  },
  {
   "cell_type": "code",
   "execution_count": null,
   "metadata": {
    "colab": {
     "base_uri": "https://localhost:8080/"
    },
    "id": "OolyIwWMHfHU",
    "outputId": "1f8ebca8-655a-49ba-902b-d03cda4d0d89"
   },
   "outputs": [],
   "source": [
    "(df.price > upper_lim).sum()"
   ]
  },
  {
   "cell_type": "code",
   "execution_count": null,
   "metadata": {
    "colab": {
     "base_uri": "https://localhost:8080/"
    },
    "id": "8sBnApk0HfMY",
    "outputId": "5cc6bbde-bbfd-48d6-88c8-13d52e51a368"
   },
   "outputs": [],
   "source": [
    "df.price[(df.price < lower_lim) | (df.price > upper_lim)].count()"
   ]
  },
  {
   "cell_type": "code",
   "execution_count": null,
   "metadata": {
    "colab": {
     "base_uri": "https://localhost:8080/"
    },
    "id": "afcYv7PpHfQR",
    "outputId": "c5c2e4f3-f69c-4417-f68a-80ec26abd994"
   },
   "outputs": [],
   "source": [
    "df.price[~((df.price < lower_lim) | (df.price > upper_lim))].count()"
   ]
  },
  {
   "cell_type": "code",
   "execution_count": null,
   "metadata": {
    "colab": {
     "base_uri": "https://localhost:8080/"
    },
    "id": "UkKsYS-QHgJ3",
    "outputId": "a5dabbae-540b-40c2-a1aa-6d11feaba541"
   },
   "outputs": [],
   "source": [
    "df.price[(df.price >= lower_lim) & (df.price <= upper_lim)].count()"
   ]
  },
  {
   "cell_type": "code",
   "execution_count": null,
   "metadata": {
    "id": "CZwpmkpCHgOW"
   },
   "outputs": [],
   "source": [
    "outlier_index = df.loc[(df.price < lower_lim) | (df.price > upper_lim)].index"
   ]
  },
  {
   "cell_type": "code",
   "execution_count": null,
   "metadata": {
    "colab": {
     "base_uri": "https://localhost:8080/"
    },
    "id": "S_Qcjmg9Hge9",
    "outputId": "10481fba-91f7-4ffe-aec4-a76a276f163d"
   },
   "outputs": [],
   "source": [
    "outlier_index"
   ]
  },
  {
   "cell_type": "code",
   "execution_count": null,
   "metadata": {
    "id": "T0uo6jJwHgu4"
   },
   "outputs": [],
   "source": [
    "bottom_index=df[\"price\"].sort_values().head(10).index"
   ]
  },
  {
   "cell_type": "code",
   "execution_count": null,
   "metadata": {
    "colab": {
     "base_uri": "https://localhost:8080/",
     "height": 1000
    },
    "id": "POQj3ZxoIq3G",
    "outputId": "faa86f7f-3c32-45ba-eedb-8860ae98e2d1"
   },
   "outputs": [],
   "source": [
    "df.loc[bottom_index].T"
   ]
  },
  {
   "cell_type": "code",
   "execution_count": null,
   "metadata": {
    "colab": {
     "base_uri": "https://localhost:8080/",
     "height": 1000
    },
    "id": "uQyxYdtrIHUi",
    "outputId": "e0eeae26-b893-4bc8-d39f-9b62c18e4c55"
   },
   "outputs": [],
   "source": [
    "df.loc[outlier_index].T"
   ]
  },
  {
   "cell_type": "code",
   "execution_count": 270,
   "metadata": {
    "id": "DsxvoHjwIHZ4"
   },
   "outputs": [],
   "source": [
    "## df.drop([8594,8828,6066,8829],inplace=True)"
   ]
  },
  {
   "cell_type": "code",
   "execution_count": 272,
   "metadata": {
    "colab": {
     "base_uri": "https://localhost:8080/"
    },
    "id": "4O1nzVhCIHgu",
    "outputId": "d75a492a-9486-4c96-b558-05769859ec81"
   },
   "outputs": [
    {
     "data": {
      "text/plain": [
       "8827      4950\n",
       "8825      4990\n",
       "8826      5250\n",
       "8824      5300\n",
       "13770     5445\n",
       "         ...  \n",
       "15828    64332\n",
       "3587     64900\n",
       "3649     67600\n",
       "15826    68320\n",
       "3648     74600\n",
       "Name: price, Length: 15915, dtype: int64"
      ]
     },
     "execution_count": 272,
     "metadata": {},
     "output_type": "execute_result"
    }
   ],
   "source": [
    "df.price.sort_values()"
   ]
  },
  {
   "cell_type": "markdown",
   "metadata": {
    "id": "Jf3BlDppP_ye"
   },
   "source": [
    "## km"
   ]
  },
  {
   "cell_type": "code",
   "execution_count": 126,
   "metadata": {
    "colab": {
     "base_uri": "https://localhost:8080/"
    },
    "id": "YLtRMRbcJ6GR",
    "outputId": "3c7e06a6-969b-44e6-e3a8-4b92ed0488f4"
   },
   "outputs": [
    {
     "data": {
      "text/plain": [
       "0        56013\n",
       "1        80000\n",
       "2        83450\n",
       "3        73000\n",
       "4        16200\n",
       "         ...  \n",
       "15914        0\n",
       "15915     9900\n",
       "15916       15\n",
       "15917       10\n",
       "15918        0\n",
       "Name: km, Length: 15919, dtype: int64"
      ]
     },
     "execution_count": 126,
     "metadata": {},
     "output_type": "execute_result"
    }
   ],
   "source": [
    "df.km"
   ]
  },
  {
   "cell_type": "code",
   "execution_count": 127,
   "metadata": {
    "colab": {
     "base_uri": "https://localhost:8080/",
     "height": 388
    },
    "id": "JJLe02KHKdJY",
    "outputId": "7457f385-8612-4ac9-b51c-8d9a028cd8b1"
   },
   "outputs": [
    {
     "data": {
      "image/png": "[encoded data removed]",
      "text/plain": [
       "<Figure size 720x432 with 1 Axes>"
      ]
     },
     "metadata": {
      "needs_background": "light"
     },
     "output_type": "display_data"
    }
   ],
   "source": [
    "plt.figure(figsize = (10, 6))\n",
    "sns.boxplot(x = df.km);"
   ]
  },
  {
   "cell_type": "code",
   "execution_count": 128,
   "metadata": {
    "colab": {
     "base_uri": "https://localhost:8080/"
    },
    "id": "HbXpXyKBIHni",
    "outputId": "418ed47a-8193-41df-b003-2fbdaedd014d"
   },
   "outputs": [
    {
     "data": {
      "text/plain": [
       "1557.5"
      ]
     },
     "execution_count": 128,
     "metadata": {},
     "output_type": "execute_result"
    }
   ],
   "source": [
    "Q1 = df.km.describe()[4]\n",
    "Q1"
   ]
  },
  {
   "cell_type": "code",
   "execution_count": 129,
   "metadata": {
    "colab": {
     "base_uri": "https://localhost:8080/"
    },
    "id": "1w0P1ksKKRYJ",
    "outputId": "c7759fce-1591-4966-c033-c2207a2417e7"
   },
   "outputs": [
    {
     "data": {
      "text/plain": [
       "46898.5"
      ]
     },
     "execution_count": 129,
     "metadata": {},
     "output_type": "execute_result"
    }
   ],
   "source": [
    "Q3 = df.km.describe()[6]\n",
    "Q3"
   ]
  },
  {
   "cell_type": "code",
   "execution_count": 130,
   "metadata": {
    "colab": {
     "base_uri": "https://localhost:8080/"
    },
    "id": "DStYlHphKRcu",
    "outputId": "7b663346-2e3e-4dc5-9fb1-2e014d0d36c5"
   },
   "outputs": [
    {
     "data": {
      "text/plain": [
       "45341.0"
      ]
     },
     "execution_count": 130,
     "metadata": {},
     "output_type": "execute_result"
    }
   ],
   "source": [
    "IQR = Q3-Q1\n",
    "IQR"
   ]
  },
  {
   "cell_type": "code",
   "execution_count": 131,
   "metadata": {
    "id": "BOFnkVQCIHrn"
   },
   "outputs": [],
   "source": [
    "lower_lim = Q1 - 2 * IQR\n",
    "upper_lim = Q3 + 2 * IQR"
   ]
  },
  {
   "cell_type": "code",
   "execution_count": 132,
   "metadata": {
    "colab": {
     "base_uri": "https://localhost:8080/"
    },
    "id": "khO3kU7QIHvx",
    "outputId": "094f6c25-3264-40bf-84cc-a1e00ccd2772"
   },
   "outputs": [
    {
     "data": {
      "text/plain": [
       "315"
      ]
     },
     "execution_count": 132,
     "metadata": {},
     "output_type": "execute_result"
    }
   ],
   "source": [
    "df.price[(df.km < lower_lim) | (df.km > upper_lim)].count()"
   ]
  },
  {
   "cell_type": "code",
   "execution_count": 133,
   "metadata": {
    "id": "wDMI7ktMIHza"
   },
   "outputs": [],
   "source": [
    "outlier_index_2 = df.loc[(df.km < lower_lim) | (df.km > upper_lim)].index"
   ]
  },
  {
   "cell_type": "code",
   "execution_count": 134,
   "metadata": {
    "colab": {
     "base_uri": "https://localhost:8080/",
     "height": 1000
    },
    "id": "-8qQwfzVIH4a",
    "outputId": "301db958-2f10-4d34-9a3f-4525c8e1a34c"
   },
   "outputs": [
    {
     "data": {
      "text/html": [
       "<div>\n",
       "<style scoped>\n",
       "    .dataframe tbody tr th:only-of-type {\n",
       "        vertical-align: middle;\n",
       "    }\n",
       "\n",
       "    .dataframe tbody tr th {\n",
       "        vertical-align: top;\n",
       "    }\n",
       "\n",
       "    .dataframe thead th {\n",
       "        text-align: right;\n",
       "    }\n",
       "</style>\n",
       "<table border=\"1\" class=\"dataframe\">\n",
       "  <thead>\n",
       "    <tr style=\"text-align: right;\">\n",
       "      <th></th>\n",
       "      <th>63</th>\n",
       "      <th>397</th>\n",
       "      <th>602</th>\n",
       "      <th>632</th>\n",
       "      <th>642</th>\n",
       "      <th>2617</th>\n",
       "      <th>2618</th>\n",
       "      <th>2637</th>\n",
       "      <th>2660</th>\n",
       "      <th>2745</th>\n",
       "      <th>...</th>\n",
       "      <th>15273</th>\n",
       "      <th>15275</th>\n",
       "      <th>15277</th>\n",
       "      <th>15278</th>\n",
       "      <th>15282</th>\n",
       "      <th>15283</th>\n",
       "      <th>15284</th>\n",
       "      <th>15314</th>\n",
       "      <th>15320</th>\n",
       "      <th>15413</th>\n",
       "    </tr>\n",
       "  </thead>\n",
       "  <tbody>\n",
       "    <tr>\n",
       "      <th>make_model</th>\n",
       "      <td>Audi A1</td>\n",
       "      <td>Audi A1</td>\n",
       "      <td>Audi A1</td>\n",
       "      <td>Audi A1</td>\n",
       "      <td>Audi A1</td>\n",
       "      <td>Audi A3</td>\n",
       "      <td>Audi A3</td>\n",
       "      <td>Audi A3</td>\n",
       "      <td>Audi A3</td>\n",
       "      <td>Audi A3</td>\n",
       "      <td>...</td>\n",
       "      <td>Renault Espace</td>\n",
       "      <td>Renault Espace</td>\n",
       "      <td>Renault Espace</td>\n",
       "      <td>Renault Espace</td>\n",
       "      <td>Renault Espace</td>\n",
       "      <td>Renault Espace</td>\n",
       "      <td>Renault Espace</td>\n",
       "      <td>Renault Espace</td>\n",
       "      <td>Renault Espace</td>\n",
       "      <td>Renault Espace</td>\n",
       "    </tr>\n",
       "    <tr>\n",
       "      <th>body_type</th>\n",
       "      <td>Sedans</td>\n",
       "      <td>Sedans</td>\n",
       "      <td>Compact</td>\n",
       "      <td>Sedans</td>\n",
       "      <td>Compact</td>\n",
       "      <td>Sedans</td>\n",
       "      <td>Sedans</td>\n",
       "      <td>Sedans</td>\n",
       "      <td>Sedans</td>\n",
       "      <td>Sedans</td>\n",
       "      <td>...</td>\n",
       "      <td>Station wagon</td>\n",
       "      <td>Van</td>\n",
       "      <td>Van</td>\n",
       "      <td>Van</td>\n",
       "      <td>Van</td>\n",
       "      <td>Van</td>\n",
       "      <td>Off-Road</td>\n",
       "      <td>Van</td>\n",
       "      <td>Van</td>\n",
       "      <td>Transporter</td>\n",
       "    </tr>\n",
       "    <tr>\n",
       "      <th>price</th>\n",
       "      <td>10000</td>\n",
       "      <td>15990</td>\n",
       "      <td>12950</td>\n",
       "      <td>12700</td>\n",
       "      <td>12900</td>\n",
       "      <td>15450</td>\n",
       "      <td>15680</td>\n",
       "      <td>18500</td>\n",
       "      <td>18500</td>\n",
       "      <td>17380</td>\n",
       "      <td>...</td>\n",
       "      <td>17900</td>\n",
       "      <td>17500</td>\n",
       "      <td>14600</td>\n",
       "      <td>12990</td>\n",
       "      <td>13500</td>\n",
       "      <td>12990</td>\n",
       "      <td>14900</td>\n",
       "      <td>15500</td>\n",
       "      <td>12614</td>\n",
       "      <td>20900</td>\n",
       "    </tr>\n",
       "    <tr>\n",
       "      <th>vat</th>\n",
       "      <td>VAT deductible</td>\n",
       "      <td>VAT deductible</td>\n",
       "      <td>VAT deductible</td>\n",
       "      <td>VAT deductible</td>\n",
       "      <td>VAT deductible</td>\n",
       "      <td>VAT deductible</td>\n",
       "      <td>VAT deductible</td>\n",
       "      <td>VAT deductible</td>\n",
       "      <td>VAT deductible</td>\n",
       "      <td>VAT deductible</td>\n",
       "      <td>...</td>\n",
       "      <td>VAT deductible</td>\n",
       "      <td>VAT deductible</td>\n",
       "      <td>VAT deductible</td>\n",
       "      <td>VAT deductible</td>\n",
       "      <td>VAT deductible</td>\n",
       "      <td>VAT deductible</td>\n",
       "      <td>VAT deductible</td>\n",
       "      <td>VAT deductible</td>\n",
       "      <td>VAT deductible</td>\n",
       "      <td>VAT deductible</td>\n",
       "    </tr>\n",
       "    <tr>\n",
       "      <th>km</th>\n",
       "      <td>192000</td>\n",
       "      <td>146140</td>\n",
       "      <td>168000</td>\n",
       "      <td>146710</td>\n",
       "      <td>148257</td>\n",
       "      <td>149006</td>\n",
       "      <td>141147</td>\n",
       "      <td>158300</td>\n",
       "      <td>144000</td>\n",
       "      <td>161205</td>\n",
       "      <td>...</td>\n",
       "      <td>148000</td>\n",
       "      <td>141000</td>\n",
       "      <td>240000</td>\n",
       "      <td>180000</td>\n",
       "      <td>152736</td>\n",
       "      <td>197414</td>\n",
       "      <td>141522</td>\n",
       "      <td>169068</td>\n",
       "      <td>197323</td>\n",
       "      <td>140000</td>\n",
       "    </tr>\n",
       "    <tr>\n",
       "      <th>age</th>\n",
       "      <td>3</td>\n",
       "      <td>3</td>\n",
       "      <td>3</td>\n",
       "      <td>3</td>\n",
       "      <td>2</td>\n",
       "      <td>3</td>\n",
       "      <td>3</td>\n",
       "      <td>3</td>\n",
       "      <td>2</td>\n",
       "      <td>3</td>\n",
       "      <td>...</td>\n",
       "      <td>3</td>\n",
       "      <td>3</td>\n",
       "      <td>2</td>\n",
       "      <td>3</td>\n",
       "      <td>3</td>\n",
       "      <td>3</td>\n",
       "      <td>3</td>\n",
       "      <td>3</td>\n",
       "      <td>3</td>\n",
       "      <td>3</td>\n",
       "    </tr>\n",
       "    <tr>\n",
       "      <th>hp_kw</th>\n",
       "      <td>85</td>\n",
       "      <td>85</td>\n",
       "      <td>85</td>\n",
       "      <td>66</td>\n",
       "      <td>85</td>\n",
       "      <td>81</td>\n",
       "      <td>110</td>\n",
       "      <td>135</td>\n",
       "      <td>110</td>\n",
       "      <td>110</td>\n",
       "      <td>...</td>\n",
       "      <td>118</td>\n",
       "      <td>118</td>\n",
       "      <td>118</td>\n",
       "      <td>118</td>\n",
       "      <td>118</td>\n",
       "      <td>118</td>\n",
       "      <td>118</td>\n",
       "      <td>96</td>\n",
       "      <td>96</td>\n",
       "      <td>118</td>\n",
       "    </tr>\n",
       "    <tr>\n",
       "      <th>type</th>\n",
       "      <td>Used</td>\n",
       "      <td>Used</td>\n",
       "      <td>Used</td>\n",
       "      <td>Used</td>\n",
       "      <td>Used</td>\n",
       "      <td>Used</td>\n",
       "      <td>Used</td>\n",
       "      <td>Used</td>\n",
       "      <td>Used</td>\n",
       "      <td>Used</td>\n",
       "      <td>...</td>\n",
       "      <td>Used</td>\n",
       "      <td>Used</td>\n",
       "      <td>Used</td>\n",
       "      <td>Used</td>\n",
       "      <td>Used</td>\n",
       "      <td>Used</td>\n",
       "      <td>Used</td>\n",
       "      <td>Used</td>\n",
       "      <td>Used</td>\n",
       "      <td>Used</td>\n",
       "    </tr>\n",
       "    <tr>\n",
       "      <th>previous_owners</th>\n",
       "      <td>1</td>\n",
       "      <td>1</td>\n",
       "      <td>1</td>\n",
       "      <td>1</td>\n",
       "      <td>1</td>\n",
       "      <td>1</td>\n",
       "      <td>1</td>\n",
       "      <td>1</td>\n",
       "      <td>1</td>\n",
       "      <td>1</td>\n",
       "      <td>...</td>\n",
       "      <td>2</td>\n",
       "      <td>1</td>\n",
       "      <td>1</td>\n",
       "      <td>1</td>\n",
       "      <td>1</td>\n",
       "      <td>1</td>\n",
       "      <td>1</td>\n",
       "      <td>1</td>\n",
       "      <td>1</td>\n",
       "      <td>1</td>\n",
       "    </tr>\n",
       "    <tr>\n",
       "      <th>body_color</th>\n",
       "      <td>Black</td>\n",
       "      <td>Grey</td>\n",
       "      <td>Black</td>\n",
       "      <td>Black</td>\n",
       "      <td>Black</td>\n",
       "      <td>Blue</td>\n",
       "      <td>Black</td>\n",
       "      <td>Grey</td>\n",
       "      <td>Black</td>\n",
       "      <td>White</td>\n",
       "      <td>...</td>\n",
       "      <td>Silver</td>\n",
       "      <td>White</td>\n",
       "      <td>White</td>\n",
       "      <td>Silver</td>\n",
       "      <td>Black</td>\n",
       "      <td>White</td>\n",
       "      <td>Black</td>\n",
       "      <td>Grey</td>\n",
       "      <td>Brown</td>\n",
       "      <td>Black</td>\n",
       "    </tr>\n",
       "    <tr>\n",
       "      <th>paint_type</th>\n",
       "      <td>Metallic</td>\n",
       "      <td>Metallic</td>\n",
       "      <td>Metallic</td>\n",
       "      <td>Metallic</td>\n",
       "      <td>Metallic</td>\n",
       "      <td>Metallic</td>\n",
       "      <td>Metallic</td>\n",
       "      <td>Metallic</td>\n",
       "      <td>Metallic</td>\n",
       "      <td>Metallic</td>\n",
       "      <td>...</td>\n",
       "      <td>Metallic</td>\n",
       "      <td>Metallic</td>\n",
       "      <td>Metallic</td>\n",
       "      <td>Metallic</td>\n",
       "      <td>Metallic</td>\n",
       "      <td>Metallic</td>\n",
       "      <td>Metallic</td>\n",
       "      <td>Metallic</td>\n",
       "      <td>Metallic</td>\n",
       "      <td>Metallic</td>\n",
       "    </tr>\n",
       "    <tr>\n",
       "      <th>nr_of_doors</th>\n",
       "      <td>5</td>\n",
       "      <td>5</td>\n",
       "      <td>4</td>\n",
       "      <td>5</td>\n",
       "      <td>5</td>\n",
       "      <td>3</td>\n",
       "      <td>4</td>\n",
       "      <td>5</td>\n",
       "      <td>5</td>\n",
       "      <td>4</td>\n",
       "      <td>...</td>\n",
       "      <td>5</td>\n",
       "      <td>5</td>\n",
       "      <td>5</td>\n",
       "      <td>4</td>\n",
       "      <td>5</td>\n",
       "      <td>4</td>\n",
       "      <td>4</td>\n",
       "      <td>5</td>\n",
       "      <td>4</td>\n",
       "      <td>5</td>\n",
       "    </tr>\n",
       "    <tr>\n",
       "      <th>nr_of_seats</th>\n",
       "      <td>4</td>\n",
       "      <td>4</td>\n",
       "      <td>4</td>\n",
       "      <td>4</td>\n",
       "      <td>5</td>\n",
       "      <td>5</td>\n",
       "      <td>5</td>\n",
       "      <td>5</td>\n",
       "      <td>5</td>\n",
       "      <td>5</td>\n",
       "      <td>...</td>\n",
       "      <td>5</td>\n",
       "      <td>7</td>\n",
       "      <td>5</td>\n",
       "      <td>5</td>\n",
       "      <td>7</td>\n",
       "      <td>5</td>\n",
       "      <td>7</td>\n",
       "      <td>5</td>\n",
       "      <td>5</td>\n",
       "      <td>5</td>\n",
       "    </tr>\n",
       "    <tr>\n",
       "      <th>gearing_type</th>\n",
       "      <td>Manual</td>\n",
       "      <td>Automatic</td>\n",
       "      <td>Manual</td>\n",
       "      <td>Manual</td>\n",
       "      <td>Manual</td>\n",
       "      <td>Automatic</td>\n",
       "      <td>Automatic</td>\n",
       "      <td>Automatic</td>\n",
       "      <td>Automatic</td>\n",
       "      <td>Automatic</td>\n",
       "      <td>...</td>\n",
       "      <td>Automatic</td>\n",
       "      <td>Automatic</td>\n",
       "      <td>Automatic</td>\n",
       "      <td>Automatic</td>\n",
       "      <td>Automatic</td>\n",
       "      <td>Automatic</td>\n",
       "      <td>Automatic</td>\n",
       "      <td>Manual</td>\n",
       "      <td>Manual</td>\n",
       "      <td>Semi-automatic</td>\n",
       "    </tr>\n",
       "    <tr>\n",
       "      <th>displacement</th>\n",
       "      <td>1.598</td>\n",
       "      <td>1.598</td>\n",
       "      <td>1.598</td>\n",
       "      <td>1.422</td>\n",
       "      <td>1.598</td>\n",
       "      <td>1.573627</td>\n",
       "      <td>1.968</td>\n",
       "      <td>1.968</td>\n",
       "      <td>1.968</td>\n",
       "      <td>1.968</td>\n",
       "      <td>...</td>\n",
       "      <td>1.598</td>\n",
       "      <td>1.626717</td>\n",
       "      <td>1.598</td>\n",
       "      <td>1.997</td>\n",
       "      <td>1.598</td>\n",
       "      <td>1.598</td>\n",
       "      <td>1.598</td>\n",
       "      <td>1.598</td>\n",
       "      <td>1.598</td>\n",
       "      <td>1.598</td>\n",
       "    </tr>\n",
       "    <tr>\n",
       "      <th>cylinders</th>\n",
       "      <td>4.0</td>\n",
       "      <td>4.0</td>\n",
       "      <td>4.0</td>\n",
       "      <td>3.0</td>\n",
       "      <td>4.0</td>\n",
       "      <td>4.0</td>\n",
       "      <td>4.0</td>\n",
       "      <td>4.0</td>\n",
       "      <td>4.0</td>\n",
       "      <td>4.0</td>\n",
       "      <td>...</td>\n",
       "      <td>4.0</td>\n",
       "      <td>4.0</td>\n",
       "      <td>4.0</td>\n",
       "      <td>4.0</td>\n",
       "      <td>4.0</td>\n",
       "      <td>4.0</td>\n",
       "      <td>4.0</td>\n",
       "      <td>4.0</td>\n",
       "      <td>4.0</td>\n",
       "      <td>4.0</td>\n",
       "    </tr>\n",
       "    <tr>\n",
       "      <th>drive_chain</th>\n",
       "      <td>front</td>\n",
       "      <td>front</td>\n",
       "      <td>front</td>\n",
       "      <td>front</td>\n",
       "      <td>front</td>\n",
       "      <td>front</td>\n",
       "      <td>front</td>\n",
       "      <td>4WD</td>\n",
       "      <td>front</td>\n",
       "      <td>front</td>\n",
       "      <td>...</td>\n",
       "      <td>front</td>\n",
       "      <td>front</td>\n",
       "      <td>front</td>\n",
       "      <td>front</td>\n",
       "      <td>front</td>\n",
       "      <td>front</td>\n",
       "      <td>front</td>\n",
       "      <td>front</td>\n",
       "      <td>front</td>\n",
       "      <td>front</td>\n",
       "    </tr>\n",
       "    <tr>\n",
       "      <th>fuel</th>\n",
       "      <td>Diesel</td>\n",
       "      <td>Diesel</td>\n",
       "      <td>Diesel</td>\n",
       "      <td>Diesel</td>\n",
       "      <td>Diesel</td>\n",
       "      <td>Diesel</td>\n",
       "      <td>Diesel</td>\n",
       "      <td>Diesel</td>\n",
       "      <td>Diesel</td>\n",
       "      <td>Diesel</td>\n",
       "      <td>...</td>\n",
       "      <td>Diesel</td>\n",
       "      <td>Diesel</td>\n",
       "      <td>Diesel</td>\n",
       "      <td>Diesel</td>\n",
       "      <td>Diesel</td>\n",
       "      <td>Diesel</td>\n",
       "      <td>Diesel</td>\n",
       "      <td>Diesel</td>\n",
       "      <td>Diesel</td>\n",
       "      <td>Diesel</td>\n",
       "    </tr>\n",
       "    <tr>\n",
       "      <th>co2_emission</th>\n",
       "      <td>102.0</td>\n",
       "      <td>97.0</td>\n",
       "      <td>102.0</td>\n",
       "      <td>97.0</td>\n",
       "      <td>102.0</td>\n",
       "      <td>99.0</td>\n",
       "      <td>115.233333</td>\n",
       "      <td>128.0</td>\n",
       "      <td>119.0</td>\n",
       "      <td>115.233333</td>\n",
       "      <td>...</td>\n",
       "      <td>123.0</td>\n",
       "      <td>120.0</td>\n",
       "      <td>120.0</td>\n",
       "      <td>135.0</td>\n",
       "      <td>120.0</td>\n",
       "      <td>107.301961</td>\n",
       "      <td>107.301961</td>\n",
       "      <td>116.0</td>\n",
       "      <td>116.0</td>\n",
       "      <td>120.0</td>\n",
       "    </tr>\n",
       "    <tr>\n",
       "      <th>emission_class</th>\n",
       "      <td>Euro 6</td>\n",
       "      <td>Euro 6</td>\n",
       "      <td>Euro 6</td>\n",
       "      <td>Euro 6</td>\n",
       "      <td>Euro 6</td>\n",
       "      <td>Euro 6</td>\n",
       "      <td>Euro 6</td>\n",
       "      <td>Euro 6</td>\n",
       "      <td>Euro 6</td>\n",
       "      <td>Euro 6</td>\n",
       "      <td>...</td>\n",
       "      <td>Euro 6d</td>\n",
       "      <td>Euro 6d</td>\n",
       "      <td>Euro 6</td>\n",
       "      <td>Euro 6</td>\n",
       "      <td>Euro 6</td>\n",
       "      <td>Euro 6</td>\n",
       "      <td>Euro 6</td>\n",
       "      <td>Euro 6</td>\n",
       "      <td>Euro 6</td>\n",
       "      <td>Euro 6</td>\n",
       "    </tr>\n",
       "    <tr>\n",
       "      <th>comfort_convenience</th>\n",
       "      <td>Air Conditioning,Armrest,Electrical Side Mirro...</td>\n",
       "      <td>Air Conditioning,Armrest,Automatic Climate Con...</td>\n",
       "      <td>Air Conditioning,Armrest,Automatic Climate Con...</td>\n",
       "      <td>Air Conditioning,Armrest,Cruise Control,Electr...</td>\n",
       "      <td>Air Conditioning,Armrest,Automatic Climate Con...</td>\n",
       "      <td>Air Conditioning,Hill Holder,Leather Steering ...</td>\n",
       "      <td>Air Conditioning,Automatic Climate Control,Cru...</td>\n",
       "      <td>Air Conditioning,Automatic Climate Control,Cru...</td>\n",
       "      <td>Air Conditioning,Automatic Climate Control,Cru...</td>\n",
       "      <td>Air Conditioning,Automatic Climate Control,Cru...</td>\n",
       "      <td>...</td>\n",
       "      <td>Air Conditioning,Armrest,Automatic Climate Con...</td>\n",
       "      <td>Air Conditioning</td>\n",
       "      <td>Air Conditioning,Automatic Climate Control,Cru...</td>\n",
       "      <td>Air Conditioning,Armrest,Automatic Climate Con...</td>\n",
       "      <td>Air Conditioning,Automatic Climate Control,Cru...</td>\n",
       "      <td>Air Conditioning,Automatic Climate Control,Cru...</td>\n",
       "      <td>Air Conditioning,Armrest,Automatic Climate Con...</td>\n",
       "      <td>Air Conditioning,Armrest,Automatic Climate Con...</td>\n",
       "      <td>Air Conditioning,Armrest,Automatic Climate Con...</td>\n",
       "      <td>Air Conditioning,Armrest,Automatic Climate Con...</td>\n",
       "    </tr>\n",
       "    <tr>\n",
       "      <th>entertainment_media</th>\n",
       "      <td>MP3,Radio</td>\n",
       "      <td>Bluetooth,CD player,Digital radio,Hands-free e...</td>\n",
       "      <td>Bluetooth,CD player,Hands-free equipment,On-bo...</td>\n",
       "      <td>Bluetooth,CD player,Digital radio,Hands-free e...</td>\n",
       "      <td>Bluetooth,MP3,On-board computer,USB</td>\n",
       "      <td>Bluetooth,CD player,Hands-free equipment,MP3,O...</td>\n",
       "      <td>Bluetooth,CD player,On-board computer</td>\n",
       "      <td>CD player,On-board computer,Radio,USB</td>\n",
       "      <td>Bluetooth,CD player,Hands-free equipment,MP3,O...</td>\n",
       "      <td>Bluetooth,Radio</td>\n",
       "      <td>...</td>\n",
       "      <td>Bluetooth,Digital radio,Hands-free equipment,M...</td>\n",
       "      <td>Bluetooth,Hands-free equipment,On-board comput...</td>\n",
       "      <td>Sound system</td>\n",
       "      <td>Bluetooth,Digital radio,Hands-free equipment,O...</td>\n",
       "      <td>Bluetooth,USB</td>\n",
       "      <td>Bluetooth,On-board computer,Radio</td>\n",
       "      <td>Bluetooth,CD player,On-board computer,Radio,USB</td>\n",
       "      <td>Bluetooth,Digital radio,On-board computer</td>\n",
       "      <td>Bluetooth,CD player,Hands-free equipment,On-bo...</td>\n",
       "      <td>Bluetooth,CD player,Hands-free equipment,On-bo...</td>\n",
       "    </tr>\n",
       "    <tr>\n",
       "      <th>extras</th>\n",
       "      <td>Alloy Wheels</td>\n",
       "      <td>Alloy Wheels,Shift Paddles,Sport Package,Sport...</td>\n",
       "      <td>Alloy Wheels,Sport Package,Sport Seats,Sport S...</td>\n",
       "      <td>Alloy Wheels,Voice Control</td>\n",
       "      <td>Alloy Wheels,Sport Package,Sport Seats,Sport S...</td>\n",
       "      <td>Alloy Wheels</td>\n",
       "      <td>Alloy Wheels,Roof Rack,Sport Seats</td>\n",
       "      <td>Alloy Wheels,Catalytic Converter,Sport Package...</td>\n",
       "      <td>Alloy Wheels,Touch Screen</td>\n",
       "      <td>Alloy Wheels,Roof Rack,Sport Package,Sport Seats</td>\n",
       "      <td>...</td>\n",
       "      <td>Alloy Wheels,Sport Package,Sport Seats,Touch S...</td>\n",
       "      <td>Alloy Wheels</td>\n",
       "      <td>Alloy Wheels</td>\n",
       "      <td>Alloy Wheels,Roof Rack,Sport Seats,Touch Scree...</td>\n",
       "      <td>Alloy Wheels</td>\n",
       "      <td>Alloy Wheels</td>\n",
       "      <td>Alloy Wheels,Shift Paddles,Touch Screen</td>\n",
       "      <td>Alloy Wheels,Voice Control</td>\n",
       "      <td>Alloy Wheels,Touch Screen,Trailer Hitch,Voice ...</td>\n",
       "      <td>Alloy Wheels,Handicapped Enabled,Shift Paddles...</td>\n",
       "    </tr>\n",
       "    <tr>\n",
       "      <th>safety_security</th>\n",
       "      <td>Abs,Central Door Lock,Central Door Lock With R...</td>\n",
       "      <td>Abs,Adaptive Cruise Control,Central Door Lock,...</td>\n",
       "      <td>Abs,Adaptive Headlights,Alarm System,Central D...</td>\n",
       "      <td>Abs,Alarm System,Central Door Lock,Daytime Run...</td>\n",
       "      <td>Central Door Lock,Daytime Running Lights,Drive...</td>\n",
       "      <td>Abs,Central Door Lock With Remote Control,Driv...</td>\n",
       "      <td>Abs,Central Door Lock,Driver-Side Airbag,Elect...</td>\n",
       "      <td>Abs,Central Door Lock,Driver-Side Airbag,Elect...</td>\n",
       "      <td>Abs,Adaptive Headlights,Alarm System,Central D...</td>\n",
       "      <td>Abs,Central Door Lock,Driver-Side Airbag,Fog L...</td>\n",
       "      <td>...</td>\n",
       "      <td>Abs,Adaptive Cruise Control,Blind Spot Monitor...</td>\n",
       "      <td>Abs,Central Door Lock,Daytime Running Lights,D...</td>\n",
       "      <td>Abs,Central Door Lock With Remote Control,Driv...</td>\n",
       "      <td>Abs,Adaptive Cruise Control,Adaptive Headlight...</td>\n",
       "      <td>Abs,Driver-Side Airbag,Electronic Stability Co...</td>\n",
       "      <td>Abs,Driver-Side Airbag,Isofix,Passenger-Side A...</td>\n",
       "      <td>Abs,Central Door Lock,Driver-Side Airbag,Elect...</td>\n",
       "      <td>Abs,Central Door Lock With Remote Control,Driv...</td>\n",
       "      <td>Abs,Alarm System,Blind Spot Monitor,Central Do...</td>\n",
       "      <td>Abs,Alarm System,Electronic Stability Control,...</td>\n",
       "    </tr>\n",
       "    <tr>\n",
       "      <th>gears</th>\n",
       "      <td>5</td>\n",
       "      <td>7</td>\n",
       "      <td>5</td>\n",
       "      <td>5</td>\n",
       "      <td>5</td>\n",
       "      <td>6</td>\n",
       "      <td>6</td>\n",
       "      <td>7</td>\n",
       "      <td>6</td>\n",
       "      <td>6</td>\n",
       "      <td>...</td>\n",
       "      <td>6</td>\n",
       "      <td>6</td>\n",
       "      <td>6</td>\n",
       "      <td>6</td>\n",
       "      <td>6</td>\n",
       "      <td>6</td>\n",
       "      <td>6</td>\n",
       "      <td>6</td>\n",
       "      <td>6</td>\n",
       "      <td>6</td>\n",
       "    </tr>\n",
       "    <tr>\n",
       "      <th>upholstery_type</th>\n",
       "      <td>Cloth</td>\n",
       "      <td>Part leather</td>\n",
       "      <td>Part leather</td>\n",
       "      <td>Cloth</td>\n",
       "      <td>Part leather</td>\n",
       "      <td>alcantara</td>\n",
       "      <td>alcantara</td>\n",
       "      <td>Full leather</td>\n",
       "      <td>Cloth</td>\n",
       "      <td>Part leather</td>\n",
       "      <td>...</td>\n",
       "      <td>Part leather</td>\n",
       "      <td>Part leather</td>\n",
       "      <td>Part leather</td>\n",
       "      <td>Part leather</td>\n",
       "      <td>Full leather</td>\n",
       "      <td>Part leather</td>\n",
       "      <td>Full leather</td>\n",
       "      <td>Cloth</td>\n",
       "      <td>Part leather</td>\n",
       "      <td>Full leather</td>\n",
       "    </tr>\n",
       "    <tr>\n",
       "      <th>upholstery_color</th>\n",
       "      <td>Black</td>\n",
       "      <td>Black</td>\n",
       "      <td>Black</td>\n",
       "      <td>Black</td>\n",
       "      <td>Black</td>\n",
       "      <td>Grey</td>\n",
       "      <td>Grey</td>\n",
       "      <td>Black</td>\n",
       "      <td>Black</td>\n",
       "      <td>Grey</td>\n",
       "      <td>...</td>\n",
       "      <td>Brown</td>\n",
       "      <td>Brown</td>\n",
       "      <td>Brown</td>\n",
       "      <td>Black</td>\n",
       "      <td>Brown</td>\n",
       "      <td>Brown</td>\n",
       "      <td>Brown</td>\n",
       "      <td>Black</td>\n",
       "      <td>Grey</td>\n",
       "      <td>Brown</td>\n",
       "    </tr>\n",
       "    <tr>\n",
       "      <th>consumption_comb</th>\n",
       "      <td>3.9</td>\n",
       "      <td>3.7</td>\n",
       "      <td>3.9</td>\n",
       "      <td>3.7</td>\n",
       "      <td>3.9</td>\n",
       "      <td>4.15</td>\n",
       "      <td>4.43</td>\n",
       "      <td>4.9</td>\n",
       "      <td>4.5</td>\n",
       "      <td>4.43</td>\n",
       "      <td>...</td>\n",
       "      <td>4.7</td>\n",
       "      <td>4.6</td>\n",
       "      <td>4.6</td>\n",
       "      <td>5.1</td>\n",
       "      <td>4.7</td>\n",
       "      <td>4.67</td>\n",
       "      <td>4.67</td>\n",
       "      <td>4.4</td>\n",
       "      <td>4.4</td>\n",
       "      <td>4.7</td>\n",
       "    </tr>\n",
       "    <tr>\n",
       "      <th>consumption_city</th>\n",
       "      <td>4.7</td>\n",
       "      <td>4.3</td>\n",
       "      <td>4.7</td>\n",
       "      <td>4.2</td>\n",
       "      <td>4.7</td>\n",
       "      <td>4.3</td>\n",
       "      <td>5.23</td>\n",
       "      <td>5.6</td>\n",
       "      <td>5.3</td>\n",
       "      <td>5.23</td>\n",
       "      <td>...</td>\n",
       "      <td>5.1</td>\n",
       "      <td>5.0</td>\n",
       "      <td>5.0</td>\n",
       "      <td>5.7</td>\n",
       "      <td>5.1</td>\n",
       "      <td>5.07</td>\n",
       "      <td>5.07</td>\n",
       "      <td>5.1</td>\n",
       "      <td>5.1</td>\n",
       "      <td>5.1</td>\n",
       "    </tr>\n",
       "    <tr>\n",
       "      <th>consumption_country</th>\n",
       "      <td>3.4</td>\n",
       "      <td>3.4</td>\n",
       "      <td>3.4</td>\n",
       "      <td>3.4</td>\n",
       "      <td>3.4</td>\n",
       "      <td>3.5</td>\n",
       "      <td>3.99</td>\n",
       "      <td>4.5</td>\n",
       "      <td>4.1</td>\n",
       "      <td>3.99</td>\n",
       "      <td>...</td>\n",
       "      <td>4.4</td>\n",
       "      <td>4.4</td>\n",
       "      <td>4.4</td>\n",
       "      <td>4.8</td>\n",
       "      <td>4.4</td>\n",
       "      <td>4.4</td>\n",
       "      <td>4.4</td>\n",
       "      <td>4.0</td>\n",
       "      <td>4.0</td>\n",
       "      <td>4.4</td>\n",
       "    </tr>\n",
       "    <tr>\n",
       "      <th>weight_kg</th>\n",
       "      <td>1250</td>\n",
       "      <td>1275</td>\n",
       "      <td>1135</td>\n",
       "      <td>1205</td>\n",
       "      <td>1165</td>\n",
       "      <td>1255</td>\n",
       "      <td>1255</td>\n",
       "      <td>1525</td>\n",
       "      <td>1400</td>\n",
       "      <td>1840</td>\n",
       "      <td>...</td>\n",
       "      <td>1734</td>\n",
       "      <td>1734</td>\n",
       "      <td>1659</td>\n",
       "      <td>1659</td>\n",
       "      <td>1659</td>\n",
       "      <td>1659</td>\n",
       "      <td>1734</td>\n",
       "      <td>1615</td>\n",
       "      <td>1615</td>\n",
       "      <td>1734</td>\n",
       "    </tr>\n",
       "  </tbody>\n",
       "</table>\n",
       "<p>31 rows × 315 columns</p>\n",
       "</div>"
      ],
      "text/plain": [
       "                                                                 63     \\\n",
       "make_model                                                     Audi A1   \n",
       "body_type                                                       Sedans   \n",
       "price                                                            10000   \n",
       "vat                                                     VAT deductible   \n",
       "km                                                              192000   \n",
       "age                                                                  3   \n",
       "hp_kw                                                               85   \n",
       "type                                                              Used   \n",
       "previous_owners                                                      1   \n",
       "body_color                                                       Black   \n",
       "paint_type                                                    Metallic   \n",
       "nr_of_doors                                                          5   \n",
       "nr_of_seats                                                          4   \n",
       "gearing_type                                                    Manual   \n",
       "displacement                                                     1.598   \n",
       "cylinders                                                          4.0   \n",
       "drive_chain                                                      front   \n",
       "fuel                                                            Diesel   \n",
       "co2_emission                                                     102.0   \n",
       "emission_class                                                  Euro 6   \n",
       "comfort_convenience  Air Conditioning,Armrest,Electrical Side Mirro...   \n",
       "entertainment_media                                          MP3,Radio   \n",
       "extras                                                    Alloy Wheels   \n",
       "safety_security      Abs,Central Door Lock,Central Door Lock With R...   \n",
       "gears                                                                5   \n",
       "upholstery_type                                                  Cloth   \n",
       "upholstery_color                                                 Black   \n",
       "consumption_comb                                                   3.9   \n",
       "consumption_city                                                   4.7   \n",
       "consumption_country                                                3.4   \n",
       "weight_kg                                                         1250   \n",
       "\n",
       "                                                                 397    \\\n",
       "make_model                                                     Audi A1   \n",
       "body_type                                                       Sedans   \n",
       "price                                                            15990   \n",
       "vat                                                     VAT deductible   \n",
       "km                                                              146140   \n",
       "age                                                                  3   \n",
       "hp_kw                                                               85   \n",
       "type                                                              Used   \n",
       "previous_owners                                                      1   \n",
       "body_color                                                        Grey   \n",
       "paint_type                                                    Metallic   \n",
       "nr_of_doors                                                          5   \n",
       "nr_of_seats                                                          4   \n",
       "gearing_type                                                 Automatic   \n",
       "displacement                                                     1.598   \n",
       "cylinders                                                          4.0   \n",
       "drive_chain                                                      front   \n",
       "fuel                                                            Diesel   \n",
       "co2_emission                                                      97.0   \n",
       "emission_class                                                  Euro 6   \n",
       "comfort_convenience  Air Conditioning,Armrest,Automatic Climate Con...   \n",
       "entertainment_media  Bluetooth,CD player,Digital radio,Hands-free e...   \n",
       "extras               Alloy Wheels,Shift Paddles,Sport Package,Sport...   \n",
       "safety_security      Abs,Adaptive Cruise Control,Central Door Lock,...   \n",
       "gears                                                                7   \n",
       "upholstery_type                                           Part leather   \n",
       "upholstery_color                                                 Black   \n",
       "consumption_comb                                                   3.7   \n",
       "consumption_city                                                   4.3   \n",
       "consumption_country                                                3.4   \n",
       "weight_kg                                                         1275   \n",
       "\n",
       "                                                                 602    \\\n",
       "make_model                                                     Audi A1   \n",
       "body_type                                                      Compact   \n",
       "price                                                            12950   \n",
       "vat                                                     VAT deductible   \n",
       "km                                                              168000   \n",
       "age                                                                  3   \n",
       "hp_kw                                                               85   \n",
       "type                                                              Used   \n",
       "previous_owners                                                      1   \n",
       "body_color                                                       Black   \n",
       "paint_type                                                    Metallic   \n",
       "nr_of_doors                                                          4   \n",
       "nr_of_seats                                                          4   \n",
       "gearing_type                                                    Manual   \n",
       "displacement                                                     1.598   \n",
       "cylinders                                                          4.0   \n",
       "drive_chain                                                      front   \n",
       "fuel                                                            Diesel   \n",
       "co2_emission                                                     102.0   \n",
       "emission_class                                                  Euro 6   \n",
       "comfort_convenience  Air Conditioning,Armrest,Automatic Climate Con...   \n",
       "entertainment_media  Bluetooth,CD player,Hands-free equipment,On-bo...   \n",
       "extras               Alloy Wheels,Sport Package,Sport Seats,Sport S...   \n",
       "safety_security      Abs,Adaptive Headlights,Alarm System,Central D...   \n",
       "gears                                                                5   \n",
       "upholstery_type                                           Part leather   \n",
       "upholstery_color                                                 Black   \n",
       "consumption_comb                                                   3.9   \n",
       "consumption_city                                                   4.7   \n",
       "consumption_country                                                3.4   \n",
       "weight_kg                                                         1135   \n",
       "\n",
       "                                                                 632    \\\n",
       "make_model                                                     Audi A1   \n",
       "body_type                                                       Sedans   \n",
       "price                                                            12700   \n",
       "vat                                                     VAT deductible   \n",
       "km                                                              146710   \n",
       "age                                                                  3   \n",
       "hp_kw                                                               66   \n",
       "type                                                              Used   \n",
       "previous_owners                                                      1   \n",
       "body_color                                                       Black   \n",
       "paint_type                                                    Metallic   \n",
       "nr_of_doors                                                          5   \n",
       "nr_of_seats                                                          4   \n",
       "gearing_type                                                    Manual   \n",
       "displacement                                                     1.422   \n",
       "cylinders                                                          3.0   \n",
       "drive_chain                                                      front   \n",
       "fuel                                                            Diesel   \n",
       "co2_emission                                                      97.0   \n",
       "emission_class                                                  Euro 6   \n",
       "comfort_convenience  Air Conditioning,Armrest,Cruise Control,Electr...   \n",
       "entertainment_media  Bluetooth,CD player,Digital radio,Hands-free e...   \n",
       "extras                                      Alloy Wheels,Voice Control   \n",
       "safety_security      Abs,Alarm System,Central Door Lock,Daytime Run...   \n",
       "gears                                                                5   \n",
       "upholstery_type                                                  Cloth   \n",
       "upholstery_color                                                 Black   \n",
       "consumption_comb                                                   3.7   \n",
       "consumption_city                                                   4.2   \n",
       "consumption_country                                                3.4   \n",
       "weight_kg                                                         1205   \n",
       "\n",
       "                                                                 642    \\\n",
       "make_model                                                     Audi A1   \n",
       "body_type                                                      Compact   \n",
       "price                                                            12900   \n",
       "vat                                                     VAT deductible   \n",
       "km                                                              148257   \n",
       "age                                                                  2   \n",
       "hp_kw                                                               85   \n",
       "type                                                              Used   \n",
       "previous_owners                                                      1   \n",
       "body_color                                                       Black   \n",
       "paint_type                                                    Metallic   \n",
       "nr_of_doors                                                          5   \n",
       "nr_of_seats                                                          5   \n",
       "gearing_type                                                    Manual   \n",
       "displacement                                                     1.598   \n",
       "cylinders                                                          4.0   \n",
       "drive_chain                                                      front   \n",
       "fuel                                                            Diesel   \n",
       "co2_emission                                                     102.0   \n",
       "emission_class                                                  Euro 6   \n",
       "comfort_convenience  Air Conditioning,Armrest,Automatic Climate Con...   \n",
       "entertainment_media                Bluetooth,MP3,On-board computer,USB   \n",
       "extras               Alloy Wheels,Sport Package,Sport Seats,Sport S...   \n",
       "safety_security      Central Door Lock,Daytime Running Lights,Drive...   \n",
       "gears                                                                5   \n",
       "upholstery_type                                           Part leather   \n",
       "upholstery_color                                                 Black   \n",
       "consumption_comb                                                   3.9   \n",
       "consumption_city                                                   4.7   \n",
       "consumption_country                                                3.4   \n",
       "weight_kg                                                         1165   \n",
       "\n",
       "                                                                 2617   \\\n",
       "make_model                                                     Audi A3   \n",
       "body_type                                                       Sedans   \n",
       "price                                                            15450   \n",
       "vat                                                     VAT deductible   \n",
       "km                                                              149006   \n",
       "age                                                                  3   \n",
       "hp_kw                                                               81   \n",
       "type                                                              Used   \n",
       "previous_owners                                                      1   \n",
       "body_color                                                        Blue   \n",
       "paint_type                                                    Metallic   \n",
       "nr_of_doors                                                          3   \n",
       "nr_of_seats                                                          5   \n",
       "gearing_type                                                 Automatic   \n",
       "displacement                                                  1.573627   \n",
       "cylinders                                                          4.0   \n",
       "drive_chain                                                      front   \n",
       "fuel                                                            Diesel   \n",
       "co2_emission                                                      99.0   \n",
       "emission_class                                                  Euro 6   \n",
       "comfort_convenience  Air Conditioning,Hill Holder,Leather Steering ...   \n",
       "entertainment_media  Bluetooth,CD player,Hands-free equipment,MP3,O...   \n",
       "extras                                                    Alloy Wheels   \n",
       "safety_security      Abs,Central Door Lock With Remote Control,Driv...   \n",
       "gears                                                                6   \n",
       "upholstery_type                                              alcantara   \n",
       "upholstery_color                                                  Grey   \n",
       "consumption_comb                                                  4.15   \n",
       "consumption_city                                                   4.3   \n",
       "consumption_country                                                3.5   \n",
       "weight_kg                                                         1255   \n",
       "\n",
       "                                                                 2618   \\\n",
       "make_model                                                     Audi A3   \n",
       "body_type                                                       Sedans   \n",
       "price                                                            15680   \n",
       "vat                                                     VAT deductible   \n",
       "km                                                              141147   \n",
       "age                                                                  3   \n",
       "hp_kw                                                              110   \n",
       "type                                                              Used   \n",
       "previous_owners                                                      1   \n",
       "body_color                                                       Black   \n",
       "paint_type                                                    Metallic   \n",
       "nr_of_doors                                                          4   \n",
       "nr_of_seats                                                          5   \n",
       "gearing_type                                                 Automatic   \n",
       "displacement                                                     1.968   \n",
       "cylinders                                                          4.0   \n",
       "drive_chain                                                      front   \n",
       "fuel                                                            Diesel   \n",
       "co2_emission                                                115.233333   \n",
       "emission_class                                                  Euro 6   \n",
       "comfort_convenience  Air Conditioning,Automatic Climate Control,Cru...   \n",
       "entertainment_media              Bluetooth,CD player,On-board computer   \n",
       "extras                              Alloy Wheels,Roof Rack,Sport Seats   \n",
       "safety_security      Abs,Central Door Lock,Driver-Side Airbag,Elect...   \n",
       "gears                                                                6   \n",
       "upholstery_type                                              alcantara   \n",
       "upholstery_color                                                  Grey   \n",
       "consumption_comb                                                  4.43   \n",
       "consumption_city                                                  5.23   \n",
       "consumption_country                                               3.99   \n",
       "weight_kg                                                         1255   \n",
       "\n",
       "                                                                 2637   \\\n",
       "make_model                                                     Audi A3   \n",
       "body_type                                                       Sedans   \n",
       "price                                                            18500   \n",
       "vat                                                     VAT deductible   \n",
       "km                                                              158300   \n",
       "age                                                                  3   \n",
       "hp_kw                                                              135   \n",
       "type                                                              Used   \n",
       "previous_owners                                                      1   \n",
       "body_color                                                        Grey   \n",
       "paint_type                                                    Metallic   \n",
       "nr_of_doors                                                          5   \n",
       "nr_of_seats                                                          5   \n",
       "gearing_type                                                 Automatic   \n",
       "displacement                                                     1.968   \n",
       "cylinders                                                          4.0   \n",
       "drive_chain                                                        4WD   \n",
       "fuel                                                            Diesel   \n",
       "co2_emission                                                     128.0   \n",
       "emission_class                                                  Euro 6   \n",
       "comfort_convenience  Air Conditioning,Automatic Climate Control,Cru...   \n",
       "entertainment_media              CD player,On-board computer,Radio,USB   \n",
       "extras               Alloy Wheels,Catalytic Converter,Sport Package...   \n",
       "safety_security      Abs,Central Door Lock,Driver-Side Airbag,Elect...   \n",
       "gears                                                                7   \n",
       "upholstery_type                                           Full leather   \n",
       "upholstery_color                                                 Black   \n",
       "consumption_comb                                                   4.9   \n",
       "consumption_city                                                   5.6   \n",
       "consumption_country                                                4.5   \n",
       "weight_kg                                                         1525   \n",
       "\n",
       "                                                                 2660   \\\n",
       "make_model                                                     Audi A3   \n",
       "body_type                                                       Sedans   \n",
       "price                                                            18500   \n",
       "vat                                                     VAT deductible   \n",
       "km                                                              144000   \n",
       "age                                                                  2   \n",
       "hp_kw                                                              110   \n",
       "type                                                              Used   \n",
       "previous_owners                                                      1   \n",
       "body_color                                                       Black   \n",
       "paint_type                                                    Metallic   \n",
       "nr_of_doors                                                          5   \n",
       "nr_of_seats                                                          5   \n",
       "gearing_type                                                 Automatic   \n",
       "displacement                                                     1.968   \n",
       "cylinders                                                          4.0   \n",
       "drive_chain                                                      front   \n",
       "fuel                                                            Diesel   \n",
       "co2_emission                                                     119.0   \n",
       "emission_class                                                  Euro 6   \n",
       "comfort_convenience  Air Conditioning,Automatic Climate Control,Cru...   \n",
       "entertainment_media  Bluetooth,CD player,Hands-free equipment,MP3,O...   \n",
       "extras                                       Alloy Wheels,Touch Screen   \n",
       "safety_security      Abs,Adaptive Headlights,Alarm System,Central D...   \n",
       "gears                                                                6   \n",
       "upholstery_type                                                  Cloth   \n",
       "upholstery_color                                                 Black   \n",
       "consumption_comb                                                   4.5   \n",
       "consumption_city                                                   5.3   \n",
       "consumption_country                                                4.1   \n",
       "weight_kg                                                         1400   \n",
       "\n",
       "                                                                 2745   ...  \\\n",
       "make_model                                                     Audi A3  ...   \n",
       "body_type                                                       Sedans  ...   \n",
       "price                                                            17380  ...   \n",
       "vat                                                     VAT deductible  ...   \n",
       "km                                                              161205  ...   \n",
       "age                                                                  3  ...   \n",
       "hp_kw                                                              110  ...   \n",
       "type                                                              Used  ...   \n",
       "previous_owners                                                      1  ...   \n",
       "body_color                                                       White  ...   \n",
       "paint_type                                                    Metallic  ...   \n",
       "nr_of_doors                                                          4  ...   \n",
       "nr_of_seats                                                          5  ...   \n",
       "gearing_type                                                 Automatic  ...   \n",
       "displacement                                                     1.968  ...   \n",
       "cylinders                                                          4.0  ...   \n",
       "drive_chain                                                      front  ...   \n",
       "fuel                                                            Diesel  ...   \n",
       "co2_emission                                                115.233333  ...   \n",
       "emission_class                                                  Euro 6  ...   \n",
       "comfort_convenience  Air Conditioning,Automatic Climate Control,Cru...  ...   \n",
       "entertainment_media                                    Bluetooth,Radio  ...   \n",
       "extras                Alloy Wheels,Roof Rack,Sport Package,Sport Seats  ...   \n",
       "safety_security      Abs,Central Door Lock,Driver-Side Airbag,Fog L...  ...   \n",
       "gears                                                                6  ...   \n",
       "upholstery_type                                           Part leather  ...   \n",
       "upholstery_color                                                  Grey  ...   \n",
       "consumption_comb                                                  4.43  ...   \n",
       "consumption_city                                                  5.23  ...   \n",
       "consumption_country                                               3.99  ...   \n",
       "weight_kg                                                         1840  ...   \n",
       "\n",
       "                                                                 15273  \\\n",
       "make_model                                              Renault Espace   \n",
       "body_type                                                Station wagon   \n",
       "price                                                            17900   \n",
       "vat                                                     VAT deductible   \n",
       "km                                                              148000   \n",
       "age                                                                  3   \n",
       "hp_kw                                                              118   \n",
       "type                                                              Used   \n",
       "previous_owners                                                      2   \n",
       "body_color                                                      Silver   \n",
       "paint_type                                                    Metallic   \n",
       "nr_of_doors                                                          5   \n",
       "nr_of_seats                                                          5   \n",
       "gearing_type                                                 Automatic   \n",
       "displacement                                                     1.598   \n",
       "cylinders                                                          4.0   \n",
       "drive_chain                                                      front   \n",
       "fuel                                                            Diesel   \n",
       "co2_emission                                                     123.0   \n",
       "emission_class                                                 Euro 6d   \n",
       "comfort_convenience  Air Conditioning,Armrest,Automatic Climate Con...   \n",
       "entertainment_media  Bluetooth,Digital radio,Hands-free equipment,M...   \n",
       "extras               Alloy Wheels,Sport Package,Sport Seats,Touch S...   \n",
       "safety_security      Abs,Adaptive Cruise Control,Blind Spot Monitor...   \n",
       "gears                                                                6   \n",
       "upholstery_type                                           Part leather   \n",
       "upholstery_color                                                 Brown   \n",
       "consumption_comb                                                   4.7   \n",
       "consumption_city                                                   5.1   \n",
       "consumption_country                                                4.4   \n",
       "weight_kg                                                         1734   \n",
       "\n",
       "                                                                 15275  \\\n",
       "make_model                                              Renault Espace   \n",
       "body_type                                                          Van   \n",
       "price                                                            17500   \n",
       "vat                                                     VAT deductible   \n",
       "km                                                              141000   \n",
       "age                                                                  3   \n",
       "hp_kw                                                              118   \n",
       "type                                                              Used   \n",
       "previous_owners                                                      1   \n",
       "body_color                                                       White   \n",
       "paint_type                                                    Metallic   \n",
       "nr_of_doors                                                          5   \n",
       "nr_of_seats                                                          7   \n",
       "gearing_type                                                 Automatic   \n",
       "displacement                                                  1.626717   \n",
       "cylinders                                                          4.0   \n",
       "drive_chain                                                      front   \n",
       "fuel                                                            Diesel   \n",
       "co2_emission                                                     120.0   \n",
       "emission_class                                                 Euro 6d   \n",
       "comfort_convenience                                   Air Conditioning   \n",
       "entertainment_media  Bluetooth,Hands-free equipment,On-board comput...   \n",
       "extras                                                    Alloy Wheels   \n",
       "safety_security      Abs,Central Door Lock,Daytime Running Lights,D...   \n",
       "gears                                                                6   \n",
       "upholstery_type                                           Part leather   \n",
       "upholstery_color                                                 Brown   \n",
       "consumption_comb                                                   4.6   \n",
       "consumption_city                                                   5.0   \n",
       "consumption_country                                                4.4   \n",
       "weight_kg                                                         1734   \n",
       "\n",
       "                                                                 15277  \\\n",
       "make_model                                              Renault Espace   \n",
       "body_type                                                          Van   \n",
       "price                                                            14600   \n",
       "vat                                                     VAT deductible   \n",
       "km                                                              240000   \n",
       "age                                                                  2   \n",
       "hp_kw                                                              118   \n",
       "type                                                              Used   \n",
       "previous_owners                                                      1   \n",
       "body_color                                                       White   \n",
       "paint_type                                                    Metallic   \n",
       "nr_of_doors                                                          5   \n",
       "nr_of_seats                                                          5   \n",
       "gearing_type                                                 Automatic   \n",
       "displacement                                                     1.598   \n",
       "cylinders                                                          4.0   \n",
       "drive_chain                                                      front   \n",
       "fuel                                                            Diesel   \n",
       "co2_emission                                                     120.0   \n",
       "emission_class                                                  Euro 6   \n",
       "comfort_convenience  Air Conditioning,Automatic Climate Control,Cru...   \n",
       "entertainment_media                                       Sound system   \n",
       "extras                                                    Alloy Wheels   \n",
       "safety_security      Abs,Central Door Lock With Remote Control,Driv...   \n",
       "gears                                                                6   \n",
       "upholstery_type                                           Part leather   \n",
       "upholstery_color                                                 Brown   \n",
       "consumption_comb                                                   4.6   \n",
       "consumption_city                                                   5.0   \n",
       "consumption_country                                                4.4   \n",
       "weight_kg                                                         1659   \n",
       "\n",
       "                                                                 15278  \\\n",
       "make_model                                              Renault Espace   \n",
       "body_type                                                          Van   \n",
       "price                                                            12990   \n",
       "vat                                                     VAT deductible   \n",
       "km                                                              180000   \n",
       "age                                                                  3   \n",
       "hp_kw                                                              118   \n",
       "type                                                              Used   \n",
       "previous_owners                                                      1   \n",
       "body_color                                                      Silver   \n",
       "paint_type                                                    Metallic   \n",
       "nr_of_doors                                                          4   \n",
       "nr_of_seats                                                          5   \n",
       "gearing_type                                                 Automatic   \n",
       "displacement                                                     1.997   \n",
       "cylinders                                                          4.0   \n",
       "drive_chain                                                      front   \n",
       "fuel                                                            Diesel   \n",
       "co2_emission                                                     135.0   \n",
       "emission_class                                                  Euro 6   \n",
       "comfort_convenience  Air Conditioning,Armrest,Automatic Climate Con...   \n",
       "entertainment_media  Bluetooth,Digital radio,Hands-free equipment,O...   \n",
       "extras               Alloy Wheels,Roof Rack,Sport Seats,Touch Scree...   \n",
       "safety_security      Abs,Adaptive Cruise Control,Adaptive Headlight...   \n",
       "gears                                                                6   \n",
       "upholstery_type                                           Part leather   \n",
       "upholstery_color                                                 Black   \n",
       "consumption_comb                                                   5.1   \n",
       "consumption_city                                                   5.7   \n",
       "consumption_country                                                4.8   \n",
       "weight_kg                                                         1659   \n",
       "\n",
       "                                                                 15282  \\\n",
       "make_model                                              Renault Espace   \n",
       "body_type                                                          Van   \n",
       "price                                                            13500   \n",
       "vat                                                     VAT deductible   \n",
       "km                                                              152736   \n",
       "age                                                                  3   \n",
       "hp_kw                                                              118   \n",
       "type                                                              Used   \n",
       "previous_owners                                                      1   \n",
       "body_color                                                       Black   \n",
       "paint_type                                                    Metallic   \n",
       "nr_of_doors                                                          5   \n",
       "nr_of_seats                                                          7   \n",
       "gearing_type                                                 Automatic   \n",
       "displacement                                                     1.598   \n",
       "cylinders                                                          4.0   \n",
       "drive_chain                                                      front   \n",
       "fuel                                                            Diesel   \n",
       "co2_emission                                                     120.0   \n",
       "emission_class                                                  Euro 6   \n",
       "comfort_convenience  Air Conditioning,Automatic Climate Control,Cru...   \n",
       "entertainment_media                                      Bluetooth,USB   \n",
       "extras                                                    Alloy Wheels   \n",
       "safety_security      Abs,Driver-Side Airbag,Electronic Stability Co...   \n",
       "gears                                                                6   \n",
       "upholstery_type                                           Full leather   \n",
       "upholstery_color                                                 Brown   \n",
       "consumption_comb                                                   4.7   \n",
       "consumption_city                                                   5.1   \n",
       "consumption_country                                                4.4   \n",
       "weight_kg                                                         1659   \n",
       "\n",
       "                                                                 15283  \\\n",
       "make_model                                              Renault Espace   \n",
       "body_type                                                          Van   \n",
       "price                                                            12990   \n",
       "vat                                                     VAT deductible   \n",
       "km                                                              197414   \n",
       "age                                                                  3   \n",
       "hp_kw                                                              118   \n",
       "type                                                              Used   \n",
       "previous_owners                                                      1   \n",
       "body_color                                                       White   \n",
       "paint_type                                                    Metallic   \n",
       "nr_of_doors                                                          4   \n",
       "nr_of_seats                                                          5   \n",
       "gearing_type                                                 Automatic   \n",
       "displacement                                                     1.598   \n",
       "cylinders                                                          4.0   \n",
       "drive_chain                                                      front   \n",
       "fuel                                                            Diesel   \n",
       "co2_emission                                                107.301961   \n",
       "emission_class                                                  Euro 6   \n",
       "comfort_convenience  Air Conditioning,Automatic Climate Control,Cru...   \n",
       "entertainment_media                  Bluetooth,On-board computer,Radio   \n",
       "extras                                                    Alloy Wheels   \n",
       "safety_security      Abs,Driver-Side Airbag,Isofix,Passenger-Side A...   \n",
       "gears                                                                6   \n",
       "upholstery_type                                           Part leather   \n",
       "upholstery_color                                                 Brown   \n",
       "consumption_comb                                                  4.67   \n",
       "consumption_city                                                  5.07   \n",
       "consumption_country                                                4.4   \n",
       "weight_kg                                                         1659   \n",
       "\n",
       "                                                                 15284  \\\n",
       "make_model                                              Renault Espace   \n",
       "body_type                                                     Off-Road   \n",
       "price                                                            14900   \n",
       "vat                                                     VAT deductible   \n",
       "km                                                              141522   \n",
       "age                                                                  3   \n",
       "hp_kw                                                              118   \n",
       "type                                                              Used   \n",
       "previous_owners                                                      1   \n",
       "body_color                                                       Black   \n",
       "paint_type                                                    Metallic   \n",
       "nr_of_doors                                                          4   \n",
       "nr_of_seats                                                          7   \n",
       "gearing_type                                                 Automatic   \n",
       "displacement                                                     1.598   \n",
       "cylinders                                                          4.0   \n",
       "drive_chain                                                      front   \n",
       "fuel                                                            Diesel   \n",
       "co2_emission                                                107.301961   \n",
       "emission_class                                                  Euro 6   \n",
       "comfort_convenience  Air Conditioning,Armrest,Automatic Climate Con...   \n",
       "entertainment_media    Bluetooth,CD player,On-board computer,Radio,USB   \n",
       "extras                         Alloy Wheels,Shift Paddles,Touch Screen   \n",
       "safety_security      Abs,Central Door Lock,Driver-Side Airbag,Elect...   \n",
       "gears                                                                6   \n",
       "upholstery_type                                           Full leather   \n",
       "upholstery_color                                                 Brown   \n",
       "consumption_comb                                                  4.67   \n",
       "consumption_city                                                  5.07   \n",
       "consumption_country                                                4.4   \n",
       "weight_kg                                                         1734   \n",
       "\n",
       "                                                                 15314  \\\n",
       "make_model                                              Renault Espace   \n",
       "body_type                                                          Van   \n",
       "price                                                            15500   \n",
       "vat                                                     VAT deductible   \n",
       "km                                                              169068   \n",
       "age                                                                  3   \n",
       "hp_kw                                                               96   \n",
       "type                                                              Used   \n",
       "previous_owners                                                      1   \n",
       "body_color                                                        Grey   \n",
       "paint_type                                                    Metallic   \n",
       "nr_of_doors                                                          5   \n",
       "nr_of_seats                                                          5   \n",
       "gearing_type                                                    Manual   \n",
       "displacement                                                     1.598   \n",
       "cylinders                                                          4.0   \n",
       "drive_chain                                                      front   \n",
       "fuel                                                            Diesel   \n",
       "co2_emission                                                     116.0   \n",
       "emission_class                                                  Euro 6   \n",
       "comfort_convenience  Air Conditioning,Armrest,Automatic Climate Con...   \n",
       "entertainment_media          Bluetooth,Digital radio,On-board computer   \n",
       "extras                                      Alloy Wheels,Voice Control   \n",
       "safety_security      Abs,Central Door Lock With Remote Control,Driv...   \n",
       "gears                                                                6   \n",
       "upholstery_type                                                  Cloth   \n",
       "upholstery_color                                                 Black   \n",
       "consumption_comb                                                   4.4   \n",
       "consumption_city                                                   5.1   \n",
       "consumption_country                                                4.0   \n",
       "weight_kg                                                         1615   \n",
       "\n",
       "                                                                 15320  \\\n",
       "make_model                                              Renault Espace   \n",
       "body_type                                                          Van   \n",
       "price                                                            12614   \n",
       "vat                                                     VAT deductible   \n",
       "km                                                              197323   \n",
       "age                                                                  3   \n",
       "hp_kw                                                               96   \n",
       "type                                                              Used   \n",
       "previous_owners                                                      1   \n",
       "body_color                                                       Brown   \n",
       "paint_type                                                    Metallic   \n",
       "nr_of_doors                                                          4   \n",
       "nr_of_seats                                                          5   \n",
       "gearing_type                                                    Manual   \n",
       "displacement                                                     1.598   \n",
       "cylinders                                                          4.0   \n",
       "drive_chain                                                      front   \n",
       "fuel                                                            Diesel   \n",
       "co2_emission                                                     116.0   \n",
       "emission_class                                                  Euro 6   \n",
       "comfort_convenience  Air Conditioning,Armrest,Automatic Climate Con...   \n",
       "entertainment_media  Bluetooth,CD player,Hands-free equipment,On-bo...   \n",
       "extras               Alloy Wheels,Touch Screen,Trailer Hitch,Voice ...   \n",
       "safety_security      Abs,Alarm System,Blind Spot Monitor,Central Do...   \n",
       "gears                                                                6   \n",
       "upholstery_type                                           Part leather   \n",
       "upholstery_color                                                  Grey   \n",
       "consumption_comb                                                   4.4   \n",
       "consumption_city                                                   5.1   \n",
       "consumption_country                                                4.0   \n",
       "weight_kg                                                         1615   \n",
       "\n",
       "                                                                 15413  \n",
       "make_model                                              Renault Espace  \n",
       "body_type                                                  Transporter  \n",
       "price                                                            20900  \n",
       "vat                                                     VAT deductible  \n",
       "km                                                              140000  \n",
       "age                                                                  3  \n",
       "hp_kw                                                              118  \n",
       "type                                                              Used  \n",
       "previous_owners                                                      1  \n",
       "body_color                                                       Black  \n",
       "paint_type                                                    Metallic  \n",
       "nr_of_doors                                                          5  \n",
       "nr_of_seats                                                          5  \n",
       "gearing_type                                            Semi-automatic  \n",
       "displacement                                                     1.598  \n",
       "cylinders                                                          4.0  \n",
       "drive_chain                                                      front  \n",
       "fuel                                                            Diesel  \n",
       "co2_emission                                                     120.0  \n",
       "emission_class                                                  Euro 6  \n",
       "comfort_convenience  Air Conditioning,Armrest,Automatic Climate Con...  \n",
       "entertainment_media  Bluetooth,CD player,Hands-free equipment,On-bo...  \n",
       "extras               Alloy Wheels,Handicapped Enabled,Shift Paddles...  \n",
       "safety_security      Abs,Alarm System,Electronic Stability Control,...  \n",
       "gears                                                                6  \n",
       "upholstery_type                                           Full leather  \n",
       "upholstery_color                                                 Brown  \n",
       "consumption_comb                                                   4.7  \n",
       "consumption_city                                                   5.1  \n",
       "consumption_country                                                4.4  \n",
       "weight_kg                                                         1734  \n",
       "\n",
       "[31 rows x 315 columns]"
      ]
     },
     "execution_count": 134,
     "metadata": {},
     "output_type": "execute_result"
    }
   ],
   "source": [
    "df.loc[outlier_index_2].T"
   ]
  },
  {
   "cell_type": "code",
   "execution_count": 135,
   "metadata": {
    "id": "97o8S_rFL0z_"
   },
   "outputs": [],
   "source": [
    "max_km_index=df[\"km\"].sort_values().tail(10).index"
   ]
  },
  {
   "cell_type": "code",
   "execution_count": 136,
   "metadata": {
    "colab": {
     "base_uri": "https://localhost:8080/"
    },
    "id": "brnpxBobL04n",
    "outputId": "f0ff5fae-a18e-497c-8567-ad2c0df37b7b"
   },
   "outputs": [
    {
     "data": {
      "text/plain": [
       "10495    222346\n",
       "6399     229500\n",
       "6062     230928\n",
       "6380     231879\n",
       "10804    232000\n",
       "15277    240000\n",
       "6224     248000\n",
       "5712     260000\n",
       "3003     291800\n",
       "9279     317000\n",
       "Name: km, dtype: int64"
      ]
     },
     "execution_count": 136,
     "metadata": {},
     "output_type": "execute_result"
    }
   ],
   "source": [
    "df[\"km\"].sort_values().tail(10)"
   ]
  },
  {
   "cell_type": "code",
   "execution_count": 137,
   "metadata": {
    "colab": {
     "base_uri": "https://localhost:8080/",
     "height": 1000
    },
    "id": "Nbg9ep85MHm2",
    "outputId": "a9ff9951-42f5-40c6-a32f-43e47873f446"
   },
   "outputs": [
    {
     "data": {
      "text/html": [
       "<div>\n",
       "<style scoped>\n",
       "    .dataframe tbody tr th:only-of-type {\n",
       "        vertical-align: middle;\n",
       "    }\n",
       "\n",
       "    .dataframe tbody tr th {\n",
       "        vertical-align: top;\n",
       "    }\n",
       "\n",
       "    .dataframe thead th {\n",
       "        text-align: right;\n",
       "    }\n",
       "</style>\n",
       "<table border=\"1\" class=\"dataframe\">\n",
       "  <thead>\n",
       "    <tr style=\"text-align: right;\">\n",
       "      <th></th>\n",
       "      <th>10495</th>\n",
       "      <th>6399</th>\n",
       "      <th>6062</th>\n",
       "      <th>6380</th>\n",
       "      <th>10804</th>\n",
       "      <th>15277</th>\n",
       "      <th>6224</th>\n",
       "      <th>5712</th>\n",
       "      <th>3003</th>\n",
       "      <th>9279</th>\n",
       "    </tr>\n",
       "  </thead>\n",
       "  <tbody>\n",
       "    <tr>\n",
       "      <th>make_model</th>\n",
       "      <td>Opel Insignia</td>\n",
       "      <td>Opel Astra</td>\n",
       "      <td>Opel Astra</td>\n",
       "      <td>Opel Astra</td>\n",
       "      <td>Opel Insignia</td>\n",
       "      <td>Renault Espace</td>\n",
       "      <td>Opel Astra</td>\n",
       "      <td>Opel Astra</td>\n",
       "      <td>Audi A3</td>\n",
       "      <td>Opel Corsa</td>\n",
       "    </tr>\n",
       "    <tr>\n",
       "      <th>body_type</th>\n",
       "      <td>Station wagon</td>\n",
       "      <td>Station wagon</td>\n",
       "      <td>Station wagon</td>\n",
       "      <td>Station wagon</td>\n",
       "      <td>Station wagon</td>\n",
       "      <td>Van</td>\n",
       "      <td>Station wagon</td>\n",
       "      <td>Station wagon</td>\n",
       "      <td>Sedans</td>\n",
       "      <td>Sedans</td>\n",
       "    </tr>\n",
       "    <tr>\n",
       "      <th>price</th>\n",
       "      <td>9500</td>\n",
       "      <td>6990</td>\n",
       "      <td>8980</td>\n",
       "      <td>7990</td>\n",
       "      <td>10850</td>\n",
       "      <td>14600</td>\n",
       "      <td>9800</td>\n",
       "      <td>6000</td>\n",
       "      <td>14980</td>\n",
       "      <td>8350</td>\n",
       "    </tr>\n",
       "    <tr>\n",
       "      <th>vat</th>\n",
       "      <td>VAT deductible</td>\n",
       "      <td>VAT deductible</td>\n",
       "      <td>VAT deductible</td>\n",
       "      <td>VAT deductible</td>\n",
       "      <td>VAT deductible</td>\n",
       "      <td>VAT deductible</td>\n",
       "      <td>VAT deductible</td>\n",
       "      <td>VAT deductible</td>\n",
       "      <td>VAT deductible</td>\n",
       "      <td>VAT deductible</td>\n",
       "    </tr>\n",
       "    <tr>\n",
       "      <th>km</th>\n",
       "      <td>222346</td>\n",
       "      <td>229500</td>\n",
       "      <td>230928</td>\n",
       "      <td>231879</td>\n",
       "      <td>232000</td>\n",
       "      <td>240000</td>\n",
       "      <td>248000</td>\n",
       "      <td>260000</td>\n",
       "      <td>291800</td>\n",
       "      <td>317000</td>\n",
       "    </tr>\n",
       "    <tr>\n",
       "      <th>age</th>\n",
       "      <td>3</td>\n",
       "      <td>3</td>\n",
       "      <td>3</td>\n",
       "      <td>3</td>\n",
       "      <td>3</td>\n",
       "      <td>2</td>\n",
       "      <td>3</td>\n",
       "      <td>3</td>\n",
       "      <td>3</td>\n",
       "      <td>2</td>\n",
       "    </tr>\n",
       "    <tr>\n",
       "      <th>hp_kw</th>\n",
       "      <td>125</td>\n",
       "      <td>100</td>\n",
       "      <td>100</td>\n",
       "      <td>118</td>\n",
       "      <td>125</td>\n",
       "      <td>118</td>\n",
       "      <td>81</td>\n",
       "      <td>100</td>\n",
       "      <td>110</td>\n",
       "      <td>66</td>\n",
       "    </tr>\n",
       "    <tr>\n",
       "      <th>type</th>\n",
       "      <td>Used</td>\n",
       "      <td>Used</td>\n",
       "      <td>Used</td>\n",
       "      <td>Used</td>\n",
       "      <td>Used</td>\n",
       "      <td>Used</td>\n",
       "      <td>Used</td>\n",
       "      <td>Used</td>\n",
       "      <td>Used</td>\n",
       "      <td>Used</td>\n",
       "    </tr>\n",
       "    <tr>\n",
       "      <th>previous_owners</th>\n",
       "      <td>1</td>\n",
       "      <td>2</td>\n",
       "      <td>1</td>\n",
       "      <td>1</td>\n",
       "      <td>1</td>\n",
       "      <td>1</td>\n",
       "      <td>1</td>\n",
       "      <td>1</td>\n",
       "      <td>1</td>\n",
       "      <td>1</td>\n",
       "    </tr>\n",
       "    <tr>\n",
       "      <th>body_color</th>\n",
       "      <td>Grey</td>\n",
       "      <td>Black</td>\n",
       "      <td>Black</td>\n",
       "      <td>Black</td>\n",
       "      <td>White</td>\n",
       "      <td>White</td>\n",
       "      <td>White</td>\n",
       "      <td>Silver</td>\n",
       "      <td>Blue</td>\n",
       "      <td>Red</td>\n",
       "    </tr>\n",
       "    <tr>\n",
       "      <th>paint_type</th>\n",
       "      <td>Metallic</td>\n",
       "      <td>Metallic</td>\n",
       "      <td>Metallic</td>\n",
       "      <td>Metallic</td>\n",
       "      <td>Metallic</td>\n",
       "      <td>Metallic</td>\n",
       "      <td>Metallic</td>\n",
       "      <td>Metallic</td>\n",
       "      <td>Metallic</td>\n",
       "      <td>Metallic</td>\n",
       "    </tr>\n",
       "    <tr>\n",
       "      <th>nr_of_doors</th>\n",
       "      <td>4</td>\n",
       "      <td>5</td>\n",
       "      <td>4</td>\n",
       "      <td>4</td>\n",
       "      <td>4</td>\n",
       "      <td>5</td>\n",
       "      <td>4</td>\n",
       "      <td>5</td>\n",
       "      <td>4</td>\n",
       "      <td>3</td>\n",
       "    </tr>\n",
       "    <tr>\n",
       "      <th>nr_of_seats</th>\n",
       "      <td>5</td>\n",
       "      <td>5</td>\n",
       "      <td>5</td>\n",
       "      <td>5</td>\n",
       "      <td>5</td>\n",
       "      <td>5</td>\n",
       "      <td>4</td>\n",
       "      <td>5</td>\n",
       "      <td>5</td>\n",
       "      <td>5</td>\n",
       "    </tr>\n",
       "    <tr>\n",
       "      <th>gearing_type</th>\n",
       "      <td>Manual</td>\n",
       "      <td>Manual</td>\n",
       "      <td>Automatic</td>\n",
       "      <td>Manual</td>\n",
       "      <td>Automatic</td>\n",
       "      <td>Automatic</td>\n",
       "      <td>Manual</td>\n",
       "      <td>Automatic</td>\n",
       "      <td>Manual</td>\n",
       "      <td>Manual</td>\n",
       "    </tr>\n",
       "    <tr>\n",
       "      <th>displacement</th>\n",
       "      <td>1.956</td>\n",
       "      <td>1.598</td>\n",
       "      <td>1.598</td>\n",
       "      <td>1.598</td>\n",
       "      <td>1.956</td>\n",
       "      <td>1.598</td>\n",
       "      <td>1.686</td>\n",
       "      <td>1.598</td>\n",
       "      <td>1.968</td>\n",
       "      <td>1.398</td>\n",
       "    </tr>\n",
       "    <tr>\n",
       "      <th>cylinders</th>\n",
       "      <td>4.0</td>\n",
       "      <td>4.0</td>\n",
       "      <td>4.0</td>\n",
       "      <td>4.0</td>\n",
       "      <td>4.0</td>\n",
       "      <td>4.0</td>\n",
       "      <td>4.0</td>\n",
       "      <td>4.0</td>\n",
       "      <td>4.0</td>\n",
       "      <td>4.0</td>\n",
       "    </tr>\n",
       "    <tr>\n",
       "      <th>drive_chain</th>\n",
       "      <td>front</td>\n",
       "      <td>front</td>\n",
       "      <td>front</td>\n",
       "      <td>front</td>\n",
       "      <td>front</td>\n",
       "      <td>front</td>\n",
       "      <td>front</td>\n",
       "      <td>front</td>\n",
       "      <td>4WD</td>\n",
       "      <td>front</td>\n",
       "    </tr>\n",
       "    <tr>\n",
       "      <th>fuel</th>\n",
       "      <td>Diesel</td>\n",
       "      <td>Diesel</td>\n",
       "      <td>Diesel</td>\n",
       "      <td>Diesel</td>\n",
       "      <td>Diesel</td>\n",
       "      <td>Diesel</td>\n",
       "      <td>Diesel</td>\n",
       "      <td>Diesel</td>\n",
       "      <td>Diesel</td>\n",
       "      <td>LPG/CNG</td>\n",
       "    </tr>\n",
       "    <tr>\n",
       "      <th>co2_emission</th>\n",
       "      <td>119.0</td>\n",
       "      <td>104.0</td>\n",
       "      <td>107.301961</td>\n",
       "      <td>107.301961</td>\n",
       "      <td>146.0</td>\n",
       "      <td>120.0</td>\n",
       "      <td>120.0</td>\n",
       "      <td>119.0</td>\n",
       "      <td>125.0</td>\n",
       "      <td>136.0</td>\n",
       "    </tr>\n",
       "    <tr>\n",
       "      <th>emission_class</th>\n",
       "      <td>Euro 6</td>\n",
       "      <td>Euro 6</td>\n",
       "      <td>Euro 6</td>\n",
       "      <td>Euro 6</td>\n",
       "      <td>Euro 6</td>\n",
       "      <td>Euro 6</td>\n",
       "      <td>Euro 5</td>\n",
       "      <td>Euro 6</td>\n",
       "      <td>Euro 6</td>\n",
       "      <td>Euro 6d-TEMP</td>\n",
       "    </tr>\n",
       "    <tr>\n",
       "      <th>comfort_convenience</th>\n",
       "      <td>Air Conditioning,Armrest,Automatic Climate Con...</td>\n",
       "      <td>Air Conditioning,Armrest,Automatic Climate Con...</td>\n",
       "      <td>Air Conditioning,Automatic Climate Control,Cru...</td>\n",
       "      <td>Air Conditioning,Electrical Side Mirrors,Multi...</td>\n",
       "      <td>Air Conditioning,Armrest,Automatic Climate Con...</td>\n",
       "      <td>Air Conditioning,Automatic Climate Control,Cru...</td>\n",
       "      <td>Air Conditioning,Armrest,Electrical Side Mirro...</td>\n",
       "      <td>Air Conditioning,Automatic Climate Control,Cru...</td>\n",
       "      <td>Air Conditioning,Armrest,Automatic Climate Con...</td>\n",
       "      <td>Air Conditioning,Hill Holder,Power Windows</td>\n",
       "    </tr>\n",
       "    <tr>\n",
       "      <th>entertainment_media</th>\n",
       "      <td>Bluetooth,CD player,Hands-free equipment,On-bo...</td>\n",
       "      <td>Bluetooth,CD player,Hands-free equipment,MP3,O...</td>\n",
       "      <td>Bluetooth,On-board computer,Radio</td>\n",
       "      <td>Bluetooth,On-board computer,Radio</td>\n",
       "      <td>On-board computer</td>\n",
       "      <td>Sound system</td>\n",
       "      <td>Bluetooth,CD player,Hands-free equipment,MP3,O...</td>\n",
       "      <td>Bluetooth,Hands-free equipment,On-board comput...</td>\n",
       "      <td>Bluetooth,CD player,Hands-free equipment,On-bo...</td>\n",
       "      <td>On-board computer</td>\n",
       "    </tr>\n",
       "    <tr>\n",
       "      <th>extras</th>\n",
       "      <td>Alloy Wheels,Roof Rack,Touch Screen,Trailer Hi...</td>\n",
       "      <td>Alloy Wheels,Roof Rack,Voice Control,Winter Tyres</td>\n",
       "      <td>Alloy Wheels,Roof Rack,Sport Seats,Trailer Hitch</td>\n",
       "      <td>Roof Rack,Trailer Hitch</td>\n",
       "      <td>Roof Rack</td>\n",
       "      <td>Alloy Wheels</td>\n",
       "      <td>Touch Screen</td>\n",
       "      <td>Alloy Wheels,Roof Rack,Touch Screen,Trailer Hi...</td>\n",
       "      <td>Alloy Wheels,Sport Package,Sport Seats,Sport S...</td>\n",
       "      <td>Alloy Wheels</td>\n",
       "    </tr>\n",
       "    <tr>\n",
       "      <th>safety_security</th>\n",
       "      <td>Abs,Adaptive Headlights,Blind Spot Monitor,Cen...</td>\n",
       "      <td>Abs,Central Door Lock,Central Door Lock With R...</td>\n",
       "      <td>Abs,Central Door Lock,Driver-Side Airbag,Fog L...</td>\n",
       "      <td>Abs,Central Door Lock,Driver-Side Airbag,Elect...</td>\n",
       "      <td>Abs,Central Door Lock,Daytime Running Lights,D...</td>\n",
       "      <td>Abs,Central Door Lock With Remote Control,Driv...</td>\n",
       "      <td>Abs,Alarm System,Central Door Lock,Electronic ...</td>\n",
       "      <td>Abs,Central Door Lock,Central Door Lock With R...</td>\n",
       "      <td>Abs,Adaptive Headlights,Central Door Lock,Dayt...</td>\n",
       "      <td>Abs,Central Door Lock With Remote Control,Dayt...</td>\n",
       "    </tr>\n",
       "    <tr>\n",
       "      <th>gears</th>\n",
       "      <td>6</td>\n",
       "      <td>6</td>\n",
       "      <td>6</td>\n",
       "      <td>6</td>\n",
       "      <td>6</td>\n",
       "      <td>6</td>\n",
       "      <td>6</td>\n",
       "      <td>6</td>\n",
       "      <td>6</td>\n",
       "      <td>5</td>\n",
       "    </tr>\n",
       "    <tr>\n",
       "      <th>upholstery_type</th>\n",
       "      <td>Cloth</td>\n",
       "      <td>Cloth</td>\n",
       "      <td>Full leather</td>\n",
       "      <td>Cloth</td>\n",
       "      <td>Cloth</td>\n",
       "      <td>Part leather</td>\n",
       "      <td>Cloth</td>\n",
       "      <td>Part leather</td>\n",
       "      <td>Cloth</td>\n",
       "      <td>Cloth</td>\n",
       "    </tr>\n",
       "    <tr>\n",
       "      <th>upholstery_color</th>\n",
       "      <td>Black</td>\n",
       "      <td>Grey</td>\n",
       "      <td>Grey</td>\n",
       "      <td>Grey</td>\n",
       "      <td>Black</td>\n",
       "      <td>Brown</td>\n",
       "      <td>Black</td>\n",
       "      <td>Grey</td>\n",
       "      <td>Black</td>\n",
       "      <td>Black</td>\n",
       "    </tr>\n",
       "    <tr>\n",
       "      <th>consumption_comb</th>\n",
       "      <td>4.5</td>\n",
       "      <td>3.9</td>\n",
       "      <td>4.79</td>\n",
       "      <td>3.76</td>\n",
       "      <td>5.5</td>\n",
       "      <td>4.6</td>\n",
       "      <td>4.5</td>\n",
       "      <td>4.5</td>\n",
       "      <td>4.7</td>\n",
       "      <td>6.0</td>\n",
       "    </tr>\n",
       "    <tr>\n",
       "      <th>consumption_city</th>\n",
       "      <td>5.7</td>\n",
       "      <td>4.6</td>\n",
       "      <td>6.05</td>\n",
       "      <td>4.35</td>\n",
       "      <td>7.7</td>\n",
       "      <td>5.0</td>\n",
       "      <td>5.4</td>\n",
       "      <td>5.7</td>\n",
       "      <td>5.6</td>\n",
       "      <td>7.4</td>\n",
       "    </tr>\n",
       "    <tr>\n",
       "      <th>consumption_country</th>\n",
       "      <td>3.8</td>\n",
       "      <td>3.6</td>\n",
       "      <td>4.06</td>\n",
       "      <td>3.42</td>\n",
       "      <td>4.2</td>\n",
       "      <td>4.4</td>\n",
       "      <td>4.0</td>\n",
       "      <td>3.8</td>\n",
       "      <td>4.1</td>\n",
       "      <td>5.1</td>\n",
       "    </tr>\n",
       "    <tr>\n",
       "      <th>weight_kg</th>\n",
       "      <td>1623</td>\n",
       "      <td>1518</td>\n",
       "      <td>1403</td>\n",
       "      <td>1571</td>\n",
       "      <td>1701</td>\n",
       "      <td>1659</td>\n",
       "      <td>1523</td>\n",
       "      <td>1425</td>\n",
       "      <td>1385</td>\n",
       "      <td>1199</td>\n",
       "    </tr>\n",
       "  </tbody>\n",
       "</table>\n",
       "</div>"
      ],
      "text/plain": [
       "                                                                 10495  \\\n",
       "make_model                                               Opel Insignia   \n",
       "body_type                                                Station wagon   \n",
       "price                                                             9500   \n",
       "vat                                                     VAT deductible   \n",
       "km                                                              222346   \n",
       "age                                                                  3   \n",
       "hp_kw                                                              125   \n",
       "type                                                              Used   \n",
       "previous_owners                                                      1   \n",
       "body_color                                                        Grey   \n",
       "paint_type                                                    Metallic   \n",
       "nr_of_doors                                                          4   \n",
       "nr_of_seats                                                          5   \n",
       "gearing_type                                                    Manual   \n",
       "displacement                                                     1.956   \n",
       "cylinders                                                          4.0   \n",
       "drive_chain                                                      front   \n",
       "fuel                                                            Diesel   \n",
       "co2_emission                                                     119.0   \n",
       "emission_class                                                  Euro 6   \n",
       "comfort_convenience  Air Conditioning,Armrest,Automatic Climate Con...   \n",
       "entertainment_media  Bluetooth,CD player,Hands-free equipment,On-bo...   \n",
       "extras               Alloy Wheels,Roof Rack,Touch Screen,Trailer Hi...   \n",
       "safety_security      Abs,Adaptive Headlights,Blind Spot Monitor,Cen...   \n",
       "gears                                                                6   \n",
       "upholstery_type                                                  Cloth   \n",
       "upholstery_color                                                 Black   \n",
       "consumption_comb                                                   4.5   \n",
       "consumption_city                                                   5.7   \n",
       "consumption_country                                                3.8   \n",
       "weight_kg                                                         1623   \n",
       "\n",
       "                                                                 6399   \\\n",
       "make_model                                                  Opel Astra   \n",
       "body_type                                                Station wagon   \n",
       "price                                                             6990   \n",
       "vat                                                     VAT deductible   \n",
       "km                                                              229500   \n",
       "age                                                                  3   \n",
       "hp_kw                                                              100   \n",
       "type                                                              Used   \n",
       "previous_owners                                                      2   \n",
       "body_color                                                       Black   \n",
       "paint_type                                                    Metallic   \n",
       "nr_of_doors                                                          5   \n",
       "nr_of_seats                                                          5   \n",
       "gearing_type                                                    Manual   \n",
       "displacement                                                     1.598   \n",
       "cylinders                                                          4.0   \n",
       "drive_chain                                                      front   \n",
       "fuel                                                            Diesel   \n",
       "co2_emission                                                     104.0   \n",
       "emission_class                                                  Euro 6   \n",
       "comfort_convenience  Air Conditioning,Armrest,Automatic Climate Con...   \n",
       "entertainment_media  Bluetooth,CD player,Hands-free equipment,MP3,O...   \n",
       "extras               Alloy Wheels,Roof Rack,Voice Control,Winter Tyres   \n",
       "safety_security      Abs,Central Door Lock,Central Door Lock With R...   \n",
       "gears                                                                6   \n",
       "upholstery_type                                                  Cloth   \n",
       "upholstery_color                                                  Grey   \n",
       "consumption_comb                                                   3.9   \n",
       "consumption_city                                                   4.6   \n",
       "consumption_country                                                3.6   \n",
       "weight_kg                                                         1518   \n",
       "\n",
       "                                                                 6062   \\\n",
       "make_model                                                  Opel Astra   \n",
       "body_type                                                Station wagon   \n",
       "price                                                             8980   \n",
       "vat                                                     VAT deductible   \n",
       "km                                                              230928   \n",
       "age                                                                  3   \n",
       "hp_kw                                                              100   \n",
       "type                                                              Used   \n",
       "previous_owners                                                      1   \n",
       "body_color                                                       Black   \n",
       "paint_type                                                    Metallic   \n",
       "nr_of_doors                                                          4   \n",
       "nr_of_seats                                                          5   \n",
       "gearing_type                                                 Automatic   \n",
       "displacement                                                     1.598   \n",
       "cylinders                                                          4.0   \n",
       "drive_chain                                                      front   \n",
       "fuel                                                            Diesel   \n",
       "co2_emission                                                107.301961   \n",
       "emission_class                                                  Euro 6   \n",
       "comfort_convenience  Air Conditioning,Automatic Climate Control,Cru...   \n",
       "entertainment_media                  Bluetooth,On-board computer,Radio   \n",
       "extras                Alloy Wheels,Roof Rack,Sport Seats,Trailer Hitch   \n",
       "safety_security      Abs,Central Door Lock,Driver-Side Airbag,Fog L...   \n",
       "gears                                                                6   \n",
       "upholstery_type                                           Full leather   \n",
       "upholstery_color                                                  Grey   \n",
       "consumption_comb                                                  4.79   \n",
       "consumption_city                                                  6.05   \n",
       "consumption_country                                               4.06   \n",
       "weight_kg                                                         1403   \n",
       "\n",
       "                                                                 6380   \\\n",
       "make_model                                                  Opel Astra   \n",
       "body_type                                                Station wagon   \n",
       "price                                                             7990   \n",
       "vat                                                     VAT deductible   \n",
       "km                                                              231879   \n",
       "age                                                                  3   \n",
       "hp_kw                                                              118   \n",
       "type                                                              Used   \n",
       "previous_owners                                                      1   \n",
       "body_color                                                       Black   \n",
       "paint_type                                                    Metallic   \n",
       "nr_of_doors                                                          4   \n",
       "nr_of_seats                                                          5   \n",
       "gearing_type                                                    Manual   \n",
       "displacement                                                     1.598   \n",
       "cylinders                                                          4.0   \n",
       "drive_chain                                                      front   \n",
       "fuel                                                            Diesel   \n",
       "co2_emission                                                107.301961   \n",
       "emission_class                                                  Euro 6   \n",
       "comfort_convenience  Air Conditioning,Electrical Side Mirrors,Multi...   \n",
       "entertainment_media                  Bluetooth,On-board computer,Radio   \n",
       "extras                                         Roof Rack,Trailer Hitch   \n",
       "safety_security      Abs,Central Door Lock,Driver-Side Airbag,Elect...   \n",
       "gears                                                                6   \n",
       "upholstery_type                                                  Cloth   \n",
       "upholstery_color                                                  Grey   \n",
       "consumption_comb                                                  3.76   \n",
       "consumption_city                                                  4.35   \n",
       "consumption_country                                               3.42   \n",
       "weight_kg                                                         1571   \n",
       "\n",
       "                                                                 10804  \\\n",
       "make_model                                               Opel Insignia   \n",
       "body_type                                                Station wagon   \n",
       "price                                                            10850   \n",
       "vat                                                     VAT deductible   \n",
       "km                                                              232000   \n",
       "age                                                                  3   \n",
       "hp_kw                                                              125   \n",
       "type                                                              Used   \n",
       "previous_owners                                                      1   \n",
       "body_color                                                       White   \n",
       "paint_type                                                    Metallic   \n",
       "nr_of_doors                                                          4   \n",
       "nr_of_seats                                                          5   \n",
       "gearing_type                                                 Automatic   \n",
       "displacement                                                     1.956   \n",
       "cylinders                                                          4.0   \n",
       "drive_chain                                                      front   \n",
       "fuel                                                            Diesel   \n",
       "co2_emission                                                     146.0   \n",
       "emission_class                                                  Euro 6   \n",
       "comfort_convenience  Air Conditioning,Armrest,Automatic Climate Con...   \n",
       "entertainment_media                                  On-board computer   \n",
       "extras                                                       Roof Rack   \n",
       "safety_security      Abs,Central Door Lock,Daytime Running Lights,D...   \n",
       "gears                                                                6   \n",
       "upholstery_type                                                  Cloth   \n",
       "upholstery_color                                                 Black   \n",
       "consumption_comb                                                   5.5   \n",
       "consumption_city                                                   7.7   \n",
       "consumption_country                                                4.2   \n",
       "weight_kg                                                         1701   \n",
       "\n",
       "                                                                 15277  \\\n",
       "make_model                                              Renault Espace   \n",
       "body_type                                                          Van   \n",
       "price                                                            14600   \n",
       "vat                                                     VAT deductible   \n",
       "km                                                              240000   \n",
       "age                                                                  2   \n",
       "hp_kw                                                              118   \n",
       "type                                                              Used   \n",
       "previous_owners                                                      1   \n",
       "body_color                                                       White   \n",
       "paint_type                                                    Metallic   \n",
       "nr_of_doors                                                          5   \n",
       "nr_of_seats                                                          5   \n",
       "gearing_type                                                 Automatic   \n",
       "displacement                                                     1.598   \n",
       "cylinders                                                          4.0   \n",
       "drive_chain                                                      front   \n",
       "fuel                                                            Diesel   \n",
       "co2_emission                                                     120.0   \n",
       "emission_class                                                  Euro 6   \n",
       "comfort_convenience  Air Conditioning,Automatic Climate Control,Cru...   \n",
       "entertainment_media                                       Sound system   \n",
       "extras                                                    Alloy Wheels   \n",
       "safety_security      Abs,Central Door Lock With Remote Control,Driv...   \n",
       "gears                                                                6   \n",
       "upholstery_type                                           Part leather   \n",
       "upholstery_color                                                 Brown   \n",
       "consumption_comb                                                   4.6   \n",
       "consumption_city                                                   5.0   \n",
       "consumption_country                                                4.4   \n",
       "weight_kg                                                         1659   \n",
       "\n",
       "                                                                 6224   \\\n",
       "make_model                                                  Opel Astra   \n",
       "body_type                                                Station wagon   \n",
       "price                                                             9800   \n",
       "vat                                                     VAT deductible   \n",
       "km                                                              248000   \n",
       "age                                                                  3   \n",
       "hp_kw                                                               81   \n",
       "type                                                              Used   \n",
       "previous_owners                                                      1   \n",
       "body_color                                                       White   \n",
       "paint_type                                                    Metallic   \n",
       "nr_of_doors                                                          4   \n",
       "nr_of_seats                                                          4   \n",
       "gearing_type                                                    Manual   \n",
       "displacement                                                     1.686   \n",
       "cylinders                                                          4.0   \n",
       "drive_chain                                                      front   \n",
       "fuel                                                            Diesel   \n",
       "co2_emission                                                     120.0   \n",
       "emission_class                                                  Euro 5   \n",
       "comfort_convenience  Air Conditioning,Armrest,Electrical Side Mirro...   \n",
       "entertainment_media  Bluetooth,CD player,Hands-free equipment,MP3,O...   \n",
       "extras                                                    Touch Screen   \n",
       "safety_security      Abs,Alarm System,Central Door Lock,Electronic ...   \n",
       "gears                                                                6   \n",
       "upholstery_type                                                  Cloth   \n",
       "upholstery_color                                                 Black   \n",
       "consumption_comb                                                   4.5   \n",
       "consumption_city                                                   5.4   \n",
       "consumption_country                                                4.0   \n",
       "weight_kg                                                         1523   \n",
       "\n",
       "                                                                 5712   \\\n",
       "make_model                                                  Opel Astra   \n",
       "body_type                                                Station wagon   \n",
       "price                                                             6000   \n",
       "vat                                                     VAT deductible   \n",
       "km                                                              260000   \n",
       "age                                                                  3   \n",
       "hp_kw                                                              100   \n",
       "type                                                              Used   \n",
       "previous_owners                                                      1   \n",
       "body_color                                                      Silver   \n",
       "paint_type                                                    Metallic   \n",
       "nr_of_doors                                                          5   \n",
       "nr_of_seats                                                          5   \n",
       "gearing_type                                                 Automatic   \n",
       "displacement                                                     1.598   \n",
       "cylinders                                                          4.0   \n",
       "drive_chain                                                      front   \n",
       "fuel                                                            Diesel   \n",
       "co2_emission                                                     119.0   \n",
       "emission_class                                                  Euro 6   \n",
       "comfort_convenience  Air Conditioning,Automatic Climate Control,Cru...   \n",
       "entertainment_media  Bluetooth,Hands-free equipment,On-board comput...   \n",
       "extras               Alloy Wheels,Roof Rack,Touch Screen,Trailer Hi...   \n",
       "safety_security      Abs,Central Door Lock,Central Door Lock With R...   \n",
       "gears                                                                6   \n",
       "upholstery_type                                           Part leather   \n",
       "upholstery_color                                                  Grey   \n",
       "consumption_comb                                                   4.5   \n",
       "consumption_city                                                   5.7   \n",
       "consumption_country                                                3.8   \n",
       "weight_kg                                                         1425   \n",
       "\n",
       "                                                                 3003   \\\n",
       "make_model                                                     Audi A3   \n",
       "body_type                                                       Sedans   \n",
       "price                                                            14980   \n",
       "vat                                                     VAT deductible   \n",
       "km                                                              291800   \n",
       "age                                                                  3   \n",
       "hp_kw                                                              110   \n",
       "type                                                              Used   \n",
       "previous_owners                                                      1   \n",
       "body_color                                                        Blue   \n",
       "paint_type                                                    Metallic   \n",
       "nr_of_doors                                                          4   \n",
       "nr_of_seats                                                          5   \n",
       "gearing_type                                                    Manual   \n",
       "displacement                                                     1.968   \n",
       "cylinders                                                          4.0   \n",
       "drive_chain                                                        4WD   \n",
       "fuel                                                            Diesel   \n",
       "co2_emission                                                     125.0   \n",
       "emission_class                                                  Euro 6   \n",
       "comfort_convenience  Air Conditioning,Armrest,Automatic Climate Con...   \n",
       "entertainment_media  Bluetooth,CD player,Hands-free equipment,On-bo...   \n",
       "extras               Alloy Wheels,Sport Package,Sport Seats,Sport S...   \n",
       "safety_security      Abs,Adaptive Headlights,Central Door Lock,Dayt...   \n",
       "gears                                                                6   \n",
       "upholstery_type                                                  Cloth   \n",
       "upholstery_color                                                 Black   \n",
       "consumption_comb                                                   4.7   \n",
       "consumption_city                                                   5.6   \n",
       "consumption_country                                                4.1   \n",
       "weight_kg                                                         1385   \n",
       "\n",
       "                                                                 9279   \n",
       "make_model                                                  Opel Corsa  \n",
       "body_type                                                       Sedans  \n",
       "price                                                             8350  \n",
       "vat                                                     VAT deductible  \n",
       "km                                                              317000  \n",
       "age                                                                  2  \n",
       "hp_kw                                                               66  \n",
       "type                                                              Used  \n",
       "previous_owners                                                      1  \n",
       "body_color                                                         Red  \n",
       "paint_type                                                    Metallic  \n",
       "nr_of_doors                                                          3  \n",
       "nr_of_seats                                                          5  \n",
       "gearing_type                                                    Manual  \n",
       "displacement                                                     1.398  \n",
       "cylinders                                                          4.0  \n",
       "drive_chain                                                      front  \n",
       "fuel                                                           LPG/CNG  \n",
       "co2_emission                                                     136.0  \n",
       "emission_class                                            Euro 6d-TEMP  \n",
       "comfort_convenience         Air Conditioning,Hill Holder,Power Windows  \n",
       "entertainment_media                                  On-board computer  \n",
       "extras                                                    Alloy Wheels  \n",
       "safety_security      Abs,Central Door Lock With Remote Control,Dayt...  \n",
       "gears                                                                5  \n",
       "upholstery_type                                                  Cloth  \n",
       "upholstery_color                                                 Black  \n",
       "consumption_comb                                                   6.0  \n",
       "consumption_city                                                   7.4  \n",
       "consumption_country                                                5.1  \n",
       "weight_kg                                                         1199  "
      ]
     },
     "execution_count": 137,
     "metadata": {},
     "output_type": "execute_result"
    }
   ],
   "source": [
    "df.loc[max_km_index].T"
   ]
  },
  {
   "cell_type": "code",
   "execution_count": 138,
   "metadata": {
    "colab": {
     "base_uri": "https://localhost:8080/",
     "height": 552
    },
    "id": "Zt7VzvnEL0-h",
    "outputId": "a45540a5-af04-4ded-c19b-156ce48d7837"
   },
   "outputs": [
    {
     "data": {
      "text/html": [
       "<div>\n",
       "<style scoped>\n",
       "    .dataframe tbody tr th:only-of-type {\n",
       "        vertical-align: middle;\n",
       "    }\n",
       "\n",
       "    .dataframe tbody tr th {\n",
       "        vertical-align: top;\n",
       "    }\n",
       "\n",
       "    .dataframe thead th {\n",
       "        text-align: right;\n",
       "    }\n",
       "</style>\n",
       "<table border=\"1\" class=\"dataframe\">\n",
       "  <thead>\n",
       "    <tr style=\"text-align: right;\">\n",
       "      <th></th>\n",
       "      <th>price</th>\n",
       "      <th>km</th>\n",
       "      <th>age</th>\n",
       "      <th>hp_kw</th>\n",
       "      <th>previous_owners</th>\n",
       "      <th>nr_of_doors</th>\n",
       "      <th>nr_of_seats</th>\n",
       "      <th>displacement</th>\n",
       "      <th>cylinders</th>\n",
       "      <th>co2_emission</th>\n",
       "      <th>gears</th>\n",
       "      <th>consumption_comb</th>\n",
       "      <th>consumption_city</th>\n",
       "      <th>consumption_country</th>\n",
       "      <th>weight_kg</th>\n",
       "    </tr>\n",
       "  </thead>\n",
       "  <tbody>\n",
       "    <tr>\n",
       "      <th>price</th>\n",
       "      <td>1.000000</td>\n",
       "      <td>-0.400100</td>\n",
       "      <td>-0.468393</td>\n",
       "      <td>0.693537</td>\n",
       "      <td>-0.100789</td>\n",
       "      <td>0.164241</td>\n",
       "      <td>0.259125</td>\n",
       "      <td>0.434655</td>\n",
       "      <td>0.003223</td>\n",
       "      <td>0.317133</td>\n",
       "      <td>0.502283</td>\n",
       "      <td>0.168822</td>\n",
       "      <td>0.152317</td>\n",
       "      <td>0.205432</td>\n",
       "      <td>0.415368</td>\n",
       "    </tr>\n",
       "    <tr>\n",
       "      <th>km</th>\n",
       "      <td>-0.400100</td>\n",
       "      <td>1.000000</td>\n",
       "      <td>0.755903</td>\n",
       "      <td>-0.000746</td>\n",
       "      <td>0.088880</td>\n",
       "      <td>-0.003581</td>\n",
       "      <td>-0.011419</td>\n",
       "      <td>0.183168</td>\n",
       "      <td>0.225746</td>\n",
       "      <td>-0.202512</td>\n",
       "      <td>0.018560</td>\n",
       "      <td>-0.191901</td>\n",
       "      <td>-0.217321</td>\n",
       "      <td>-0.204534</td>\n",
       "      <td>0.166327</td>\n",
       "    </tr>\n",
       "    <tr>\n",
       "      <th>age</th>\n",
       "      <td>-0.468393</td>\n",
       "      <td>0.755903</td>\n",
       "      <td>1.000000</td>\n",
       "      <td>-0.082802</td>\n",
       "      <td>0.227748</td>\n",
       "      <td>-0.088558</td>\n",
       "      <td>-0.079530</td>\n",
       "      <td>0.028027</td>\n",
       "      <td>0.201961</td>\n",
       "      <td>-0.255889</td>\n",
       "      <td>-0.039586</td>\n",
       "      <td>-0.218343</td>\n",
       "      <td>-0.251058</td>\n",
       "      <td>-0.240459</td>\n",
       "      <td>0.099977</td>\n",
       "    </tr>\n",
       "    <tr>\n",
       "      <th>hp_kw</th>\n",
       "      <td>0.693537</td>\n",
       "      <td>-0.000746</td>\n",
       "      <td>-0.082802</td>\n",
       "      <td>1.000000</td>\n",
       "      <td>-0.003697</td>\n",
       "      <td>0.123852</td>\n",
       "      <td>0.296797</td>\n",
       "      <td>0.624002</td>\n",
       "      <td>0.317873</td>\n",
       "      <td>0.466955</td>\n",
       "      <td>0.487423</td>\n",
       "      <td>0.219924</td>\n",
       "      <td>0.254796</td>\n",
       "      <td>0.226637</td>\n",
       "      <td>0.587192</td>\n",
       "    </tr>\n",
       "    <tr>\n",
       "      <th>previous_owners</th>\n",
       "      <td>-0.100789</td>\n",
       "      <td>0.088880</td>\n",
       "      <td>0.227748</td>\n",
       "      <td>-0.003697</td>\n",
       "      <td>1.000000</td>\n",
       "      <td>-0.171173</td>\n",
       "      <td>0.002644</td>\n",
       "      <td>-0.029353</td>\n",
       "      <td>0.038540</td>\n",
       "      <td>0.027585</td>\n",
       "      <td>-0.043915</td>\n",
       "      <td>-0.019712</td>\n",
       "      <td>-0.009631</td>\n",
       "      <td>-0.038211</td>\n",
       "      <td>0.028758</td>\n",
       "    </tr>\n",
       "    <tr>\n",
       "      <th>nr_of_doors</th>\n",
       "      <td>0.164241</td>\n",
       "      <td>-0.003581</td>\n",
       "      <td>-0.088558</td>\n",
       "      <td>0.123852</td>\n",
       "      <td>-0.171173</td>\n",
       "      <td>1.000000</td>\n",
       "      <td>0.100643</td>\n",
       "      <td>0.129807</td>\n",
       "      <td>0.024853</td>\n",
       "      <td>-0.048242</td>\n",
       "      <td>0.191759</td>\n",
       "      <td>-0.030595</td>\n",
       "      <td>-0.062048</td>\n",
       "      <td>-0.020113</td>\n",
       "      <td>0.125569</td>\n",
       "    </tr>\n",
       "    <tr>\n",
       "      <th>nr_of_seats</th>\n",
       "      <td>0.259125</td>\n",
       "      <td>-0.011419</td>\n",
       "      <td>-0.079530</td>\n",
       "      <td>0.296797</td>\n",
       "      <td>0.002644</td>\n",
       "      <td>0.100643</td>\n",
       "      <td>1.000000</td>\n",
       "      <td>0.204943</td>\n",
       "      <td>0.214484</td>\n",
       "      <td>0.247183</td>\n",
       "      <td>0.150215</td>\n",
       "      <td>0.136812</td>\n",
       "      <td>0.132692</td>\n",
       "      <td>0.155747</td>\n",
       "      <td>0.299336</td>\n",
       "    </tr>\n",
       "    <tr>\n",
       "      <th>displacement</th>\n",
       "      <td>0.434655</td>\n",
       "      <td>0.183168</td>\n",
       "      <td>0.028027</td>\n",
       "      <td>0.624002</td>\n",
       "      <td>-0.029353</td>\n",
       "      <td>0.129807</td>\n",
       "      <td>0.204943</td>\n",
       "      <td>1.000000</td>\n",
       "      <td>0.359967</td>\n",
       "      <td>0.240196</td>\n",
       "      <td>0.521577</td>\n",
       "      <td>0.008968</td>\n",
       "      <td>-0.007304</td>\n",
       "      <td>0.026352</td>\n",
       "      <td>0.527643</td>\n",
       "    </tr>\n",
       "    <tr>\n",
       "      <th>cylinders</th>\n",
       "      <td>0.003223</td>\n",
       "      <td>0.225746</td>\n",
       "      <td>0.201961</td>\n",
       "      <td>0.317873</td>\n",
       "      <td>0.038540</td>\n",
       "      <td>0.024853</td>\n",
       "      <td>0.214484</td>\n",
       "      <td>0.359967</td>\n",
       "      <td>1.000000</td>\n",
       "      <td>0.299136</td>\n",
       "      <td>0.210451</td>\n",
       "      <td>0.091133</td>\n",
       "      <td>0.114519</td>\n",
       "      <td>0.088714</td>\n",
       "      <td>0.265591</td>\n",
       "    </tr>\n",
       "    <tr>\n",
       "      <th>co2_emission</th>\n",
       "      <td>0.317133</td>\n",
       "      <td>-0.202512</td>\n",
       "      <td>-0.255889</td>\n",
       "      <td>0.466955</td>\n",
       "      <td>0.027585</td>\n",
       "      <td>-0.048242</td>\n",
       "      <td>0.247183</td>\n",
       "      <td>0.240196</td>\n",
       "      <td>0.299136</td>\n",
       "      <td>1.000000</td>\n",
       "      <td>0.131872</td>\n",
       "      <td>0.524041</td>\n",
       "      <td>0.624645</td>\n",
       "      <td>0.541392</td>\n",
       "      <td>0.227701</td>\n",
       "    </tr>\n",
       "    <tr>\n",
       "      <th>gears</th>\n",
       "      <td>0.502283</td>\n",
       "      <td>0.018560</td>\n",
       "      <td>-0.039586</td>\n",
       "      <td>0.487423</td>\n",
       "      <td>-0.043915</td>\n",
       "      <td>0.191759</td>\n",
       "      <td>0.150215</td>\n",
       "      <td>0.521577</td>\n",
       "      <td>0.210451</td>\n",
       "      <td>0.131872</td>\n",
       "      <td>1.000000</td>\n",
       "      <td>-0.000191</td>\n",
       "      <td>-0.032555</td>\n",
       "      <td>0.025291</td>\n",
       "      <td>0.419497</td>\n",
       "    </tr>\n",
       "    <tr>\n",
       "      <th>consumption_comb</th>\n",
       "      <td>0.168822</td>\n",
       "      <td>-0.191901</td>\n",
       "      <td>-0.218343</td>\n",
       "      <td>0.219924</td>\n",
       "      <td>-0.019712</td>\n",
       "      <td>-0.030595</td>\n",
       "      <td>0.136812</td>\n",
       "      <td>0.008968</td>\n",
       "      <td>0.091133</td>\n",
       "      <td>0.524041</td>\n",
       "      <td>-0.000191</td>\n",
       "      <td>1.000000</td>\n",
       "      <td>0.806876</td>\n",
       "      <td>0.833180</td>\n",
       "      <td>0.047931</td>\n",
       "    </tr>\n",
       "    <tr>\n",
       "      <th>consumption_city</th>\n",
       "      <td>0.152317</td>\n",
       "      <td>-0.217321</td>\n",
       "      <td>-0.251058</td>\n",
       "      <td>0.254796</td>\n",
       "      <td>-0.009631</td>\n",
       "      <td>-0.062048</td>\n",
       "      <td>0.132692</td>\n",
       "      <td>-0.007304</td>\n",
       "      <td>0.114519</td>\n",
       "      <td>0.624645</td>\n",
       "      <td>-0.032555</td>\n",
       "      <td>0.806876</td>\n",
       "      <td>1.000000</td>\n",
       "      <td>0.893270</td>\n",
       "      <td>0.021266</td>\n",
       "    </tr>\n",
       "    <tr>\n",
       "      <th>consumption_country</th>\n",
       "      <td>0.205432</td>\n",
       "      <td>-0.204534</td>\n",
       "      <td>-0.240459</td>\n",
       "      <td>0.226637</td>\n",
       "      <td>-0.038211</td>\n",
       "      <td>-0.020113</td>\n",
       "      <td>0.155747</td>\n",
       "      <td>0.026352</td>\n",
       "      <td>0.088714</td>\n",
       "      <td>0.541392</td>\n",
       "      <td>0.025291</td>\n",
       "      <td>0.833180</td>\n",
       "      <td>0.893270</td>\n",
       "      <td>1.000000</td>\n",
       "      <td>0.056803</td>\n",
       "    </tr>\n",
       "    <tr>\n",
       "      <th>weight_kg</th>\n",
       "      <td>0.415368</td>\n",
       "      <td>0.166327</td>\n",
       "      <td>0.099977</td>\n",
       "      <td>0.587192</td>\n",
       "      <td>0.028758</td>\n",
       "      <td>0.125569</td>\n",
       "      <td>0.299336</td>\n",
       "      <td>0.527643</td>\n",
       "      <td>0.265591</td>\n",
       "      <td>0.227701</td>\n",
       "      <td>0.419497</td>\n",
       "      <td>0.047931</td>\n",
       "      <td>0.021266</td>\n",
       "      <td>0.056803</td>\n",
       "      <td>1.000000</td>\n",
       "    </tr>\n",
       "  </tbody>\n",
       "</table>\n",
       "</div>"
      ],
      "text/plain": [
       "                        price        km       age     hp_kw  previous_owners  \\\n",
       "price                1.000000 -0.400100 -0.468393  0.693537        -0.100789   \n",
       "km                  -0.400100  1.000000  0.755903 -0.000746         0.088880   \n",
       "age                 -0.468393  0.755903  1.000000 -0.082802         0.227748   \n",
       "hp_kw                0.693537 -0.000746 -0.082802  1.000000        -0.003697   \n",
       "previous_owners     -0.100789  0.088880  0.227748 -0.003697         1.000000   \n",
       "nr_of_doors          0.164241 -0.003581 -0.088558  0.123852        -0.171173   \n",
       "nr_of_seats          0.259125 -0.011419 -0.079530  0.296797         0.002644   \n",
       "displacement         0.434655  0.183168  0.028027  0.624002        -0.029353   \n",
       "cylinders            0.003223  0.225746  0.201961  0.317873         0.038540   \n",
       "co2_emission         0.317133 -0.202512 -0.255889  0.466955         0.027585   \n",
       "gears                0.502283  0.018560 -0.039586  0.487423        -0.043915   \n",
       "consumption_comb     0.168822 -0.191901 -0.218343  0.219924        -0.019712   \n",
       "consumption_city     0.152317 -0.217321 -0.251058  0.254796        -0.009631   \n",
       "consumption_country  0.205432 -0.204534 -0.240459  0.226637        -0.038211   \n",
       "weight_kg            0.415368  0.166327  0.099977  0.587192         0.028758   \n",
       "\n",
       "                     nr_of_doors  nr_of_seats  displacement  cylinders  \\\n",
       "price                   0.164241     0.259125      0.434655   0.003223   \n",
       "km                     -0.003581    -0.011419      0.183168   0.225746   \n",
       "age                    -0.088558    -0.079530      0.028027   0.201961   \n",
       "hp_kw                   0.123852     0.296797      0.624002   0.317873   \n",
       "previous_owners        -0.171173     0.002644     -0.029353   0.038540   \n",
       "nr_of_doors             1.000000     0.100643      0.129807   0.024853   \n",
       "nr_of_seats             0.100643     1.000000      0.204943   0.214484   \n",
       "displacement            0.129807     0.204943      1.000000   0.359967   \n",
       "cylinders               0.024853     0.214484      0.359967   1.000000   \n",
       "co2_emission           -0.048242     0.247183      0.240196   0.299136   \n",
       "gears                   0.191759     0.150215      0.521577   0.210451   \n",
       "consumption_comb       -0.030595     0.136812      0.008968   0.091133   \n",
       "consumption_city       -0.062048     0.132692     -0.007304   0.114519   \n",
       "consumption_country    -0.020113     0.155747      0.026352   0.088714   \n",
       "weight_kg               0.125569     0.299336      0.527643   0.265591   \n",
       "\n",
       "                     co2_emission     gears  consumption_comb  \\\n",
       "price                    0.317133  0.502283          0.168822   \n",
       "km                      -0.202512  0.018560         -0.191901   \n",
       "age                     -0.255889 -0.039586         -0.218343   \n",
       "hp_kw                    0.466955  0.487423          0.219924   \n",
       "previous_owners          0.027585 -0.043915         -0.019712   \n",
       "nr_of_doors             -0.048242  0.191759         -0.030595   \n",
       "nr_of_seats              0.247183  0.150215          0.136812   \n",
       "displacement             0.240196  0.521577          0.008968   \n",
       "cylinders                0.299136  0.210451          0.091133   \n",
       "co2_emission             1.000000  0.131872          0.524041   \n",
       "gears                    0.131872  1.000000         -0.000191   \n",
       "consumption_comb         0.524041 -0.000191          1.000000   \n",
       "consumption_city         0.624645 -0.032555          0.806876   \n",
       "consumption_country      0.541392  0.025291          0.833180   \n",
       "weight_kg                0.227701  0.419497          0.047931   \n",
       "\n",
       "                     consumption_city  consumption_country  weight_kg  \n",
       "price                        0.152317             0.205432   0.415368  \n",
       "km                          -0.217321            -0.204534   0.166327  \n",
       "age                         -0.251058            -0.240459   0.099977  \n",
       "hp_kw                        0.254796             0.226637   0.587192  \n",
       "previous_owners             -0.009631            -0.038211   0.028758  \n",
       "nr_of_doors                 -0.062048            -0.020113   0.125569  \n",
       "nr_of_seats                  0.132692             0.155747   0.299336  \n",
       "displacement                -0.007304             0.026352   0.527643  \n",
       "cylinders                    0.114519             0.088714   0.265591  \n",
       "co2_emission                 0.624645             0.541392   0.227701  \n",
       "gears                       -0.032555             0.025291   0.419497  \n",
       "consumption_comb             0.806876             0.833180   0.047931  \n",
       "consumption_city             1.000000             0.893270   0.021266  \n",
       "consumption_country          0.893270             1.000000   0.056803  \n",
       "weight_kg                    0.021266             0.056803   1.000000  "
      ]
     },
     "execution_count": 138,
     "metadata": {},
     "output_type": "execute_result"
    }
   ],
   "source": [
    "df.corr()"
   ]
  },
  {
   "cell_type": "code",
   "execution_count": 139,
   "metadata": {
    "colab": {
     "base_uri": "https://localhost:8080/"
    },
    "id": "imllS4HTL1C_",
    "outputId": "0b1c4a5c-f084-4c48-ee1d-4b9e77d36da0"
   },
   "outputs": [
    {
     "data": {
      "text/plain": [
       "2615    10893\n",
       "2616    13000\n",
       "2617    15450\n",
       "2618    15680\n",
       "2619    16490\n",
       "        ...  \n",
       "5707    25000\n",
       "5708    24980\n",
       "5709    24980\n",
       "5710    24980\n",
       "5711    24980\n",
       "Name: price, Length: 3097, dtype: int64"
      ]
     },
     "execution_count": 139,
     "metadata": {},
     "output_type": "execute_result"
    }
   ],
   "source": [
    "df[df[\"make_model\"]==\"Audi A3\"][\"price\"]"
   ]
  },
  {
   "cell_type": "markdown",
   "metadata": {},
   "source": [
    "## age"
   ]
  },
  {
   "cell_type": "code",
   "execution_count": 140,
   "metadata": {
    "id": "ucpBCIhLdxJP"
   },
   "outputs": [
    {
     "data": {
      "text/plain": [
       "1    4525\n",
       "0    4412\n",
       "3    3709\n",
       "2    3273\n",
       "Name: age, dtype: int64"
      ]
     },
     "execution_count": 140,
     "metadata": {},
     "output_type": "execute_result"
    }
   ],
   "source": [
    "df.age.value_counts(dropna=False)"
   ]
  },
  {
   "cell_type": "code",
   "execution_count": 141,
   "metadata": {
    "id": "63wsHulpdypZ"
   },
   "outputs": [
    {
     "data": {
      "image/png": "[encoded data removed]",
      "text/plain": [
       "<Figure size 720x432 with 1 Axes>"
      ]
     },
     "metadata": {
      "needs_background": "light"
     },
     "output_type": "display_data"
    }
   ],
   "source": [
    "plt.figure(figsize = (10, 6)) \n",
    "sns.boxplot(x = df.age); "
   ]
  },
  {
   "cell_type": "code",
   "execution_count": 142,
   "metadata": {
    "id": "z752cOD5dy5K"
   },
   "outputs": [
    {
     "data": {
      "image/png": "[encoded data removed]",
      "text/plain": [
       "<Figure size 360x360 with 1 Axes>"
      ]
     },
     "metadata": {
      "needs_background": "light"
     },
     "output_type": "display_data"
    }
   ],
   "source": [
    "sns.displot(df.age, bins = 50, kde = False);"
   ]
  },
  {
   "cell_type": "code",
   "execution_count": 143,
   "metadata": {
    "id": "hYPWEvYIdy9c"
   },
   "outputs": [
    {
     "data": {
      "text/plain": [
       "7959    0\n",
       "7936    0\n",
       "7935    0\n",
       "7934    0\n",
       "7933    0\n",
       "       ..\n",
       "6138    3\n",
       "6139    3\n",
       "6141    3\n",
       "6133    3\n",
       "0       3\n",
       "Name: age, Length: 15919, dtype: int64"
      ]
     },
     "execution_count": 143,
     "metadata": {},
     "output_type": "execute_result"
    }
   ],
   "source": [
    "df[\"age\"].sort_values()"
   ]
  },
  {
   "cell_type": "code",
   "execution_count": 144,
   "metadata": {
    "id": "g1nMnheNdzBR"
   },
   "outputs": [
    {
     "data": {
      "text/plain": [
       "count    15919.000000\n",
       "mean         1.394434\n",
       "std          1.122152\n",
       "min          0.000000\n",
       "25%          0.000000\n",
       "50%          1.000000\n",
       "75%          2.000000\n",
       "max          3.000000\n",
       "Name: age, dtype: float64"
      ]
     },
     "execution_count": 144,
     "metadata": {},
     "output_type": "execute_result"
    }
   ],
   "source": [
    "df.age.describe()"
   ]
  },
  {
   "cell_type": "code",
   "execution_count": 145,
   "metadata": {
    "id": "FZ6SJsXfdzE6"
   },
   "outputs": [],
   "source": [
    "Q1 = df.age.describe()[4]"
   ]
  },
  {
   "cell_type": "code",
   "execution_count": 146,
   "metadata": {
    "id": "N-4cTMLxnCP0"
   },
   "outputs": [],
   "source": [
    "Q3 = df.age.describe()[6]"
   ]
  },
  {
   "cell_type": "code",
   "execution_count": 147,
   "metadata": {
    "id": "vl67xFwknCTp"
   },
   "outputs": [],
   "source": [
    "IQR = Q3-Q1"
   ]
  },
  {
   "cell_type": "code",
   "execution_count": 148,
   "metadata": {
    "id": "DGK5AddwnCXs"
   },
   "outputs": [],
   "source": [
    "lower_lim = Q1 - 1.5 * IQR\n",
    "upper_lim = Q3 + 1.5 * IQR"
   ]
  },
  {
   "cell_type": "code",
   "execution_count": 149,
   "metadata": {
    "id": "eh2nrzdknClz"
   },
   "outputs": [],
   "source": [
    "lower_lim = Q1 - 1.5 * IQR"
   ]
  },
  {
   "cell_type": "code",
   "execution_count": 150,
   "metadata": {
    "id": "03SjV6WknCrI"
   },
   "outputs": [
    {
     "data": {
      "text/plain": [
       "5.0"
      ]
     },
     "execution_count": 150,
     "metadata": {},
     "output_type": "execute_result"
    }
   ],
   "source": [
    "upper_lim "
   ]
  },
  {
   "cell_type": "code",
   "execution_count": 151,
   "metadata": {
    "id": "a6084vvlnCvk"
   },
   "outputs": [
    {
     "data": {
      "text/plain": [
       "0"
      ]
     },
     "execution_count": 151,
     "metadata": {},
     "output_type": "execute_result"
    }
   ],
   "source": [
    "(df.age < lower_lim).sum()"
   ]
  },
  {
   "cell_type": "code",
   "execution_count": 152,
   "metadata": {
    "id": "RLHTPgfUnCyy"
   },
   "outputs": [
    {
     "data": {
      "text/plain": [
       "0"
      ]
     },
     "execution_count": 152,
     "metadata": {},
     "output_type": "execute_result"
    }
   ],
   "source": [
    "(df.age > upper_lim).sum()"
   ]
  },
  {
   "cell_type": "code",
   "execution_count": 153,
   "metadata": {
    "id": "MQDtgi4znC2G"
   },
   "outputs": [
    {
     "data": {
      "text/plain": [
       "0"
      ]
     },
     "execution_count": 153,
     "metadata": {},
     "output_type": "execute_result"
    }
   ],
   "source": [
    "df.age[(df.age < lower_lim) | (df.age > upper_lim)].count()"
   ]
  },
  {
   "cell_type": "code",
   "execution_count": 154,
   "metadata": {
    "id": "85tTbEEbnC62"
   },
   "outputs": [
    {
     "data": {
      "text/plain": [
       "15919"
      ]
     },
     "execution_count": 154,
     "metadata": {},
     "output_type": "execute_result"
    }
   ],
   "source": [
    "df.age[~((df.age < lower_lim) | (df.age > upper_lim))].count()"
   ]
  },
  {
   "cell_type": "code",
   "execution_count": 155,
   "metadata": {
    "id": "hoIXcSvsnC9t"
   },
   "outputs": [],
   "source": [
    "outlier_index_3 = df.loc[(df.age < lower_lim) | (df.age > upper_lim)].index"
   ]
  },
  {
   "cell_type": "code",
   "execution_count": 156,
   "metadata": {
    "id": "h9iCUnblnDBs"
   },
   "outputs": [
    {
     "data": {
      "text/plain": [
       "Int64Index([], dtype='int64')"
      ]
     },
     "execution_count": 156,
     "metadata": {},
     "output_type": "execute_result"
    }
   ],
   "source": [
    "outlier_index_3"
   ]
  },
  {
   "cell_type": "code",
   "execution_count": 157,
   "metadata": {
    "id": "RKV9ocDanDEt"
   },
   "outputs": [],
   "source": [
    "bottom_index =df[\"age\"].sort_values().head(10).index"
   ]
  },
  {
   "cell_type": "code",
   "execution_count": 158,
   "metadata": {
    "id": "e18OIXvcntBk"
   },
   "outputs": [
    {
     "data": {
      "text/html": [
       "<div>\n",
       "<style scoped>\n",
       "    .dataframe tbody tr th:only-of-type {\n",
       "        vertical-align: middle;\n",
       "    }\n",
       "\n",
       "    .dataframe tbody tr th {\n",
       "        vertical-align: top;\n",
       "    }\n",
       "\n",
       "    .dataframe thead th {\n",
       "        text-align: right;\n",
       "    }\n",
       "</style>\n",
       "<table border=\"1\" class=\"dataframe\">\n",
       "  <thead>\n",
       "    <tr style=\"text-align: right;\">\n",
       "      <th></th>\n",
       "      <th>7959</th>\n",
       "      <th>7936</th>\n",
       "      <th>7935</th>\n",
       "      <th>7934</th>\n",
       "      <th>7933</th>\n",
       "      <th>7932</th>\n",
       "      <th>7931</th>\n",
       "      <th>7930</th>\n",
       "      <th>7929</th>\n",
       "      <th>7928</th>\n",
       "    </tr>\n",
       "  </thead>\n",
       "  <tbody>\n",
       "    <tr>\n",
       "      <th>make_model</th>\n",
       "      <td>Opel Astra</td>\n",
       "      <td>Opel Astra</td>\n",
       "      <td>Opel Astra</td>\n",
       "      <td>Opel Astra</td>\n",
       "      <td>Opel Astra</td>\n",
       "      <td>Opel Astra</td>\n",
       "      <td>Opel Astra</td>\n",
       "      <td>Opel Astra</td>\n",
       "      <td>Opel Astra</td>\n",
       "      <td>Opel Astra</td>\n",
       "    </tr>\n",
       "    <tr>\n",
       "      <th>body_type</th>\n",
       "      <td>Sedans</td>\n",
       "      <td>Compact</td>\n",
       "      <td>Station wagon</td>\n",
       "      <td>Sedans</td>\n",
       "      <td>Sedans</td>\n",
       "      <td>Sedans</td>\n",
       "      <td>Sedans</td>\n",
       "      <td>Sedans</td>\n",
       "      <td>Sedans</td>\n",
       "      <td>Station wagon</td>\n",
       "    </tr>\n",
       "    <tr>\n",
       "      <th>price</th>\n",
       "      <td>16990</td>\n",
       "      <td>17500</td>\n",
       "      <td>17575</td>\n",
       "      <td>17590</td>\n",
       "      <td>17600</td>\n",
       "      <td>17678</td>\n",
       "      <td>17690</td>\n",
       "      <td>17690</td>\n",
       "      <td>17690</td>\n",
       "      <td>17714</td>\n",
       "    </tr>\n",
       "    <tr>\n",
       "      <th>vat</th>\n",
       "      <td>VAT deductible</td>\n",
       "      <td>VAT deductible</td>\n",
       "      <td>VAT deductible</td>\n",
       "      <td>VAT deductible</td>\n",
       "      <td>VAT deductible</td>\n",
       "      <td>VAT deductible</td>\n",
       "      <td>VAT deductible</td>\n",
       "      <td>VAT deductible</td>\n",
       "      <td>VAT deductible</td>\n",
       "      <td>VAT deductible</td>\n",
       "    </tr>\n",
       "    <tr>\n",
       "      <th>km</th>\n",
       "      <td>5</td>\n",
       "      <td>1</td>\n",
       "      <td>0</td>\n",
       "      <td>5</td>\n",
       "      <td>10</td>\n",
       "      <td>1</td>\n",
       "      <td>10</td>\n",
       "      <td>3388</td>\n",
       "      <td>3530</td>\n",
       "      <td>0</td>\n",
       "    </tr>\n",
       "    <tr>\n",
       "      <th>age</th>\n",
       "      <td>0</td>\n",
       "      <td>0</td>\n",
       "      <td>0</td>\n",
       "      <td>0</td>\n",
       "      <td>0</td>\n",
       "      <td>0</td>\n",
       "      <td>0</td>\n",
       "      <td>0</td>\n",
       "      <td>0</td>\n",
       "      <td>0</td>\n",
       "    </tr>\n",
       "    <tr>\n",
       "      <th>hp_kw</th>\n",
       "      <td>66</td>\n",
       "      <td>81</td>\n",
       "      <td>66</td>\n",
       "      <td>77</td>\n",
       "      <td>85</td>\n",
       "      <td>77</td>\n",
       "      <td>66</td>\n",
       "      <td>81</td>\n",
       "      <td>81</td>\n",
       "      <td>78</td>\n",
       "    </tr>\n",
       "    <tr>\n",
       "      <th>type</th>\n",
       "      <td>Pre-registered</td>\n",
       "      <td>Used</td>\n",
       "      <td>New</td>\n",
       "      <td>New</td>\n",
       "      <td>New</td>\n",
       "      <td>New</td>\n",
       "      <td>Pre-registered</td>\n",
       "      <td>Demonstration</td>\n",
       "      <td>Demonstration</td>\n",
       "      <td>New</td>\n",
       "    </tr>\n",
       "    <tr>\n",
       "      <th>previous_owners</th>\n",
       "      <td>1</td>\n",
       "      <td>1</td>\n",
       "      <td>1</td>\n",
       "      <td>1</td>\n",
       "      <td>1</td>\n",
       "      <td>1</td>\n",
       "      <td>1</td>\n",
       "      <td>1</td>\n",
       "      <td>1</td>\n",
       "      <td>1</td>\n",
       "    </tr>\n",
       "    <tr>\n",
       "      <th>body_color</th>\n",
       "      <td>Blue</td>\n",
       "      <td>Grey</td>\n",
       "      <td>Black</td>\n",
       "      <td>Red</td>\n",
       "      <td>Green</td>\n",
       "      <td>White</td>\n",
       "      <td>White</td>\n",
       "      <td>Grey</td>\n",
       "      <td>Black</td>\n",
       "      <td>Black</td>\n",
       "    </tr>\n",
       "    <tr>\n",
       "      <th>paint_type</th>\n",
       "      <td>Metallic</td>\n",
       "      <td>Metallic</td>\n",
       "      <td>Metallic</td>\n",
       "      <td>Metallic</td>\n",
       "      <td>Metallic</td>\n",
       "      <td>Metallic</td>\n",
       "      <td>Metallic</td>\n",
       "      <td>Metallic</td>\n",
       "      <td>Metallic</td>\n",
       "      <td>Metallic</td>\n",
       "    </tr>\n",
       "    <tr>\n",
       "      <th>nr_of_doors</th>\n",
       "      <td>5</td>\n",
       "      <td>5</td>\n",
       "      <td>5</td>\n",
       "      <td>5</td>\n",
       "      <td>5</td>\n",
       "      <td>5</td>\n",
       "      <td>5</td>\n",
       "      <td>5</td>\n",
       "      <td>5</td>\n",
       "      <td>5</td>\n",
       "    </tr>\n",
       "    <tr>\n",
       "      <th>nr_of_seats</th>\n",
       "      <td>5</td>\n",
       "      <td>5</td>\n",
       "      <td>5</td>\n",
       "      <td>5</td>\n",
       "      <td>5</td>\n",
       "      <td>5</td>\n",
       "      <td>5</td>\n",
       "      <td>5</td>\n",
       "      <td>5</td>\n",
       "      <td>5</td>\n",
       "    </tr>\n",
       "    <tr>\n",
       "      <th>gearing_type</th>\n",
       "      <td>Manual</td>\n",
       "      <td>Manual</td>\n",
       "      <td>Manual</td>\n",
       "      <td>Manual</td>\n",
       "      <td>Manual</td>\n",
       "      <td>Manual</td>\n",
       "      <td>Manual</td>\n",
       "      <td>Manual</td>\n",
       "      <td>Manual</td>\n",
       "      <td>Manual</td>\n",
       "    </tr>\n",
       "    <tr>\n",
       "      <th>displacement</th>\n",
       "      <td>1.0</td>\n",
       "      <td>1.596483</td>\n",
       "      <td>1.0</td>\n",
       "      <td>1.0499</td>\n",
       "      <td>1.598</td>\n",
       "      <td>1.0499</td>\n",
       "      <td>1.0</td>\n",
       "      <td>1.598</td>\n",
       "      <td>1.598</td>\n",
       "      <td>1.398</td>\n",
       "    </tr>\n",
       "    <tr>\n",
       "      <th>cylinders</th>\n",
       "      <td>3.0</td>\n",
       "      <td>4.0</td>\n",
       "      <td>3.0</td>\n",
       "      <td>3.0</td>\n",
       "      <td>4.0</td>\n",
       "      <td>3.0</td>\n",
       "      <td>3.0</td>\n",
       "      <td>4.0</td>\n",
       "      <td>4.0</td>\n",
       "      <td>3.0</td>\n",
       "    </tr>\n",
       "    <tr>\n",
       "      <th>drive_chain</th>\n",
       "      <td>front</td>\n",
       "      <td>front</td>\n",
       "      <td>front</td>\n",
       "      <td>front</td>\n",
       "      <td>front</td>\n",
       "      <td>front</td>\n",
       "      <td>front</td>\n",
       "      <td>front</td>\n",
       "      <td>front</td>\n",
       "      <td>front</td>\n",
       "    </tr>\n",
       "    <tr>\n",
       "      <th>fuel</th>\n",
       "      <td>Benzine</td>\n",
       "      <td>Diesel</td>\n",
       "      <td>Benzine</td>\n",
       "      <td>LPG/CNG</td>\n",
       "      <td>Benzine</td>\n",
       "      <td>Benzine</td>\n",
       "      <td>Benzine</td>\n",
       "      <td>Diesel</td>\n",
       "      <td>Diesel</td>\n",
       "      <td>LPG/CNG</td>\n",
       "    </tr>\n",
       "    <tr>\n",
       "      <th>co2_emission</th>\n",
       "      <td>107.0</td>\n",
       "      <td>5.0</td>\n",
       "      <td>114.0</td>\n",
       "      <td>107.0</td>\n",
       "      <td>149.0</td>\n",
       "      <td>115.0</td>\n",
       "      <td>107.0</td>\n",
       "      <td>107.0</td>\n",
       "      <td>107.0</td>\n",
       "      <td>130.672414</td>\n",
       "    </tr>\n",
       "    <tr>\n",
       "      <th>emission_class</th>\n",
       "      <td>Euro 6d-TEMP</td>\n",
       "      <td>Euro 6</td>\n",
       "      <td>Euro 6d-TEMP</td>\n",
       "      <td>Euro 6</td>\n",
       "      <td>Euro 5</td>\n",
       "      <td>Euro 6d-TEMP</td>\n",
       "      <td>Euro 6d-TEMP</td>\n",
       "      <td>Euro 6</td>\n",
       "      <td>Euro 6</td>\n",
       "      <td>Euro 6</td>\n",
       "    </tr>\n",
       "    <tr>\n",
       "      <th>comfort_convenience</th>\n",
       "      <td>Air Conditioning,Electrical Side Mirrors,Power...</td>\n",
       "      <td>Air Conditioning,Automatic Climate Control,Cru...</td>\n",
       "      <td>Air Conditioning,Automatic Climate Control,Cru...</td>\n",
       "      <td>Air Conditioning,Armrest,Automatic Climate Con...</td>\n",
       "      <td>Air Conditioning,Automatic Climate Control,Cru...</td>\n",
       "      <td>Air Conditioning,Armrest,Automatic Climate Con...</td>\n",
       "      <td>Air Conditioning,Cruise Control,Electrical Sid...</td>\n",
       "      <td>Air Conditioning,Armrest,Automatic Climate Con...</td>\n",
       "      <td>Air Conditioning,Automatic Climate Control,Cru...</td>\n",
       "      <td>Air Conditioning,Cruise Control,Electrical Sid...</td>\n",
       "    </tr>\n",
       "    <tr>\n",
       "      <th>entertainment_media</th>\n",
       "      <td>Bluetooth,Hands-free equipment,MP3,On-board co...</td>\n",
       "      <td>Bluetooth,Hands-free equipment,On-board comput...</td>\n",
       "      <td>Bluetooth,Hands-free equipment,On-board comput...</td>\n",
       "      <td>Hands-free equipment,On-board computer</td>\n",
       "      <td>CD player,On-board computer,Radio</td>\n",
       "      <td>Radio</td>\n",
       "      <td>Bluetooth,Hands-free equipment,MP3,On-board co...</td>\n",
       "      <td>Bluetooth,Hands-free equipment,On-board comput...</td>\n",
       "      <td>Bluetooth,Hands-free equipment,MP3,On-board co...</td>\n",
       "      <td>Bluetooth,MP3,On-board computer</td>\n",
       "    </tr>\n",
       "    <tr>\n",
       "      <th>extras</th>\n",
       "      <td>Alloy Wheels</td>\n",
       "      <td>Alloy Wheels</td>\n",
       "      <td>Alloy Wheels,Catalytic Converter</td>\n",
       "      <td>Alloy Wheels,Touch Screen</td>\n",
       "      <td>Alloy Wheels</td>\n",
       "      <td>Alloy Wheels</td>\n",
       "      <td>Catalytic Converter</td>\n",
       "      <td>Alloy Wheels,Touch Screen</td>\n",
       "      <td>Alloy Wheels,Touch Screen</td>\n",
       "      <td>Alloy Wheels</td>\n",
       "    </tr>\n",
       "    <tr>\n",
       "      <th>safety_security</th>\n",
       "      <td>Abs,Central Door Lock,Daytime Running Lights,D...</td>\n",
       "      <td>Abs,Central Door Lock,Driver-Side Airbag,Elect...</td>\n",
       "      <td>Abs,Adaptive Headlights,Central Door Lock,Dayt...</td>\n",
       "      <td>Abs,Central Door Lock,Daytime Running Lights,D...</td>\n",
       "      <td>Abs,Alarm System,Central Door Lock,Electronic ...</td>\n",
       "      <td>Abs,Daytime Running Lights,Driver-Side Airbag,...</td>\n",
       "      <td>Abs,Central Door Lock,Daytime Running Lights,D...</td>\n",
       "      <td>Abs,Central Door Lock,Daytime Running Lights,D...</td>\n",
       "      <td>Abs,Central Door Lock,Driver-Side Airbag,Fog L...</td>\n",
       "      <td>Abs,Central Door Lock,Driver-Side Airbag,Elect...</td>\n",
       "    </tr>\n",
       "    <tr>\n",
       "      <th>gears</th>\n",
       "      <td>5</td>\n",
       "      <td>6</td>\n",
       "      <td>5</td>\n",
       "      <td>5</td>\n",
       "      <td>6</td>\n",
       "      <td>5</td>\n",
       "      <td>5</td>\n",
       "      <td>6</td>\n",
       "      <td>6</td>\n",
       "      <td>5</td>\n",
       "    </tr>\n",
       "    <tr>\n",
       "      <th>upholstery_type</th>\n",
       "      <td>Cloth</td>\n",
       "      <td>Cloth</td>\n",
       "      <td>Cloth</td>\n",
       "      <td>Cloth</td>\n",
       "      <td>Cloth</td>\n",
       "      <td>Cloth</td>\n",
       "      <td>Cloth</td>\n",
       "      <td>Cloth</td>\n",
       "      <td>Cloth</td>\n",
       "      <td>Cloth</td>\n",
       "    </tr>\n",
       "    <tr>\n",
       "      <th>upholstery_color</th>\n",
       "      <td>Black</td>\n",
       "      <td>Black</td>\n",
       "      <td>Other</td>\n",
       "      <td>Other</td>\n",
       "      <td>Other</td>\n",
       "      <td>Black</td>\n",
       "      <td>Black</td>\n",
       "      <td>Black</td>\n",
       "      <td>Black</td>\n",
       "      <td>Black</td>\n",
       "    </tr>\n",
       "    <tr>\n",
       "      <th>consumption_comb</th>\n",
       "      <td>4.7</td>\n",
       "      <td>3.82</td>\n",
       "      <td>5.0</td>\n",
       "      <td>4.7</td>\n",
       "      <td>6.4</td>\n",
       "      <td>5.0</td>\n",
       "      <td>4.7</td>\n",
       "      <td>4.1</td>\n",
       "      <td>4.1</td>\n",
       "      <td>4.95</td>\n",
       "    </tr>\n",
       "    <tr>\n",
       "      <th>consumption_city</th>\n",
       "      <td>5.4</td>\n",
       "      <td>4.32</td>\n",
       "      <td>5.9</td>\n",
       "      <td>5.5</td>\n",
       "      <td>8.4</td>\n",
       "      <td>5.9</td>\n",
       "      <td>5.4</td>\n",
       "      <td>4.35</td>\n",
       "      <td>4.35</td>\n",
       "      <td>6.56</td>\n",
       "    </tr>\n",
       "    <tr>\n",
       "      <th>consumption_country</th>\n",
       "      <td>4.2</td>\n",
       "      <td>3.42</td>\n",
       "      <td>4.5</td>\n",
       "      <td>4.1</td>\n",
       "      <td>5.2</td>\n",
       "      <td>4.5</td>\n",
       "      <td>4.2</td>\n",
       "      <td>3.42</td>\n",
       "      <td>3.42</td>\n",
       "      <td>4.16</td>\n",
       "    </tr>\n",
       "    <tr>\n",
       "      <th>weight_kg</th>\n",
       "      <td>1273</td>\n",
       "      <td>1163</td>\n",
       "      <td>1288</td>\n",
       "      <td>1273</td>\n",
       "      <td>1393</td>\n",
       "      <td>1326</td>\n",
       "      <td>1326</td>\n",
       "      <td>1326</td>\n",
       "      <td>1326</td>\n",
       "      <td>1403</td>\n",
       "    </tr>\n",
       "  </tbody>\n",
       "</table>\n",
       "</div>"
      ],
      "text/plain": [
       "                                                                  7959  \\\n",
       "make_model                                                  Opel Astra   \n",
       "body_type                                                       Sedans   \n",
       "price                                                            16990   \n",
       "vat                                                     VAT deductible   \n",
       "km                                                                   5   \n",
       "age                                                                  0   \n",
       "hp_kw                                                               66   \n",
       "type                                                    Pre-registered   \n",
       "previous_owners                                                      1   \n",
       "body_color                                                        Blue   \n",
       "paint_type                                                    Metallic   \n",
       "nr_of_doors                                                          5   \n",
       "nr_of_seats                                                          5   \n",
       "gearing_type                                                    Manual   \n",
       "displacement                                                       1.0   \n",
       "cylinders                                                          3.0   \n",
       "drive_chain                                                      front   \n",
       "fuel                                                           Benzine   \n",
       "co2_emission                                                     107.0   \n",
       "emission_class                                            Euro 6d-TEMP   \n",
       "comfort_convenience  Air Conditioning,Electrical Side Mirrors,Power...   \n",
       "entertainment_media  Bluetooth,Hands-free equipment,MP3,On-board co...   \n",
       "extras                                                    Alloy Wheels   \n",
       "safety_security      Abs,Central Door Lock,Daytime Running Lights,D...   \n",
       "gears                                                                5   \n",
       "upholstery_type                                                  Cloth   \n",
       "upholstery_color                                                 Black   \n",
       "consumption_comb                                                   4.7   \n",
       "consumption_city                                                   5.4   \n",
       "consumption_country                                                4.2   \n",
       "weight_kg                                                         1273   \n",
       "\n",
       "                                                                  7936  \\\n",
       "make_model                                                  Opel Astra   \n",
       "body_type                                                      Compact   \n",
       "price                                                            17500   \n",
       "vat                                                     VAT deductible   \n",
       "km                                                                   1   \n",
       "age                                                                  0   \n",
       "hp_kw                                                               81   \n",
       "type                                                              Used   \n",
       "previous_owners                                                      1   \n",
       "body_color                                                        Grey   \n",
       "paint_type                                                    Metallic   \n",
       "nr_of_doors                                                          5   \n",
       "nr_of_seats                                                          5   \n",
       "gearing_type                                                    Manual   \n",
       "displacement                                                  1.596483   \n",
       "cylinders                                                          4.0   \n",
       "drive_chain                                                      front   \n",
       "fuel                                                            Diesel   \n",
       "co2_emission                                                       5.0   \n",
       "emission_class                                                  Euro 6   \n",
       "comfort_convenience  Air Conditioning,Automatic Climate Control,Cru...   \n",
       "entertainment_media  Bluetooth,Hands-free equipment,On-board comput...   \n",
       "extras                                                    Alloy Wheels   \n",
       "safety_security      Abs,Central Door Lock,Driver-Side Airbag,Elect...   \n",
       "gears                                                                6   \n",
       "upholstery_type                                                  Cloth   \n",
       "upholstery_color                                                 Black   \n",
       "consumption_comb                                                  3.82   \n",
       "consumption_city                                                  4.32   \n",
       "consumption_country                                               3.42   \n",
       "weight_kg                                                         1163   \n",
       "\n",
       "                                                                  7935  \\\n",
       "make_model                                                  Opel Astra   \n",
       "body_type                                                Station wagon   \n",
       "price                                                            17575   \n",
       "vat                                                     VAT deductible   \n",
       "km                                                                   0   \n",
       "age                                                                  0   \n",
       "hp_kw                                                               66   \n",
       "type                                                               New   \n",
       "previous_owners                                                      1   \n",
       "body_color                                                       Black   \n",
       "paint_type                                                    Metallic   \n",
       "nr_of_doors                                                          5   \n",
       "nr_of_seats                                                          5   \n",
       "gearing_type                                                    Manual   \n",
       "displacement                                                       1.0   \n",
       "cylinders                                                          3.0   \n",
       "drive_chain                                                      front   \n",
       "fuel                                                           Benzine   \n",
       "co2_emission                                                     114.0   \n",
       "emission_class                                            Euro 6d-TEMP   \n",
       "comfort_convenience  Air Conditioning,Automatic Climate Control,Cru...   \n",
       "entertainment_media  Bluetooth,Hands-free equipment,On-board comput...   \n",
       "extras                                Alloy Wheels,Catalytic Converter   \n",
       "safety_security      Abs,Adaptive Headlights,Central Door Lock,Dayt...   \n",
       "gears                                                                5   \n",
       "upholstery_type                                                  Cloth   \n",
       "upholstery_color                                                 Other   \n",
       "consumption_comb                                                   5.0   \n",
       "consumption_city                                                   5.9   \n",
       "consumption_country                                                4.5   \n",
       "weight_kg                                                         1288   \n",
       "\n",
       "                                                                  7934  \\\n",
       "make_model                                                  Opel Astra   \n",
       "body_type                                                       Sedans   \n",
       "price                                                            17590   \n",
       "vat                                                     VAT deductible   \n",
       "km                                                                   5   \n",
       "age                                                                  0   \n",
       "hp_kw                                                               77   \n",
       "type                                                               New   \n",
       "previous_owners                                                      1   \n",
       "body_color                                                         Red   \n",
       "paint_type                                                    Metallic   \n",
       "nr_of_doors                                                          5   \n",
       "nr_of_seats                                                          5   \n",
       "gearing_type                                                    Manual   \n",
       "displacement                                                    1.0499   \n",
       "cylinders                                                          3.0   \n",
       "drive_chain                                                      front   \n",
       "fuel                                                           LPG/CNG   \n",
       "co2_emission                                                     107.0   \n",
       "emission_class                                                  Euro 6   \n",
       "comfort_convenience  Air Conditioning,Armrest,Automatic Climate Con...   \n",
       "entertainment_media             Hands-free equipment,On-board computer   \n",
       "extras                                       Alloy Wheels,Touch Screen   \n",
       "safety_security      Abs,Central Door Lock,Daytime Running Lights,D...   \n",
       "gears                                                                5   \n",
       "upholstery_type                                                  Cloth   \n",
       "upholstery_color                                                 Other   \n",
       "consumption_comb                                                   4.7   \n",
       "consumption_city                                                   5.5   \n",
       "consumption_country                                                4.1   \n",
       "weight_kg                                                         1273   \n",
       "\n",
       "                                                                  7933  \\\n",
       "make_model                                                  Opel Astra   \n",
       "body_type                                                       Sedans   \n",
       "price                                                            17600   \n",
       "vat                                                     VAT deductible   \n",
       "km                                                                  10   \n",
       "age                                                                  0   \n",
       "hp_kw                                                               85   \n",
       "type                                                               New   \n",
       "previous_owners                                                      1   \n",
       "body_color                                                       Green   \n",
       "paint_type                                                    Metallic   \n",
       "nr_of_doors                                                          5   \n",
       "nr_of_seats                                                          5   \n",
       "gearing_type                                                    Manual   \n",
       "displacement                                                     1.598   \n",
       "cylinders                                                          4.0   \n",
       "drive_chain                                                      front   \n",
       "fuel                                                           Benzine   \n",
       "co2_emission                                                     149.0   \n",
       "emission_class                                                  Euro 5   \n",
       "comfort_convenience  Air Conditioning,Automatic Climate Control,Cru...   \n",
       "entertainment_media                  CD player,On-board computer,Radio   \n",
       "extras                                                    Alloy Wheels   \n",
       "safety_security      Abs,Alarm System,Central Door Lock,Electronic ...   \n",
       "gears                                                                6   \n",
       "upholstery_type                                                  Cloth   \n",
       "upholstery_color                                                 Other   \n",
       "consumption_comb                                                   6.4   \n",
       "consumption_city                                                   8.4   \n",
       "consumption_country                                                5.2   \n",
       "weight_kg                                                         1393   \n",
       "\n",
       "                                                                  7932  \\\n",
       "make_model                                                  Opel Astra   \n",
       "body_type                                                       Sedans   \n",
       "price                                                            17678   \n",
       "vat                                                     VAT deductible   \n",
       "km                                                                   1   \n",
       "age                                                                  0   \n",
       "hp_kw                                                               77   \n",
       "type                                                               New   \n",
       "previous_owners                                                      1   \n",
       "body_color                                                       White   \n",
       "paint_type                                                    Metallic   \n",
       "nr_of_doors                                                          5   \n",
       "nr_of_seats                                                          5   \n",
       "gearing_type                                                    Manual   \n",
       "displacement                                                    1.0499   \n",
       "cylinders                                                          3.0   \n",
       "drive_chain                                                      front   \n",
       "fuel                                                           Benzine   \n",
       "co2_emission                                                     115.0   \n",
       "emission_class                                            Euro 6d-TEMP   \n",
       "comfort_convenience  Air Conditioning,Armrest,Automatic Climate Con...   \n",
       "entertainment_media                                              Radio   \n",
       "extras                                                    Alloy Wheels   \n",
       "safety_security      Abs,Daytime Running Lights,Driver-Side Airbag,...   \n",
       "gears                                                                5   \n",
       "upholstery_type                                                  Cloth   \n",
       "upholstery_color                                                 Black   \n",
       "consumption_comb                                                   5.0   \n",
       "consumption_city                                                   5.9   \n",
       "consumption_country                                                4.5   \n",
       "weight_kg                                                         1326   \n",
       "\n",
       "                                                                  7931  \\\n",
       "make_model                                                  Opel Astra   \n",
       "body_type                                                       Sedans   \n",
       "price                                                            17690   \n",
       "vat                                                     VAT deductible   \n",
       "km                                                                  10   \n",
       "age                                                                  0   \n",
       "hp_kw                                                               66   \n",
       "type                                                    Pre-registered   \n",
       "previous_owners                                                      1   \n",
       "body_color                                                       White   \n",
       "paint_type                                                    Metallic   \n",
       "nr_of_doors                                                          5   \n",
       "nr_of_seats                                                          5   \n",
       "gearing_type                                                    Manual   \n",
       "displacement                                                       1.0   \n",
       "cylinders                                                          3.0   \n",
       "drive_chain                                                      front   \n",
       "fuel                                                           Benzine   \n",
       "co2_emission                                                     107.0   \n",
       "emission_class                                            Euro 6d-TEMP   \n",
       "comfort_convenience  Air Conditioning,Cruise Control,Electrical Sid...   \n",
       "entertainment_media  Bluetooth,Hands-free equipment,MP3,On-board co...   \n",
       "extras                                             Catalytic Converter   \n",
       "safety_security      Abs,Central Door Lock,Daytime Running Lights,D...   \n",
       "gears                                                                5   \n",
       "upholstery_type                                                  Cloth   \n",
       "upholstery_color                                                 Black   \n",
       "consumption_comb                                                   4.7   \n",
       "consumption_city                                                   5.4   \n",
       "consumption_country                                                4.2   \n",
       "weight_kg                                                         1326   \n",
       "\n",
       "                                                                  7930  \\\n",
       "make_model                                                  Opel Astra   \n",
       "body_type                                                       Sedans   \n",
       "price                                                            17690   \n",
       "vat                                                     VAT deductible   \n",
       "km                                                                3388   \n",
       "age                                                                  0   \n",
       "hp_kw                                                               81   \n",
       "type                                                     Demonstration   \n",
       "previous_owners                                                      1   \n",
       "body_color                                                        Grey   \n",
       "paint_type                                                    Metallic   \n",
       "nr_of_doors                                                          5   \n",
       "nr_of_seats                                                          5   \n",
       "gearing_type                                                    Manual   \n",
       "displacement                                                     1.598   \n",
       "cylinders                                                          4.0   \n",
       "drive_chain                                                      front   \n",
       "fuel                                                            Diesel   \n",
       "co2_emission                                                     107.0   \n",
       "emission_class                                                  Euro 6   \n",
       "comfort_convenience  Air Conditioning,Armrest,Automatic Climate Con...   \n",
       "entertainment_media  Bluetooth,Hands-free equipment,On-board comput...   \n",
       "extras                                       Alloy Wheels,Touch Screen   \n",
       "safety_security      Abs,Central Door Lock,Daytime Running Lights,D...   \n",
       "gears                                                                6   \n",
       "upholstery_type                                                  Cloth   \n",
       "upholstery_color                                                 Black   \n",
       "consumption_comb                                                   4.1   \n",
       "consumption_city                                                  4.35   \n",
       "consumption_country                                               3.42   \n",
       "weight_kg                                                         1326   \n",
       "\n",
       "                                                                  7929  \\\n",
       "make_model                                                  Opel Astra   \n",
       "body_type                                                       Sedans   \n",
       "price                                                            17690   \n",
       "vat                                                     VAT deductible   \n",
       "km                                                                3530   \n",
       "age                                                                  0   \n",
       "hp_kw                                                               81   \n",
       "type                                                     Demonstration   \n",
       "previous_owners                                                      1   \n",
       "body_color                                                       Black   \n",
       "paint_type                                                    Metallic   \n",
       "nr_of_doors                                                          5   \n",
       "nr_of_seats                                                          5   \n",
       "gearing_type                                                    Manual   \n",
       "displacement                                                     1.598   \n",
       "cylinders                                                          4.0   \n",
       "drive_chain                                                      front   \n",
       "fuel                                                            Diesel   \n",
       "co2_emission                                                     107.0   \n",
       "emission_class                                                  Euro 6   \n",
       "comfort_convenience  Air Conditioning,Automatic Climate Control,Cru...   \n",
       "entertainment_media  Bluetooth,Hands-free equipment,MP3,On-board co...   \n",
       "extras                                       Alloy Wheels,Touch Screen   \n",
       "safety_security      Abs,Central Door Lock,Driver-Side Airbag,Fog L...   \n",
       "gears                                                                6   \n",
       "upholstery_type                                                  Cloth   \n",
       "upholstery_color                                                 Black   \n",
       "consumption_comb                                                   4.1   \n",
       "consumption_city                                                  4.35   \n",
       "consumption_country                                               3.42   \n",
       "weight_kg                                                         1326   \n",
       "\n",
       "                                                                  7928  \n",
       "make_model                                                  Opel Astra  \n",
       "body_type                                                Station wagon  \n",
       "price                                                            17714  \n",
       "vat                                                     VAT deductible  \n",
       "km                                                                   0  \n",
       "age                                                                  0  \n",
       "hp_kw                                                               78  \n",
       "type                                                               New  \n",
       "previous_owners                                                      1  \n",
       "body_color                                                       Black  \n",
       "paint_type                                                    Metallic  \n",
       "nr_of_doors                                                          5  \n",
       "nr_of_seats                                                          5  \n",
       "gearing_type                                                    Manual  \n",
       "displacement                                                     1.398  \n",
       "cylinders                                                          3.0  \n",
       "drive_chain                                                      front  \n",
       "fuel                                                           LPG/CNG  \n",
       "co2_emission                                                130.672414  \n",
       "emission_class                                                  Euro 6  \n",
       "comfort_convenience  Air Conditioning,Cruise Control,Electrical Sid...  \n",
       "entertainment_media                    Bluetooth,MP3,On-board computer  \n",
       "extras                                                    Alloy Wheels  \n",
       "safety_security      Abs,Central Door Lock,Driver-Side Airbag,Elect...  \n",
       "gears                                                                5  \n",
       "upholstery_type                                                  Cloth  \n",
       "upholstery_color                                                 Black  \n",
       "consumption_comb                                                  4.95  \n",
       "consumption_city                                                  6.56  \n",
       "consumption_country                                               4.16  \n",
       "weight_kg                                                         1403  "
      ]
     },
     "execution_count": 158,
     "metadata": {},
     "output_type": "execute_result"
    }
   ],
   "source": [
    "df.loc[bottom_index].T"
   ]
  },
  {
   "cell_type": "code",
   "execution_count": 274,
   "metadata": {
    "id": "uInpckpQntMB"
   },
   "outputs": [
    {
     "data": {
      "text/plain": [
       "0"
      ]
     },
     "execution_count": 274,
     "metadata": {},
     "output_type": "execute_result"
    }
   ],
   "source": [
    "df.age.isnull().sum()"
   ]
  },
  {
   "cell_type": "code",
   "execution_count": null,
   "metadata": {},
   "outputs": [],
   "source": [
    "plt.figure(figsize = (15, 9))\n",
    "sns.scatterplot(x='age',y='price',data=df,hue='make_model')"
   ]
  },
  {
   "cell_type": "markdown",
   "metadata": {
    "id": "K-BmsxZFNJVe"
   },
   "source": [
    "## hp_kw"
   ]
  },
  {
   "cell_type": "code",
   "execution_count": null,
   "metadata": {
    "id": "K-BmsxZFNJVe"
   },
   "outputs": [],
   "source": [
    "df.hp_kw"
   ]
  },
  {
   "cell_type": "code",
   "execution_count": null,
   "metadata": {
    "id": "zSC38qdfonrh"
   },
   "outputs": [],
   "source": [
    "plt.figure(figsize = (10, 6))\n",
    "sns.boxplot(x = df.hp_kw);"
   ]
  },
  {
   "cell_type": "code",
   "execution_count": null,
   "metadata": {
    "id": "RwSe-i0donvZ"
   },
   "outputs": [],
   "source": [
    "sns.displot(df.hp_kw, bins = 50, kde = False);"
   ]
  },
  {
   "cell_type": "code",
   "execution_count": null,
   "metadata": {
    "id": "ryjqo5ZDony0"
   },
   "outputs": [],
   "source": [
    "df[\"hp_kw\"].sort_values()"
   ]
  },
  {
   "cell_type": "code",
   "execution_count": null,
   "metadata": {
    "id": "x84ywN9con12"
   },
   "outputs": [],
   "source": [
    "Q1 = df.hp_kw.describe()[4]"
   ]
  },
  {
   "cell_type": "code",
   "execution_count": null,
   "metadata": {
    "id": "d-gl4UoIon5R"
   },
   "outputs": [],
   "source": [
    "Q3 = df.hp_kw.describe()[6]"
   ]
  },
  {
   "cell_type": "code",
   "execution_count": null,
   "metadata": {
    "id": "8O8m-DMlon9s"
   },
   "outputs": [],
   "source": [
    "IQR = Q3-Q1\n",
    "IQR"
   ]
  },
  {
   "cell_type": "code",
   "execution_count": null,
   "metadata": {
    "id": "iyUHY9RYooBF"
   },
   "outputs": [],
   "source": [
    "lower_lim = Q1 - 1.5 * IQR\n",
    "upper_lim = Q3 + 1.5 * IQR"
   ]
  },
  {
   "cell_type": "code",
   "execution_count": null,
   "metadata": {
    "id": "uS_Tkzc2ooUm"
   },
   "outputs": [],
   "source": [
    "lower_lim"
   ]
  },
  {
   "cell_type": "code",
   "execution_count": null,
   "metadata": {
    "id": "iQN2n0vwooYi"
   },
   "outputs": [],
   "source": [
    "upper_lim "
   ]
  },
  {
   "cell_type": "code",
   "execution_count": null,
   "metadata": {
    "id": "DNsGzFWwoob7"
   },
   "outputs": [],
   "source": [
    "(df.hp_kw < lower_lim).sum()"
   ]
  },
  {
   "cell_type": "code",
   "execution_count": null,
   "metadata": {
    "id": "9tsenVqGoofF"
   },
   "outputs": [],
   "source": [
    "(df.hp_kw > upper_lim).sum()"
   ]
  },
  {
   "cell_type": "code",
   "execution_count": null,
   "metadata": {
    "id": "iSU8vYN5ooiS"
   },
   "outputs": [],
   "source": [
    "df.hp_kw[(df.hp_kw < lower_lim) | (df.hp_kw > upper_lim)].count()"
   ]
  },
  {
   "cell_type": "code",
   "execution_count": null,
   "metadata": {
    "id": "XXvCbl8BoolV"
   },
   "outputs": [],
   "source": [
    "df.hp_kw[~((df.hp_kw < lower_lim) | (df.hp_kw > upper_lim))].count()"
   ]
  },
  {
   "cell_type": "code",
   "execution_count": null,
   "metadata": {
    "id": "3qS5y9kmoooc"
   },
   "outputs": [],
   "source": [
    "outlier_index_4 = df.loc[(df.hp_kw < lower_lim) | (df.hp_kw > upper_lim)].index"
   ]
  },
  {
   "cell_type": "code",
   "execution_count": null,
   "metadata": {
    "id": "LCduBhdMNJbo"
   },
   "outputs": [],
   "source": [
    "outlier_index_4"
   ]
  },
  {
   "cell_type": "code",
   "execution_count": null,
   "metadata": {
    "id": "lL6pSJuYpWCa"
   },
   "outputs": [],
   "source": [
    "bottom_index=df[\"hp_kw\"].sort_values().head(10).index"
   ]
  },
  {
   "cell_type": "code",
   "execution_count": null,
   "metadata": {
    "id": "rematwIqpWFo"
   },
   "outputs": [],
   "source": [
    "df.loc[bottom_index].T"
   ]
  },
  {
   "cell_type": "code",
   "execution_count": null,
   "metadata": {
    "id": "AN_mjZbypWJz"
   },
   "outputs": [],
   "source": [
    "df.loc[outlier_index_4]"
   ]
  },
  {
   "cell_type": "code",
   "execution_count": null,
   "metadata": {
    "id": "K5g_XyoBpWQs"
   },
   "outputs": [],
   "source": [
    "df.hp_kw"
   ]
  },
  {
   "cell_type": "code",
   "execution_count": null,
   "metadata": {},
   "outputs": [],
   "source": [
    "## df.hp_kw[df.hp_kw < 40].index"
   ]
  },
  {
   "cell_type": "code",
   "execution_count": 275,
   "metadata": {},
   "outputs": [],
   "source": [
    "## df.drop(df.hp_kw[df.hp_kw < 40].index,inplace=True)"
   ]
  },
  {
   "cell_type": "code",
   "execution_count": 276,
   "metadata": {},
   "outputs": [
    {
     "data": {
      "text/plain": [
       "8857      40\n",
       "13759     40\n",
       "8408      44\n",
       "8720      51\n",
       "9013      51\n",
       "        ... \n",
       "3604     294\n",
       "3603     294\n",
       "3602     294\n",
       "3601     294\n",
       "3590     294\n",
       "Name: hp_kw, Length: 15893, dtype: int64"
      ]
     },
     "execution_count": 276,
     "metadata": {},
     "output_type": "execute_result"
    }
   ],
   "source": [
    "df.hp_kw.sort_values()"
   ]
  },
  {
   "cell_type": "markdown",
   "metadata": {},
   "source": [
    "## displacement"
   ]
  },
  {
   "cell_type": "code",
   "execution_count": null,
   "metadata": {
    "id": "UDuvc863pWej"
   },
   "outputs": [],
   "source": [
    "df.displacement"
   ]
  },
  {
   "cell_type": "code",
   "execution_count": null,
   "metadata": {
    "id": "vngkOtunq5Mt"
   },
   "outputs": [],
   "source": [
    "plt.figure(figsize = (10, 6))\n",
    "sns.boxplot(x = df.displacement); "
   ]
  },
  {
   "cell_type": "code",
   "execution_count": null,
   "metadata": {
    "id": "sl1D91hkq5QV"
   },
   "outputs": [],
   "source": [
    "sns.displot(df.displacement, bins = 50, kde = False);"
   ]
  },
  {
   "cell_type": "code",
   "execution_count": null,
   "metadata": {
    "id": "91ax93cQq5Tp"
   },
   "outputs": [],
   "source": [
    "df[\"displacement\"].sort_values()"
   ]
  },
  {
   "cell_type": "code",
   "execution_count": null,
   "metadata": {
    "id": "LjUMpNEvq5XA"
   },
   "outputs": [],
   "source": [
    "df.displacement.describe()"
   ]
  },
  {
   "cell_type": "code",
   "execution_count": null,
   "metadata": {
    "id": "PIZN0tguq5af"
   },
   "outputs": [],
   "source": [
    "Q1 = df.displacement.describe()[4]"
   ]
  },
  {
   "cell_type": "code",
   "execution_count": null,
   "metadata": {
    "id": "Yw7vigbeq5fE"
   },
   "outputs": [],
   "source": [
    "Q3 = df.displacement.describe()[6]"
   ]
  },
  {
   "cell_type": "code",
   "execution_count": null,
   "metadata": {
    "id": "DLJW3YCEq5if"
   },
   "outputs": [],
   "source": [
    "IQR = Q3-Q1"
   ]
  },
  {
   "cell_type": "code",
   "execution_count": null,
   "metadata": {
    "id": "eIfFhjHtq5zC"
   },
   "outputs": [],
   "source": [
    "lower_lim = Q1 - 1.5 * IQR\n",
    "upper_lim = Q3 + 1.5 * IQR"
   ]
  },
  {
   "cell_type": "code",
   "execution_count": null,
   "metadata": {
    "id": "Z_CBYfQqq52_"
   },
   "outputs": [],
   "source": [
    "lower_lim"
   ]
  },
  {
   "cell_type": "code",
   "execution_count": null,
   "metadata": {
    "id": "bk9i_PBZq575"
   },
   "outputs": [],
   "source": [
    "upper_lim "
   ]
  },
  {
   "cell_type": "code",
   "execution_count": null,
   "metadata": {
    "id": "NktX6IwWrVhr"
   },
   "outputs": [],
   "source": [
    "(df.displacement < lower_lim).sum()"
   ]
  },
  {
   "cell_type": "code",
   "execution_count": null,
   "metadata": {
    "id": "ttSlCczkrVpp"
   },
   "outputs": [],
   "source": [
    "(df.displacement > upper_lim).sum()"
   ]
  },
  {
   "cell_type": "code",
   "execution_count": null,
   "metadata": {
    "id": "KCBzI4zLrVtY"
   },
   "outputs": [],
   "source": [
    "df.displacement[(df.displacement < lower_lim) | (df.displacement > upper_lim)].count()"
   ]
  },
  {
   "cell_type": "code",
   "execution_count": null,
   "metadata": {
    "id": "E1H8XHejrVxl"
   },
   "outputs": [],
   "source": [
    "df.displacement[~((df.displacement < lower_lim) | (df.displacement > upper_lim))].count()"
   ]
  },
  {
   "cell_type": "code",
   "execution_count": null,
   "metadata": {
    "id": "eBumAhQkrV1Y"
   },
   "outputs": [],
   "source": [
    "outlier_index = df.loc[(df.displacement < lower_lim) | (df.displacement > upper_lim)].index"
   ]
  },
  {
   "cell_type": "code",
   "execution_count": null,
   "metadata": {
    "id": "Rr9p9LY_rV7y"
   },
   "outputs": [],
   "source": [
    "outlier_index"
   ]
  },
  {
   "cell_type": "code",
   "execution_count": null,
   "metadata": {
    "id": "PNX9c2AFrWEy"
   },
   "outputs": [],
   "source": [
    "bottom_index=df[\"displacement\"].sort_values().head(10).index"
   ]
  },
  {
   "cell_type": "code",
   "execution_count": null,
   "metadata": {
    "id": "uHtEFkbUrWIF"
   },
   "outputs": [],
   "source": [
    "df.loc[bottom_index].T"
   ]
  },
  {
   "cell_type": "code",
   "execution_count": null,
   "metadata": {
    "id": "nAUBTvTlrWLX"
   },
   "outputs": [],
   "source": [
    "df.loc[outlier_index]"
   ]
  },
  {
   "cell_type": "code",
   "execution_count": null,
   "metadata": {
    "id": "Z5ARzVKprWSQ"
   },
   "outputs": [],
   "source": [
    "df.displacement"
   ]
  },
  {
   "cell_type": "markdown",
   "metadata": {},
   "source": [
    "## cylinders"
   ]
  },
  {
   "cell_type": "code",
   "execution_count": null,
   "metadata": {
    "id": "PditAGPasgNh"
   },
   "outputs": [],
   "source": [
    "df.cylinders.value_counts()"
   ]
  },
  {
   "cell_type": "code",
   "execution_count": null,
   "metadata": {
    "id": "TmGT1eMysgRE"
   },
   "outputs": [],
   "source": [
    "plt.figure(figsize = (15, 10)) \n",
    "sns.boxplot(x = df.cylinders); "
   ]
  },
  {
   "cell_type": "code",
   "execution_count": null,
   "metadata": {
    "id": "sKGmF0RhsgVb"
   },
   "outputs": [],
   "source": [
    "sns.displot(df.cylinders, bins = 50, kde = False);"
   ]
  },
  {
   "cell_type": "code",
   "execution_count": null,
   "metadata": {
    "id": "f0tQeQ3nsgZO"
   },
   "outputs": [],
   "source": [
    "df[\"cylinders\"].sort_values()"
   ]
  },
  {
   "cell_type": "code",
   "execution_count": null,
   "metadata": {
    "id": "QZHP0Lhisgc2"
   },
   "outputs": [],
   "source": [
    "df.cylinders.describe()"
   ]
  },
  {
   "cell_type": "code",
   "execution_count": null,
   "metadata": {
    "id": "vyc9vq3hsghm"
   },
   "outputs": [],
   "source": [
    "Q1 = df.cylinders.describe()[4]"
   ]
  },
  {
   "cell_type": "code",
   "execution_count": null,
   "metadata": {
    "id": "u7voe9ALsglE"
   },
   "outputs": [],
   "source": [
    "Q3 = df.cylinders.describe()[6]"
   ]
  },
  {
   "cell_type": "code",
   "execution_count": null,
   "metadata": {
    "id": "J9h4HEnFsgp3"
   },
   "outputs": [],
   "source": [
    "IQR = Q3-Q1\n",
    "IQR"
   ]
  },
  {
   "cell_type": "code",
   "execution_count": null,
   "metadata": {
    "id": "D8SCow2TshXu"
   },
   "outputs": [],
   "source": [
    "lower_lim = Q1 - 1.5 * IQR\n",
    "upper_lim = Q3 + 1.5 * IQR"
   ]
  },
  {
   "cell_type": "code",
   "execution_count": null,
   "metadata": {
    "id": "smNvhpHyshgE"
   },
   "outputs": [],
   "source": [
    "(df.cylinders < lower_lim).sum()"
   ]
  },
  {
   "cell_type": "code",
   "execution_count": null,
   "metadata": {
    "id": "4r6UHz2SshnV"
   },
   "outputs": [],
   "source": [
    "(df.cylinders > upper_lim).sum()"
   ]
  },
  {
   "cell_type": "code",
   "execution_count": null,
   "metadata": {
    "id": "yrVpPRH-shsG"
   },
   "outputs": [],
   "source": [
    "df.cylinders[(df.cylinders < lower_lim) | (df.cylinders > upper_lim)].count()"
   ]
  },
  {
   "cell_type": "code",
   "execution_count": null,
   "metadata": {
    "id": "IpB4U0mpshv7"
   },
   "outputs": [],
   "source": [
    "df.cylinders[~((df.cylinders < lower_lim) | (df.cylinders > upper_lim))].count()"
   ]
  },
  {
   "cell_type": "code",
   "execution_count": null,
   "metadata": {
    "id": "U2x5yYxjtV-5"
   },
   "outputs": [],
   "source": [
    "df.cylinders"
   ]
  },
  {
   "cell_type": "markdown",
   "metadata": {},
   "source": [
    "## co2_emission"
   ]
  },
  {
   "cell_type": "code",
   "execution_count": null,
   "metadata": {},
   "outputs": [],
   "source": [
    "## drop"
   ]
  },
  {
   "cell_type": "markdown",
   "metadata": {},
   "source": [
    "## weight_kg"
   ]
  },
  {
   "cell_type": "code",
   "execution_count": null,
   "metadata": {
    "id": "SCKRzAMnvhfb"
   },
   "outputs": [],
   "source": [
    "df.weight_kg"
   ]
  },
  {
   "cell_type": "code",
   "execution_count": null,
   "metadata": {
    "id": "xYLyitH-vhjn"
   },
   "outputs": [],
   "source": [
    "plt.figure(figsize = (10, 6))\n",
    "sns.boxplot(x = df.weight_kg);"
   ]
  },
  {
   "cell_type": "code",
   "execution_count": null,
   "metadata": {
    "id": "fbFhRL-ovhoj"
   },
   "outputs": [],
   "source": [
    "sns.displot(df.weight_kg, bins = 50, kde = False);"
   ]
  },
  {
   "cell_type": "code",
   "execution_count": null,
   "metadata": {
    "id": "aviAdBufwPrv",
    "scrolled": true
   },
   "outputs": [],
   "source": [
    "df[\"weight_kg\"].sort_values().tail(30)"
   ]
  },
  {
   "cell_type": "code",
   "execution_count": null,
   "metadata": {
    "scrolled": true
   },
   "outputs": [],
   "source": [
    "df.loc[1143]"
   ]
  },
  {
   "cell_type": "code",
   "execution_count": null,
   "metadata": {},
   "outputs": [],
   "source": [
    "df.loc[15219]"
   ]
  },
  {
   "cell_type": "code",
   "execution_count": null,
   "metadata": {},
   "outputs": [],
   "source": [
    "df.weight_kg.sort_values().head(10)"
   ]
  },
  {
   "cell_type": "code",
   "execution_count": null,
   "metadata": {
    "id": "a3GW4zvvwPv9"
   },
   "outputs": [],
   "source": [
    "df.weight_kg.describe()"
   ]
  },
  {
   "cell_type": "code",
   "execution_count": null,
   "metadata": {
    "id": "9PwRl-ukwP1u"
   },
   "outputs": [],
   "source": [
    "Q1 = df.weight_kg.describe()[4]"
   ]
  },
  {
   "cell_type": "code",
   "execution_count": null,
   "metadata": {
    "id": "ZGN3-lhRwP53"
   },
   "outputs": [],
   "source": [
    "Q3 = df.weight_kg.describe()[6]"
   ]
  },
  {
   "cell_type": "code",
   "execution_count": null,
   "metadata": {
    "id": "pHQ3fG7IvhsU"
   },
   "outputs": [],
   "source": [
    "IQR = Q3-Q1\n",
    "IQR"
   ]
  },
  {
   "cell_type": "code",
   "execution_count": null,
   "metadata": {
    "id": "8s2DQZyCvhyF"
   },
   "outputs": [],
   "source": [
    "lower_lim = Q1 - 1.5 * IQR\n",
    "upper_lim = Q3 + 1.5 * IQR"
   ]
  },
  {
   "cell_type": "code",
   "execution_count": null,
   "metadata": {
    "id": "TKaIIkWUvh14"
   },
   "outputs": [],
   "source": [
    "lower_lim"
   ]
  },
  {
   "cell_type": "code",
   "execution_count": null,
   "metadata": {
    "id": "TGcbwOK_vh6t"
   },
   "outputs": [],
   "source": [
    "upper_lim "
   ]
  },
  {
   "cell_type": "code",
   "execution_count": null,
   "metadata": {
    "id": "lvyKVQolvie_"
   },
   "outputs": [],
   "source": [
    "(df.weight_kg < lower_lim).sum()"
   ]
  },
  {
   "cell_type": "code",
   "execution_count": null,
   "metadata": {
    "id": "GLax8fbAviq5"
   },
   "outputs": [],
   "source": [
    "(df.weight_kg > upper_lim).sum()"
   ]
  },
  {
   "cell_type": "code",
   "execution_count": null,
   "metadata": {
    "id": "fIgzn4V8viwe"
   },
   "outputs": [],
   "source": [
    "df.weight_kg[(df.weight_kg < lower_lim) | (df.weight_kg > upper_lim)].count()"
   ]
  },
  {
   "cell_type": "code",
   "execution_count": null,
   "metadata": {
    "id": "qO7oR7mGvi0e"
   },
   "outputs": [],
   "source": [
    "df.price[~((df.weight_kg < lower_lim) | (df.weight_kg > upper_lim))].count()"
   ]
  },
  {
   "cell_type": "code",
   "execution_count": 277,
   "metadata": {
    "id": "0KuLkRQtvi-2"
   },
   "outputs": [],
   "source": [
    "outlier_index_weight_kg = df.loc[(df.weight_kg < lower_lim)].index"
   ]
  },
  {
   "cell_type": "code",
   "execution_count": 278,
   "metadata": {
    "id": "ZIadv0gwvjCt"
   },
   "outputs": [
    {
     "data": {
      "text/plain": [
       "Int64Index([8355, 8356, 12779], dtype='int64')"
      ]
     },
     "execution_count": 278,
     "metadata": {},
     "output_type": "execute_result"
    }
   ],
   "source": [
    "outlier_index_weight_kg"
   ]
  },
  {
   "cell_type": "code",
   "execution_count": 279,
   "metadata": {
    "id": "jiRjG9BGuMk5"
   },
   "outputs": [],
   "source": [
    "## df.drop(outlier_index_weight_kg,inplace=True)"
   ]
  },
  {
   "cell_type": "code",
   "execution_count": 280,
   "metadata": {
    "id": "B8uNNybjuMpL"
   },
   "outputs": [
    {
     "data": {
      "text/plain": [
       "0        1220\n",
       "1        1255\n",
       "2        1255\n",
       "3        1195\n",
       "4        1195\n",
       "         ... \n",
       "15914    1758\n",
       "15915    1708\n",
       "15916    1708\n",
       "15917    1758\n",
       "15918    1685\n",
       "Name: weight_kg, Length: 15890, dtype: int64"
      ]
     },
     "execution_count": 280,
     "metadata": {},
     "output_type": "execute_result"
    }
   ],
   "source": [
    "df.weight_kg"
   ]
  },
  {
   "cell_type": "markdown",
   "metadata": {},
   "source": [
    "## consumption_comb"
   ]
  },
  {
   "cell_type": "code",
   "execution_count": null,
   "metadata": {
    "id": "TBHU5O7qxksB"
   },
   "outputs": [],
   "source": [
    "df.consumption_comb"
   ]
  },
  {
   "cell_type": "code",
   "execution_count": null,
   "metadata": {
    "id": "H6s3QjVC4IPI"
   },
   "outputs": [],
   "source": [
    "plt.figure(figsize = (15, 10)) \n",
    "sns.boxplot(x = df.consumption_comb);"
   ]
  },
  {
   "cell_type": "code",
   "execution_count": null,
   "metadata": {
    "id": "rRAVoOR_4IUi"
   },
   "outputs": [],
   "source": [
    "sns.displot(df.consumption_comb, bins = 50, kde = False);"
   ]
  },
  {
   "cell_type": "code",
   "execution_count": null,
   "metadata": {
    "id": "s0wxzyYf4Icg"
   },
   "outputs": [],
   "source": [
    "df[\"consumption_comb\"].sort_values()"
   ]
  },
  {
   "cell_type": "code",
   "execution_count": null,
   "metadata": {
    "id": "YePCuGi_4IhA"
   },
   "outputs": [],
   "source": [
    "Q1 = df.consumption_comb.describe()[4]"
   ]
  },
  {
   "cell_type": "code",
   "execution_count": null,
   "metadata": {
    "id": "8ENg9Lgx4Imj"
   },
   "outputs": [],
   "source": [
    "Q3 = df.consumption_country.describe()[6]"
   ]
  },
  {
   "cell_type": "code",
   "execution_count": null,
   "metadata": {
    "id": "17AU7Q-h4IrE"
   },
   "outputs": [],
   "source": [
    "IQR = Q3-Q1\n",
    "IQR"
   ]
  },
  {
   "cell_type": "code",
   "execution_count": null,
   "metadata": {
    "id": "rm9GkwwQ4IvP"
   },
   "outputs": [],
   "source": [
    "lower_lim = Q1 - 1.5 * IQR"
   ]
  },
  {
   "cell_type": "code",
   "execution_count": null,
   "metadata": {
    "id": "WshNM5qU4I04"
   },
   "outputs": [],
   "source": [
    "upper_lim = Q3 + 1.5 * IQR"
   ]
  },
  {
   "cell_type": "code",
   "execution_count": null,
   "metadata": {
    "id": "eqNnjItb4I5L"
   },
   "outputs": [],
   "source": [
    "lower_lim"
   ]
  },
  {
   "cell_type": "code",
   "execution_count": null,
   "metadata": {
    "id": "JPNUT23k4JFd"
   },
   "outputs": [],
   "source": [
    "upper_lim "
   ]
  },
  {
   "cell_type": "code",
   "execution_count": null,
   "metadata": {
    "id": "Bfg0UpIJ4JP6"
   },
   "outputs": [],
   "source": [
    "(df.consumption_country < lower_lim).sum()"
   ]
  },
  {
   "cell_type": "code",
   "execution_count": null,
   "metadata": {
    "id": "xaqJ9Jad4JUJ"
   },
   "outputs": [],
   "source": [
    "(df.consumption_country> upper_lim).sum()"
   ]
  },
  {
   "cell_type": "code",
   "execution_count": null,
   "metadata": {},
   "outputs": [],
   "source": [
    "df.consumption_comb.sort_values().tail(20)"
   ]
  },
  {
   "cell_type": "code",
   "execution_count": 282,
   "metadata": {},
   "outputs": [
    {
     "data": {
      "text/plain": [
       "Int64Index([14530,  4558,  4556,  4102,  4089,   500, 15067, 14584,  2237,\n",
       "             2210,  2196,  2194, 13179, 11954],\n",
       "           dtype='int64')"
      ]
     },
     "execution_count": 282,
     "metadata": {},
     "output_type": "execute_result"
    }
   ],
   "source": [
    "index_1 = df.consumption_comb.sort_values().tail(14).index\n",
    "index_1"
   ]
  },
  {
   "cell_type": "code",
   "execution_count": 283,
   "metadata": {},
   "outputs": [
    {
     "name": "stderr",
     "output_type": "stream",
     "text": [
      "C:\\Program Files\\Python39\\lib\\site-packages\\pandas\\core\\indexing.py:1732: SettingWithCopyWarning: \n",
      "A value is trying to be set on a copy of a slice from a DataFrame\n",
      "\n",
      "See the caveats in the documentation: https://pandas.pydata.org/pandas-docs/stable/user_guide/indexing.html#returning-a-view-versus-a-copy\n",
      "  self._setitem_single_block(indexer, value, name)\n"
     ]
    }
   ],
   "source": [
    "## df.consumption_comb.loc[14131] = df.consumption_comb.loc[14131]/10"
   ]
  },
  {
   "cell_type": "code",
   "execution_count": 284,
   "metadata": {},
   "outputs": [],
   "source": [
    "# df.consumption_comb.loc[index_1] = df.consumption_comb.loc[index_1]/10"
   ]
  },
  {
   "cell_type": "code",
   "execution_count": 285,
   "metadata": {},
   "outputs": [
    {
     "data": {
      "text/plain": [
       "5.1"
      ]
     },
     "execution_count": 285,
     "metadata": {},
     "output_type": "execute_result"
    }
   ],
   "source": [
    "df.consumption_comb.loc[2237]"
   ]
  },
  {
   "cell_type": "code",
   "execution_count": 286,
   "metadata": {},
   "outputs": [
    {
     "data": {
      "text/plain": [
       "make_model                                                 Opel Insignia\n",
       "body_type                                                  Station wagon\n",
       "price                                                              17990\n",
       "vat                                                       VAT deductible\n",
       "km                                                                145000\n",
       "age                                                                    3\n",
       "hp_kw                                                                239\n",
       "type                                                                Used\n",
       "previous_owners                                                        1\n",
       "body_color                                                           Red\n",
       "paint_type                                                      Metallic\n",
       "nr_of_doors                                                            4\n",
       "nr_of_seats                                                            5\n",
       "gearing_type                                                   Automatic\n",
       "displacement                                                     1.67864\n",
       "cylinders                                                            4.0\n",
       "drive_chain                                                          4WD\n",
       "fuel                                                             LPG/CNG\n",
       "co2_emission                                                       253.0\n",
       "emission_class                                                    Euro 6\n",
       "comfort_convenience    Air Conditioning,Armrest,Automatic Climate Con...\n",
       "entertainment_media    Bluetooth,CD player,Digital radio,Hands-free e...\n",
       "extras                 Alloy Wheels,Roof Rack,Shift Paddles,Sport Pac...\n",
       "safety_security        Abs,Adaptive Cruise Control,Blind Spot Monitor...\n",
       "gears                                                                  6\n",
       "upholstery_type                                             Full leather\n",
       "upholstery_color                                                   Black\n",
       "consumption_comb                                                    11.0\n",
       "consumption_city                                                    16.1\n",
       "consumption_country                                                  8.0\n",
       "weight_kg                                                           1701\n",
       "Name: 10513, dtype: object"
      ]
     },
     "execution_count": 286,
     "metadata": {},
     "output_type": "execute_result"
    }
   ],
   "source": [
    "df.loc[10513]"
   ]
  },
  {
   "cell_type": "code",
   "execution_count": null,
   "metadata": {},
   "outputs": [],
   "source": [
    "df.consumption_comb.sort_values().head()"
   ]
  },
  {
   "cell_type": "code",
   "execution_count": 287,
   "metadata": {},
   "outputs": [],
   "source": [
    "outlier_con_comb = df[df.consumption_comb < 3].index"
   ]
  },
  {
   "cell_type": "code",
   "execution_count": 288,
   "metadata": {},
   "outputs": [],
   "source": [
    "# df.drop(outlier_con_comb,inplace=True)"
   ]
  },
  {
   "cell_type": "code",
   "execution_count": 290,
   "metadata": {},
   "outputs": [],
   "source": [
    "# df.drop([535],inplace=True)"
   ]
  },
  {
   "cell_type": "code",
   "execution_count": 291,
   "metadata": {
    "id": "qAOSvZBA4J9b"
   },
   "outputs": [
    {
     "data": {
      "text/plain": [
       "6440      3.0\n",
       "1025      3.0\n",
       "8731      3.0\n",
       "10918     3.0\n",
       "13956     3.0\n",
       "         ... \n",
       "14920    10.0\n",
       "14922    10.0\n",
       "14923    10.0\n",
       "14924    10.0\n",
       "10513    11.0\n",
       "Name: consumption_comb, Length: 15882, dtype: float64"
      ]
     },
     "execution_count": 291,
     "metadata": {},
     "output_type": "execute_result"
    }
   ],
   "source": [
    "df.consumption_comb.sort_values()"
   ]
  },
  {
   "cell_type": "markdown",
   "metadata": {},
   "source": [
    "## consumption_city "
   ]
  },
  {
   "cell_type": "code",
   "execution_count": 160,
   "metadata": {
    "id": "WCKar73Y4KZi"
   },
   "outputs": [
    {
     "data": {
      "text/plain": [
       "4556     43.0\n",
       "4558     43.0\n",
       "4089     45.0\n",
       "4102     45.0\n",
       "2237     62.0\n",
       "2210     62.0\n",
       "2196     62.0\n",
       "2194     62.0\n",
       "14584    64.0\n",
       "9756     66.0\n",
       "Name: consumption_city, dtype: float64"
      ]
     },
     "execution_count": 160,
     "metadata": {},
     "output_type": "execute_result"
    }
   ],
   "source": [
    "df.consumption_city.sort_values().tail(10)"
   ]
  },
  {
   "cell_type": "code",
   "execution_count": 161,
   "metadata": {},
   "outputs": [
    {
     "data": {
      "text/plain": [
       "5693     0.0\n",
       "10566    0.0\n",
       "10517    0.0\n",
       "10509    0.0\n",
       "10511    0.0\n",
       "11325    0.0\n",
       "10322    1.0\n",
       "14902    1.0\n",
       "13147    3.0\n",
       "13256    3.0\n",
       "13251    3.0\n",
       "13494    3.0\n",
       "13257    3.0\n",
       "13493    3.0\n",
       "13482    3.0\n",
       "30       3.0\n",
       "Name: consumption_city, dtype: float64"
      ]
     },
     "execution_count": 161,
     "metadata": {},
     "output_type": "execute_result"
    }
   ],
   "source": [
    "df.consumption_city.sort_values().head(16)"
   ]
  },
  {
   "cell_type": "code",
   "execution_count": 162,
   "metadata": {
    "id": "NUcP5vx24Kn5"
   },
   "outputs": [
    {
     "data": {
      "image/png": "[encoded data removed]",
      "text/plain": [
       "<Figure size 1080x720 with 1 Axes>"
      ]
     },
     "metadata": {
      "needs_background": "light"
     },
     "output_type": "display_data"
    }
   ],
   "source": [
    "plt.figure(figsize = (15, 10)) \n",
    "sns.boxplot(x = df.consumption_city);"
   ]
  },
  {
   "cell_type": "code",
   "execution_count": 163,
   "metadata": {},
   "outputs": [],
   "source": [
    "##index_2 = (df.consumption_city.sort_values().head(6)).index\n",
    "##index_2"
   ]
  },
  {
   "cell_type": "code",
   "execution_count": 164,
   "metadata": {},
   "outputs": [],
   "source": [
    "## df.drop(index_2,inplace=True)"
   ]
  },
  {
   "cell_type": "code",
   "execution_count": 165,
   "metadata": {},
   "outputs": [],
   "source": [
    "##index_3 = df.consumption_city.sort_values().tail(10).index\n",
    "##index_3"
   ]
  },
  {
   "cell_type": "code",
   "execution_count": 166,
   "metadata": {},
   "outputs": [],
   "source": [
    "## df.consumption_city.loc[index_3] = df.consumption_city.loc[index_3]/10"
   ]
  },
  {
   "cell_type": "code",
   "execution_count": 167,
   "metadata": {},
   "outputs": [
    {
     "data": {
      "text/plain": [
       "4556     43.0\n",
       "4558     43.0\n",
       "4089     45.0\n",
       "4102     45.0\n",
       "2237     62.0\n",
       "2210     62.0\n",
       "2196     62.0\n",
       "2194     62.0\n",
       "14584    64.0\n",
       "9756     66.0\n",
       "Name: consumption_city, dtype: float64"
      ]
     },
     "execution_count": 167,
     "metadata": {},
     "output_type": "execute_result"
    }
   ],
   "source": [
    "df.consumption_city.sort_values().tail(10)"
   ]
  },
  {
   "cell_type": "code",
   "execution_count": 168,
   "metadata": {
    "id": "HcClVyZV4K0d"
   },
   "outputs": [
    {
     "data": {
      "image/png": "[encoded data removed]",
      "text/plain": [
       "<Figure size 360x360 with 1 Axes>"
      ]
     },
     "metadata": {
      "needs_background": "light"
     },
     "output_type": "display_data"
    }
   ],
   "source": [
    "sns.displot(df.consumption_city, bins = 50, kde = False);"
   ]
  },
  {
   "cell_type": "code",
   "execution_count": 169,
   "metadata": {
    "id": "jG4F1P8N4LDb"
   },
   "outputs": [
    {
     "data": {
      "text/plain": [
       "5693      0.0\n",
       "10566     0.0\n",
       "10517     0.0\n",
       "10509     0.0\n",
       "10511     0.0\n",
       "         ... \n",
       "2210     62.0\n",
       "2196     62.0\n",
       "2194     62.0\n",
       "14584    64.0\n",
       "9756     66.0\n",
       "Name: consumption_city, Length: 15919, dtype: float64"
      ]
     },
     "execution_count": 169,
     "metadata": {},
     "output_type": "execute_result"
    }
   ],
   "source": [
    "df[\"consumption_city\"].sort_values()"
   ]
  },
  {
   "cell_type": "code",
   "execution_count": 170,
   "metadata": {
    "id": "1Ds3abZ84LS0"
   },
   "outputs": [
    {
     "data": {
      "text/plain": [
       "count    15919.000000\n",
       "mean         5.945161\n",
       "std          1.875921\n",
       "min          0.000000\n",
       "25%          4.700000\n",
       "50%          5.800000\n",
       "75%          7.000000\n",
       "max         66.000000\n",
       "Name: consumption_city, dtype: float64"
      ]
     },
     "execution_count": 170,
     "metadata": {},
     "output_type": "execute_result"
    }
   ],
   "source": [
    "df.consumption_city.describe()"
   ]
  },
  {
   "cell_type": "code",
   "execution_count": 171,
   "metadata": {
    "id": "bF7gx_w-4LdR"
   },
   "outputs": [],
   "source": [
    "Q1 = df.consumption_city.describe()[4]"
   ]
  },
  {
   "cell_type": "code",
   "execution_count": 172,
   "metadata": {
    "id": "VGK6rpwX9SxF"
   },
   "outputs": [],
   "source": [
    "Q3 = df.consumption_city.describe()[6]"
   ]
  },
  {
   "cell_type": "code",
   "execution_count": 173,
   "metadata": {
    "id": "RLsXyuNX9S4S"
   },
   "outputs": [
    {
     "data": {
      "text/plain": [
       "2.3"
      ]
     },
     "execution_count": 173,
     "metadata": {},
     "output_type": "execute_result"
    }
   ],
   "source": [
    "IQR = Q3-Q1\n",
    "IQR"
   ]
  },
  {
   "cell_type": "code",
   "execution_count": 174,
   "metadata": {
    "id": "Mj3ziawJ9S_2"
   },
   "outputs": [],
   "source": [
    "lower_lim = Q1 - 1.5 * IQR\n",
    "upper_lim = Q3 + 1.5 * IQR"
   ]
  },
  {
   "cell_type": "code",
   "execution_count": 175,
   "metadata": {
    "id": "GW7SrQQu9TVG"
   },
   "outputs": [
    {
     "data": {
      "text/plain": [
       "1.2500000000000004"
      ]
     },
     "execution_count": 175,
     "metadata": {},
     "output_type": "execute_result"
    }
   ],
   "source": [
    "lower_lim"
   ]
  },
  {
   "cell_type": "code",
   "execution_count": 176,
   "metadata": {
    "id": "unTVsRVP9TgL"
   },
   "outputs": [
    {
     "data": {
      "text/plain": [
       "10.45"
      ]
     },
     "execution_count": 176,
     "metadata": {},
     "output_type": "execute_result"
    }
   ],
   "source": [
    "upper_lim "
   ]
  },
  {
   "cell_type": "code",
   "execution_count": 177,
   "metadata": {
    "id": "fvp3tVGV9TtJ"
   },
   "outputs": [
    {
     "data": {
      "text/plain": [
       "8"
      ]
     },
     "execution_count": 177,
     "metadata": {},
     "output_type": "execute_result"
    }
   ],
   "source": [
    "(df.consumption_city < lower_lim).sum()"
   ]
  },
  {
   "cell_type": "code",
   "execution_count": 178,
   "metadata": {
    "id": "CGoEBhOb9T5H"
   },
   "outputs": [
    {
     "data": {
      "text/plain": [
       "47"
      ]
     },
     "execution_count": 178,
     "metadata": {},
     "output_type": "execute_result"
    }
   ],
   "source": [
    "(df.consumption_city> upper_lim).sum()"
   ]
  },
  {
   "cell_type": "code",
   "execution_count": 179,
   "metadata": {
    "id": "8EA05GMT9UHy"
   },
   "outputs": [
    {
     "data": {
      "text/plain": [
       "55"
      ]
     },
     "execution_count": 179,
     "metadata": {},
     "output_type": "execute_result"
    }
   ],
   "source": [
    "df.consumption_city[(df.consumption_city < lower_lim) | (df.consumption_city > upper_lim)].count()"
   ]
  },
  {
   "cell_type": "code",
   "execution_count": 180,
   "metadata": {
    "id": "F5Xo3EhS9Ug1"
   },
   "outputs": [
    {
     "data": {
      "text/plain": [
       "15864"
      ]
     },
     "execution_count": 180,
     "metadata": {},
     "output_type": "execute_result"
    }
   ],
   "source": [
    "df.consumption_city[~((df.consumption_city < lower_lim) | (df.consumption_city > upper_lim))].count()"
   ]
  },
  {
   "cell_type": "code",
   "execution_count": 181,
   "metadata": {
    "id": "CiNce7Mc-SXz"
   },
   "outputs": [
    {
     "data": {
      "text/plain": [
       "0        4.3\n",
       "1        7.1\n",
       "2        4.4\n",
       "3        4.3\n",
       "4        4.6\n",
       "        ... \n",
       "15914    6.2\n",
       "15915    9.2\n",
       "15916    6.2\n",
       "15917    6.2\n",
       "15918    8.7\n",
       "Name: consumption_city, Length: 15919, dtype: float64"
      ]
     },
     "execution_count": 181,
     "metadata": {},
     "output_type": "execute_result"
    }
   ],
   "source": [
    "df.consumption_city"
   ]
  },
  {
   "cell_type": "markdown",
   "metadata": {},
   "source": [
    "## consumption_country"
   ]
  },
  {
   "cell_type": "code",
   "execution_count": 182,
   "metadata": {
    "id": "cHy95S0o4Lrn"
   },
   "outputs": [
    {
     "data": {
      "text/plain": [
       "14965     0.0\n",
       "10509     0.0\n",
       "10511     0.0\n",
       "15256     0.0\n",
       "15199     0.0\n",
       "         ... \n",
       "14584    42.0\n",
       "2210     44.0\n",
       "2196     44.0\n",
       "2194     44.0\n",
       "2237     44.0\n",
       "Name: consumption_country, Length: 15919, dtype: float64"
      ]
     },
     "execution_count": 182,
     "metadata": {},
     "output_type": "execute_result"
    }
   ],
   "source": [
    "df.consumption_country.sort_values()"
   ]
  },
  {
   "cell_type": "code",
   "execution_count": 183,
   "metadata": {},
   "outputs": [
    {
     "data": {
      "text/plain": [
       "14965    0.0\n",
       "10509    0.0\n",
       "10511    0.0\n",
       "Name: consumption_country, dtype: float64"
      ]
     },
     "execution_count": 183,
     "metadata": {},
     "output_type": "execute_result"
    }
   ],
   "source": [
    "df.consumption_country.sort_values().head(3)"
   ]
  },
  {
   "cell_type": "code",
   "execution_count": 184,
   "metadata": {},
   "outputs": [],
   "source": [
    "## index_4 = (df.consumption_country.sort_values().head(3)).index"
   ]
  },
  {
   "cell_type": "code",
   "execution_count": 185,
   "metadata": {},
   "outputs": [],
   "source": [
    "## df.drop(index_4,inplace=True)"
   ]
  },
  {
   "cell_type": "code",
   "execution_count": 186,
   "metadata": {},
   "outputs": [
    {
     "data": {
      "text/plain": [
       "4558     35.0\n",
       "4556     35.0\n",
       "4102     37.0\n",
       "4089     37.0\n",
       "14584    42.0\n",
       "2210     44.0\n",
       "2196     44.0\n",
       "2194     44.0\n",
       "2237     44.0\n",
       "Name: consumption_country, dtype: float64"
      ]
     },
     "execution_count": 186,
     "metadata": {},
     "output_type": "execute_result"
    }
   ],
   "source": [
    "df.consumption_country.sort_values().tail(9)"
   ]
  },
  {
   "cell_type": "code",
   "execution_count": 187,
   "metadata": {},
   "outputs": [],
   "source": [
    "## index_5 = df.consumption_country.sort_values().tail(9).index"
   ]
  },
  {
   "cell_type": "code",
   "execution_count": 188,
   "metadata": {},
   "outputs": [],
   "source": [
    "## df.consumption_country.loc[index_5] = df.consumption_country.loc[index_5]/10"
   ]
  },
  {
   "cell_type": "code",
   "execution_count": 189,
   "metadata": {
    "id": "9Q_SN9lG-6Jl"
   },
   "outputs": [
    {
     "data": {
      "image/png": "[encoded data removed]",
      "text/plain": [
       "<Figure size 1080x720 with 1 Axes>"
      ]
     },
     "metadata": {
      "needs_background": "light"
     },
     "output_type": "display_data"
    }
   ],
   "source": [
    "plt.figure(figsize = (15, 10))  \n",
    "sns.boxplot(x = df.consumption_country); "
   ]
  },
  {
   "cell_type": "code",
   "execution_count": 190,
   "metadata": {
    "id": "sO1Zwm5X-6OV"
   },
   "outputs": [
    {
     "data": {
      "image/png": "[encoded data removed]",
      "text/plain": [
       "<Figure size 360x360 with 1 Axes>"
      ]
     },
     "metadata": {
      "needs_background": "light"
     },
     "output_type": "display_data"
    }
   ],
   "source": [
    "sns.displot(df.consumption_country, bins = 50, kde = False);"
   ]
  },
  {
   "cell_type": "code",
   "execution_count": 191,
   "metadata": {
    "id": "RQSmgOEK-6Tw"
   },
   "outputs": [
    {
     "data": {
      "text/plain": [
       "14965     0.0\n",
       "10509     0.0\n",
       "10511     0.0\n",
       "15256     0.0\n",
       "15199     0.0\n",
       "         ... \n",
       "14584    42.0\n",
       "2210     44.0\n",
       "2196     44.0\n",
       "2194     44.0\n",
       "2237     44.0\n",
       "Name: consumption_country, Length: 15919, dtype: float64"
      ]
     },
     "execution_count": 191,
     "metadata": {},
     "output_type": "execute_result"
    }
   ],
   "source": [
    "df[\"consumption_country\"].sort_values()"
   ]
  },
  {
   "cell_type": "code",
   "execution_count": 192,
   "metadata": {
    "id": "6ml0kj4J-6YL"
   },
   "outputs": [
    {
     "data": {
      "text/plain": [
       "count    15919.000000\n",
       "mean         4.238524\n",
       "std          1.123301\n",
       "min          0.000000\n",
       "25%          3.700000\n",
       "50%          4.200000\n",
       "75%          4.600000\n",
       "max         44.000000\n",
       "Name: consumption_country, dtype: float64"
      ]
     },
     "execution_count": 192,
     "metadata": {},
     "output_type": "execute_result"
    }
   ],
   "source": [
    "df.consumption_country.describe()"
   ]
  },
  {
   "cell_type": "code",
   "execution_count": 193,
   "metadata": {
    "id": "qeU3F6lI-6cg"
   },
   "outputs": [],
   "source": [
    "Q1 = df.consumption_country.describe()[4]"
   ]
  },
  {
   "cell_type": "code",
   "execution_count": 194,
   "metadata": {
    "id": "vQqXCq6S-6gv"
   },
   "outputs": [],
   "source": [
    "Q3 = df.consumption_country.describe()[6]"
   ]
  },
  {
   "cell_type": "code",
   "execution_count": 195,
   "metadata": {
    "id": "jtOYTv8c-6mg"
   },
   "outputs": [
    {
     "data": {
      "text/plain": [
       "0.8999999999999995"
      ]
     },
     "execution_count": 195,
     "metadata": {},
     "output_type": "execute_result"
    }
   ],
   "source": [
    "IQR = Q3-Q1\n",
    "IQR"
   ]
  },
  {
   "cell_type": "code",
   "execution_count": 196,
   "metadata": {
    "id": "9Nmvq8i5-7Hq"
   },
   "outputs": [],
   "source": [
    "lower_lim = Q1 - 1.5 * IQR\n",
    "upper_lim = Q3 + 1.5 * IQR"
   ]
  },
  {
   "cell_type": "code",
   "execution_count": 197,
   "metadata": {
    "id": "s9QlW7dq-7MY"
   },
   "outputs": [
    {
     "data": {
      "text/plain": [
       "2.350000000000001"
      ]
     },
     "execution_count": 197,
     "metadata": {},
     "output_type": "execute_result"
    }
   ],
   "source": [
    "lower_lim"
   ]
  },
  {
   "cell_type": "code",
   "execution_count": 198,
   "metadata": {
    "id": "OFeFf9q5-7SQ"
   },
   "outputs": [
    {
     "data": {
      "text/plain": [
       "5.949999999999999"
      ]
     },
     "execution_count": 198,
     "metadata": {},
     "output_type": "execute_result"
    }
   ],
   "source": [
    "upper_lim "
   ]
  },
  {
   "cell_type": "code",
   "execution_count": 199,
   "metadata": {
    "id": "KActexYP-7Wy"
   },
   "outputs": [
    {
     "data": {
      "text/plain": [
       "11"
      ]
     },
     "execution_count": 199,
     "metadata": {},
     "output_type": "execute_result"
    }
   ],
   "source": [
    "(df.consumption_country < lower_lim).sum()"
   ]
  },
  {
   "cell_type": "code",
   "execution_count": 200,
   "metadata": {
    "id": "I3FsD8iz-7bF"
   },
   "outputs": [
    {
     "data": {
      "text/plain": [
       "223"
      ]
     },
     "execution_count": 200,
     "metadata": {},
     "output_type": "execute_result"
    }
   ],
   "source": [
    "(df.consumption_country > upper_lim).sum()"
   ]
  },
  {
   "cell_type": "code",
   "execution_count": 201,
   "metadata": {
    "id": "uk7mkwj--8HB"
   },
   "outputs": [
    {
     "data": {
      "text/plain": [
       "0        3.5\n",
       "1        4.7\n",
       "2        3.4\n",
       "3        3.5\n",
       "4        3.8\n",
       "        ... \n",
       "15914    4.7\n",
       "15915    6.3\n",
       "15916    4.7\n",
       "15917    4.7\n",
       "15918    5.7\n",
       "Name: consumption_country, Length: 15919, dtype: float64"
      ]
     },
     "execution_count": 201,
     "metadata": {},
     "output_type": "execute_result"
    }
   ],
   "source": [
    "df.consumption_country"
   ]
  },
  {
   "cell_type": "code",
   "execution_count": 202,
   "metadata": {},
   "outputs": [
    {
     "data": {
      "text/plain": [
       "make_model             0\n",
       "body_type              0\n",
       "price                  0\n",
       "vat                    0\n",
       "km                     0\n",
       "age                    0\n",
       "hp_kw                  0\n",
       "type                   0\n",
       "previous_owners        0\n",
       "body_color             0\n",
       "paint_type             0\n",
       "nr_of_doors            0\n",
       "nr_of_seats            0\n",
       "gearing_type           0\n",
       "displacement           0\n",
       "cylinders              0\n",
       "drive_chain            0\n",
       "fuel                   0\n",
       "co2_emission           0\n",
       "emission_class         0\n",
       "comfort_convenience    0\n",
       "entertainment_media    0\n",
       "extras                 0\n",
       "safety_security        0\n",
       "gears                  0\n",
       "upholstery_type        0\n",
       "upholstery_color       0\n",
       "consumption_comb       0\n",
       "consumption_city       0\n",
       "consumption_country    0\n",
       "weight_kg              0\n",
       "dtype: int64"
      ]
     },
     "execution_count": 202,
     "metadata": {},
     "output_type": "execute_result"
    }
   ],
   "source": [
    "df.isnull().sum()"
   ]
  },
  {
   "cell_type": "code",
   "execution_count": 256,
   "metadata": {},
   "outputs": [
    {
     "data": {
      "text/plain": [
       "make_model             0\n",
       "body_type              0\n",
       "price                  0\n",
       "vat                    0\n",
       "km                     0\n",
       "age                    0\n",
       "hp_kw                  0\n",
       "type                   0\n",
       "previous_owners        0\n",
       "paint_type             0\n",
       "gearing_type           0\n",
       "displacement           0\n",
       "cylinders              0\n",
       "drive_chain            0\n",
       "fuel                   0\n",
       "comfort_convenience    0\n",
       "entertainment_media    0\n",
       "extras                 0\n",
       "safety_security        0\n",
       "gears                  0\n",
       "upholstery_type        0\n",
       "consumption_comb       0\n",
       "weight_kg              0\n",
       "dtype: int64"
      ]
     },
     "execution_count": 256,
     "metadata": {},
     "output_type": "execute_result"
    }
   ],
   "source": [
    "df.isnull().sum()"
   ]
  },
  {
   "cell_type": "markdown",
   "metadata": {},
   "source": [
    "## drop_columns"
   ]
  },
  {
   "cell_type": "code",
   "execution_count": 292,
   "metadata": {},
   "outputs": [
    {
     "name": "stdout",
     "output_type": "stream",
     "text": [
      "<class 'pandas.core.frame.DataFrame'>\n",
      "Int64Index: 15882 entries, 0 to 15918\n",
      "Data columns (total 31 columns):\n",
      " #   Column               Non-Null Count  Dtype  \n",
      "---  ------               --------------  -----  \n",
      " 0   make_model           15882 non-null  object \n",
      " 1   body_type            15882 non-null  object \n",
      " 2   price                15882 non-null  int64  \n",
      " 3   vat                  15882 non-null  object \n",
      " 4   km                   15882 non-null  int64  \n",
      " 5   age                  15882 non-null  int64  \n",
      " 6   hp_kw                15882 non-null  int64  \n",
      " 7   type                 15882 non-null  object \n",
      " 8   previous_owners      15882 non-null  int64  \n",
      " 9   body_color           15882 non-null  object \n",
      " 10  paint_type           15882 non-null  object \n",
      " 11  nr_of_doors          15882 non-null  int64  \n",
      " 12  nr_of_seats          15882 non-null  int64  \n",
      " 13  gearing_type         15882 non-null  object \n",
      " 14  displacement         15882 non-null  float64\n",
      " 15  cylinders            15882 non-null  float64\n",
      " 16  drive_chain          15882 non-null  object \n",
      " 17  fuel                 15882 non-null  object \n",
      " 18  co2_emission         15882 non-null  float64\n",
      " 19  emission_class       15882 non-null  object \n",
      " 20  comfort_convenience  15882 non-null  object \n",
      " 21  entertainment_media  15882 non-null  object \n",
      " 22  extras               15882 non-null  object \n",
      " 23  safety_security      15882 non-null  object \n",
      " 24  gears                15882 non-null  int64  \n",
      " 25  upholstery_type      15882 non-null  object \n",
      " 26  upholstery_color     15882 non-null  object \n",
      " 27  consumption_comb     15882 non-null  float64\n",
      " 28  consumption_city     15882 non-null  float64\n",
      " 29  consumption_country  15882 non-null  float64\n",
      " 30  weight_kg            15882 non-null  int64  \n",
      "dtypes: float64(6), int64(9), object(16)\n",
      "memory usage: 3.9+ MB\n"
     ]
    }
   ],
   "source": [
    "df.info()"
   ]
  },
  {
   "cell_type": "code",
   "execution_count": 294,
   "metadata": {},
   "outputs": [],
   "source": [
    "df.drop(['body_color','nr_of_doors','nr_of_seats','emission_class','upholstery_color','consumption_city','consumption_country','co2_emission'],axis=1,inplace=True)"
   ]
  },
  {
   "cell_type": "code",
   "execution_count": 295,
   "metadata": {},
   "outputs": [
    {
     "name": "stdout",
     "output_type": "stream",
     "text": [
      "<class 'pandas.core.frame.DataFrame'>\n",
      "Int64Index: 15882 entries, 0 to 15918\n",
      "Data columns (total 23 columns):\n",
      " #   Column               Non-Null Count  Dtype  \n",
      "---  ------               --------------  -----  \n",
      " 0   make_model           15882 non-null  object \n",
      " 1   body_type            15882 non-null  object \n",
      " 2   price                15882 non-null  int64  \n",
      " 3   vat                  15882 non-null  object \n",
      " 4   km                   15882 non-null  int64  \n",
      " 5   age                  15882 non-null  int64  \n",
      " 6   hp_kw                15882 non-null  int64  \n",
      " 7   type                 15882 non-null  object \n",
      " 8   previous_owners      15882 non-null  int64  \n",
      " 9   paint_type           15882 non-null  object \n",
      " 10  gearing_type         15882 non-null  object \n",
      " 11  displacement         15882 non-null  float64\n",
      " 12  cylinders            15882 non-null  float64\n",
      " 13  drive_chain          15882 non-null  object \n",
      " 14  fuel                 15882 non-null  object \n",
      " 15  comfort_convenience  15882 non-null  object \n",
      " 16  entertainment_media  15882 non-null  object \n",
      " 17  extras               15882 non-null  object \n",
      " 18  safety_security      15882 non-null  object \n",
      " 19  gears                15882 non-null  int64  \n",
      " 20  upholstery_type      15882 non-null  object \n",
      " 21  consumption_comb     15882 non-null  float64\n",
      " 22  weight_kg            15882 non-null  int64  \n",
      "dtypes: float64(3), int64(7), object(13)\n",
      "memory usage: 2.9+ MB\n"
     ]
    }
   ],
   "source": [
    "df.info()"
   ]
  },
  {
   "cell_type": "code",
   "execution_count": 296,
   "metadata": {},
   "outputs": [],
   "source": [
    "df.to_csv('G1_Scout_car.csv',index=False)"
   ]
  },
  {
   "cell_type": "code",
   "execution_count": null,
   "metadata": {},
   "outputs": [],
   "source": []
  },
  {
   "cell_type": "code",
   "execution_count": null,
   "metadata": {},
   "outputs": [],
   "source": []
  },
  {
   "cell_type": "markdown",
   "metadata": {
    "id": "0qlOpA0Cq7bm"
   },
   "source": [
    "# Final Step (Checking final situation of data via graphs)"
   ]
  },
  {
   "cell_type": "code",
   "execution_count": null,
   "metadata": {
    "id": "y7Ea8UR4q7bm"
   },
   "outputs": [],
   "source": []
  },
  {
   "cell_type": "markdown",
   "metadata": {
    "id": "dMmhsrKjq7bm"
   },
   "source": [
    "## Export dataframe to csv file (without dummy)"
   ]
  },
  {
   "cell_type": "code",
   "execution_count": 258,
   "metadata": {
    "id": "1q35ucb_q7bm"
   },
   "outputs": [],
   "source": [
    "df.to_csv(\"G1_Scout_car.csv\", index=False)"
   ]
  },
  {
   "cell_type": "markdown",
   "metadata": {
    "id": "sJD4me6Mq7bn"
   },
   "source": [
    "# Dummy Operation"
   ]
  },
  {
   "cell_type": "code",
   "execution_count": 297,
   "metadata": {},
   "outputs": [],
   "source": [
    "df = pd.read_csv(\"G1_Scout_car.csv\")"
   ]
  },
  {
   "cell_type": "code",
   "execution_count": 298,
   "metadata": {},
   "outputs": [
    {
     "name": "stdout",
     "output_type": "stream",
     "text": [
      "<class 'pandas.core.frame.DataFrame'>\n",
      "RangeIndex: 15882 entries, 0 to 15881\n",
      "Data columns (total 23 columns):\n",
      " #   Column               Non-Null Count  Dtype  \n",
      "---  ------               --------------  -----  \n",
      " 0   make_model           15882 non-null  object \n",
      " 1   body_type            15882 non-null  object \n",
      " 2   price                15882 non-null  int64  \n",
      " 3   vat                  15882 non-null  object \n",
      " 4   km                   15882 non-null  int64  \n",
      " 5   age                  15882 non-null  int64  \n",
      " 6   hp_kw                15882 non-null  int64  \n",
      " 7   type                 15882 non-null  object \n",
      " 8   previous_owners      15882 non-null  int64  \n",
      " 9   paint_type           15882 non-null  object \n",
      " 10  gearing_type         15882 non-null  object \n",
      " 11  displacement         15882 non-null  float64\n",
      " 12  cylinders            15882 non-null  float64\n",
      " 13  drive_chain          15882 non-null  object \n",
      " 14  fuel                 15882 non-null  object \n",
      " 15  comfort_convenience  15882 non-null  object \n",
      " 16  entertainment_media  15882 non-null  object \n",
      " 17  extras               15882 non-null  object \n",
      " 18  safety_security      15882 non-null  object \n",
      " 19  gears                15882 non-null  int64  \n",
      " 20  upholstery_type      15882 non-null  object \n",
      " 21  consumption_comb     15882 non-null  float64\n",
      " 22  weight_kg            15882 non-null  int64  \n",
      "dtypes: float64(3), int64(7), object(13)\n",
      "memory usage: 2.8+ MB\n"
     ]
    }
   ],
   "source": [
    "df.info()"
   ]
  },
  {
   "cell_type": "code",
   "execution_count": 299,
   "metadata": {},
   "outputs": [
    {
     "data": {
      "text/plain": [
       "(15882, 23)"
      ]
     },
     "execution_count": 299,
     "metadata": {},
     "output_type": "execute_result"
    }
   ],
   "source": [
    "df.shape"
   ]
  },
  {
   "cell_type": "code",
   "execution_count": 301,
   "metadata": {
    "id": "_NdxMiQOq7bn"
   },
   "outputs": [],
   "source": [
    "df = df.join(df['comfort_convenience'].str.get_dummies(sep = ',').add_prefix('cc_'))\n",
    "df = df.join(df['entertainment_media'].str.get_dummies(sep = ',').add_prefix('em_'))\n",
    "df = df.join(df['extras'].str.get_dummies(sep = ',').add_prefix('ex_'))\n",
    "df = df.join(df['safety_security'].str.get_dummies(sep = ',').add_prefix('ss_'))"
   ]
  },
  {
   "cell_type": "code",
   "execution_count": 303,
   "metadata": {},
   "outputs": [
    {
     "data": {
      "text/html": [
       "<div>\n",
       "<style scoped>\n",
       "    .dataframe tbody tr th:only-of-type {\n",
       "        vertical-align: middle;\n",
       "    }\n",
       "\n",
       "    .dataframe tbody tr th {\n",
       "        vertical-align: top;\n",
       "    }\n",
       "\n",
       "    .dataframe thead th {\n",
       "        text-align: right;\n",
       "    }\n",
       "</style>\n",
       "<table border=\"1\" class=\"dataframe\">\n",
       "  <thead>\n",
       "    <tr style=\"text-align: right;\">\n",
       "      <th></th>\n",
       "      <th>0</th>\n",
       "      <th>1</th>\n",
       "      <th>2</th>\n",
       "      <th>3</th>\n",
       "      <th>4</th>\n",
       "      <th>5</th>\n",
       "      <th>6</th>\n",
       "      <th>7</th>\n",
       "      <th>8</th>\n",
       "      <th>9</th>\n",
       "      <th>...</th>\n",
       "      <th>15872</th>\n",
       "      <th>15873</th>\n",
       "      <th>15874</th>\n",
       "      <th>15875</th>\n",
       "      <th>15876</th>\n",
       "      <th>15877</th>\n",
       "      <th>15878</th>\n",
       "      <th>15879</th>\n",
       "      <th>15880</th>\n",
       "      <th>15881</th>\n",
       "    </tr>\n",
       "  </thead>\n",
       "  <tbody>\n",
       "    <tr>\n",
       "      <th>make_model</th>\n",
       "      <td>Audi A1</td>\n",
       "      <td>Audi A1</td>\n",
       "      <td>Audi A1</td>\n",
       "      <td>Audi A1</td>\n",
       "      <td>Audi A1</td>\n",
       "      <td>Audi A1</td>\n",
       "      <td>Audi A1</td>\n",
       "      <td>Audi A1</td>\n",
       "      <td>Audi A1</td>\n",
       "      <td>Audi A1</td>\n",
       "      <td>...</td>\n",
       "      <td>Renault Espace</td>\n",
       "      <td>Renault Espace</td>\n",
       "      <td>Renault Espace</td>\n",
       "      <td>Renault Espace</td>\n",
       "      <td>Renault Espace</td>\n",
       "      <td>Renault Espace</td>\n",
       "      <td>Renault Espace</td>\n",
       "      <td>Renault Espace</td>\n",
       "      <td>Renault Espace</td>\n",
       "      <td>Renault Espace</td>\n",
       "    </tr>\n",
       "    <tr>\n",
       "      <th>body_type</th>\n",
       "      <td>Sedans</td>\n",
       "      <td>Sedans</td>\n",
       "      <td>Sedans</td>\n",
       "      <td>Sedans</td>\n",
       "      <td>Sedans</td>\n",
       "      <td>Sedans</td>\n",
       "      <td>Station wagon</td>\n",
       "      <td>Compact</td>\n",
       "      <td>Sedans</td>\n",
       "      <td>Sedans</td>\n",
       "      <td>...</td>\n",
       "      <td>Van</td>\n",
       "      <td>Van</td>\n",
       "      <td>Van</td>\n",
       "      <td>Van</td>\n",
       "      <td>Van</td>\n",
       "      <td>Van</td>\n",
       "      <td>Van</td>\n",
       "      <td>Van</td>\n",
       "      <td>Van</td>\n",
       "      <td>Van</td>\n",
       "    </tr>\n",
       "    <tr>\n",
       "      <th>price</th>\n",
       "      <td>15770</td>\n",
       "      <td>14500</td>\n",
       "      <td>14640</td>\n",
       "      <td>14500</td>\n",
       "      <td>16790</td>\n",
       "      <td>15090</td>\n",
       "      <td>16422</td>\n",
       "      <td>14480</td>\n",
       "      <td>16700</td>\n",
       "      <td>17990</td>\n",
       "      <td>...</td>\n",
       "      <td>39990</td>\n",
       "      <td>39980</td>\n",
       "      <td>39980</td>\n",
       "      <td>39950</td>\n",
       "      <td>39950</td>\n",
       "      <td>39950</td>\n",
       "      <td>39885</td>\n",
       "      <td>39875</td>\n",
       "      <td>39700</td>\n",
       "      <td>40999</td>\n",
       "    </tr>\n",
       "    <tr>\n",
       "      <th>vat</th>\n",
       "      <td>VAT deductible</td>\n",
       "      <td>Price negotiable</td>\n",
       "      <td>VAT deductible</td>\n",
       "      <td>VAT deductible</td>\n",
       "      <td>VAT deductible</td>\n",
       "      <td>VAT deductible</td>\n",
       "      <td>VAT deductible</td>\n",
       "      <td>VAT deductible</td>\n",
       "      <td>VAT deductible</td>\n",
       "      <td>VAT deductible</td>\n",
       "      <td>...</td>\n",
       "      <td>VAT deductible</td>\n",
       "      <td>VAT deductible</td>\n",
       "      <td>VAT deductible</td>\n",
       "      <td>VAT deductible</td>\n",
       "      <td>VAT deductible</td>\n",
       "      <td>VAT deductible</td>\n",
       "      <td>VAT deductible</td>\n",
       "      <td>VAT deductible</td>\n",
       "      <td>VAT deductible</td>\n",
       "      <td>VAT deductible</td>\n",
       "    </tr>\n",
       "    <tr>\n",
       "      <th>km</th>\n",
       "      <td>56013</td>\n",
       "      <td>80000</td>\n",
       "      <td>83450</td>\n",
       "      <td>73000</td>\n",
       "      <td>16200</td>\n",
       "      <td>63668</td>\n",
       "      <td>62111</td>\n",
       "      <td>14986</td>\n",
       "      <td>57000</td>\n",
       "      <td>16103</td>\n",
       "      <td>...</td>\n",
       "      <td>3500</td>\n",
       "      <td>8500</td>\n",
       "      <td>100</td>\n",
       "      <td>0</td>\n",
       "      <td>1000</td>\n",
       "      <td>0</td>\n",
       "      <td>9900</td>\n",
       "      <td>15</td>\n",
       "      <td>10</td>\n",
       "      <td>0</td>\n",
       "    </tr>\n",
       "    <tr>\n",
       "      <th>...</th>\n",
       "      <td>...</td>\n",
       "      <td>...</td>\n",
       "      <td>...</td>\n",
       "      <td>...</td>\n",
       "      <td>...</td>\n",
       "      <td>...</td>\n",
       "      <td>...</td>\n",
       "      <td>...</td>\n",
       "      <td>...</td>\n",
       "      <td>...</td>\n",
       "      <td>...</td>\n",
       "      <td>...</td>\n",
       "      <td>...</td>\n",
       "      <td>...</td>\n",
       "      <td>...</td>\n",
       "      <td>...</td>\n",
       "      <td>...</td>\n",
       "      <td>...</td>\n",
       "      <td>...</td>\n",
       "      <td>...</td>\n",
       "      <td>...</td>\n",
       "    </tr>\n",
       "    <tr>\n",
       "      <th>ss_Side Airbag</th>\n",
       "      <td>1</td>\n",
       "      <td>1</td>\n",
       "      <td>1</td>\n",
       "      <td>1</td>\n",
       "      <td>1</td>\n",
       "      <td>1</td>\n",
       "      <td>1</td>\n",
       "      <td>1</td>\n",
       "      <td>1</td>\n",
       "      <td>1</td>\n",
       "      <td>...</td>\n",
       "      <td>1</td>\n",
       "      <td>0</td>\n",
       "      <td>1</td>\n",
       "      <td>1</td>\n",
       "      <td>1</td>\n",
       "      <td>1</td>\n",
       "      <td>1</td>\n",
       "      <td>1</td>\n",
       "      <td>1</td>\n",
       "      <td>1</td>\n",
       "    </tr>\n",
       "    <tr>\n",
       "      <th>ss_Tire Pressure Monitoring System</th>\n",
       "      <td>1</td>\n",
       "      <td>1</td>\n",
       "      <td>1</td>\n",
       "      <td>1</td>\n",
       "      <td>1</td>\n",
       "      <td>1</td>\n",
       "      <td>1</td>\n",
       "      <td>1</td>\n",
       "      <td>0</td>\n",
       "      <td>0</td>\n",
       "      <td>...</td>\n",
       "      <td>1</td>\n",
       "      <td>0</td>\n",
       "      <td>1</td>\n",
       "      <td>1</td>\n",
       "      <td>1</td>\n",
       "      <td>1</td>\n",
       "      <td>1</td>\n",
       "      <td>0</td>\n",
       "      <td>1</td>\n",
       "      <td>1</td>\n",
       "    </tr>\n",
       "    <tr>\n",
       "      <th>ss_Traction Control</th>\n",
       "      <td>1</td>\n",
       "      <td>1</td>\n",
       "      <td>1</td>\n",
       "      <td>0</td>\n",
       "      <td>1</td>\n",
       "      <td>1</td>\n",
       "      <td>0</td>\n",
       "      <td>1</td>\n",
       "      <td>1</td>\n",
       "      <td>1</td>\n",
       "      <td>...</td>\n",
       "      <td>1</td>\n",
       "      <td>1</td>\n",
       "      <td>0</td>\n",
       "      <td>1</td>\n",
       "      <td>1</td>\n",
       "      <td>1</td>\n",
       "      <td>1</td>\n",
       "      <td>1</td>\n",
       "      <td>0</td>\n",
       "      <td>0</td>\n",
       "    </tr>\n",
       "    <tr>\n",
       "      <th>ss_Traffic Sign Recognition</th>\n",
       "      <td>0</td>\n",
       "      <td>0</td>\n",
       "      <td>0</td>\n",
       "      <td>0</td>\n",
       "      <td>0</td>\n",
       "      <td>0</td>\n",
       "      <td>0</td>\n",
       "      <td>0</td>\n",
       "      <td>0</td>\n",
       "      <td>0</td>\n",
       "      <td>...</td>\n",
       "      <td>1</td>\n",
       "      <td>0</td>\n",
       "      <td>1</td>\n",
       "      <td>1</td>\n",
       "      <td>1</td>\n",
       "      <td>1</td>\n",
       "      <td>1</td>\n",
       "      <td>1</td>\n",
       "      <td>1</td>\n",
       "      <td>1</td>\n",
       "    </tr>\n",
       "    <tr>\n",
       "      <th>ss_Xenon Headlights</th>\n",
       "      <td>1</td>\n",
       "      <td>1</td>\n",
       "      <td>0</td>\n",
       "      <td>0</td>\n",
       "      <td>1</td>\n",
       "      <td>1</td>\n",
       "      <td>1</td>\n",
       "      <td>0</td>\n",
       "      <td>0</td>\n",
       "      <td>0</td>\n",
       "      <td>...</td>\n",
       "      <td>0</td>\n",
       "      <td>0</td>\n",
       "      <td>0</td>\n",
       "      <td>0</td>\n",
       "      <td>0</td>\n",
       "      <td>0</td>\n",
       "      <td>0</td>\n",
       "      <td>0</td>\n",
       "      <td>0</td>\n",
       "      <td>0</td>\n",
       "    </tr>\n",
       "  </tbody>\n",
       "</table>\n",
       "<p>117 rows × 15882 columns</p>\n",
       "</div>"
      ],
      "text/plain": [
       "                                             0                 1      \\\n",
       "make_model                                 Audi A1           Audi A1   \n",
       "body_type                                   Sedans            Sedans   \n",
       "price                                        15770             14500   \n",
       "vat                                 VAT deductible  Price negotiable   \n",
       "km                                           56013             80000   \n",
       "...                                            ...               ...   \n",
       "ss_Side Airbag                                   1                 1   \n",
       "ss_Tire Pressure Monitoring System               1                 1   \n",
       "ss_Traction Control                              1                 1   \n",
       "ss_Traffic Sign Recognition                      0                 0   \n",
       "ss_Xenon Headlights                              1                 1   \n",
       "\n",
       "                                             2               3      \\\n",
       "make_model                                 Audi A1         Audi A1   \n",
       "body_type                                   Sedans          Sedans   \n",
       "price                                        14640           14500   \n",
       "vat                                 VAT deductible  VAT deductible   \n",
       "km                                           83450           73000   \n",
       "...                                            ...             ...   \n",
       "ss_Side Airbag                                   1               1   \n",
       "ss_Tire Pressure Monitoring System               1               1   \n",
       "ss_Traction Control                              1               0   \n",
       "ss_Traffic Sign Recognition                      0               0   \n",
       "ss_Xenon Headlights                              0               0   \n",
       "\n",
       "                                             4               5      \\\n",
       "make_model                                 Audi A1         Audi A1   \n",
       "body_type                                   Sedans          Sedans   \n",
       "price                                        16790           15090   \n",
       "vat                                 VAT deductible  VAT deductible   \n",
       "km                                           16200           63668   \n",
       "...                                            ...             ...   \n",
       "ss_Side Airbag                                   1               1   \n",
       "ss_Tire Pressure Monitoring System               1               1   \n",
       "ss_Traction Control                              1               1   \n",
       "ss_Traffic Sign Recognition                      0               0   \n",
       "ss_Xenon Headlights                              1               1   \n",
       "\n",
       "                                             6               7      \\\n",
       "make_model                                 Audi A1         Audi A1   \n",
       "body_type                            Station wagon         Compact   \n",
       "price                                        16422           14480   \n",
       "vat                                 VAT deductible  VAT deductible   \n",
       "km                                           62111           14986   \n",
       "...                                            ...             ...   \n",
       "ss_Side Airbag                                   1               1   \n",
       "ss_Tire Pressure Monitoring System               1               1   \n",
       "ss_Traction Control                              0               1   \n",
       "ss_Traffic Sign Recognition                      0               0   \n",
       "ss_Xenon Headlights                              1               0   \n",
       "\n",
       "                                             8               9      ...  \\\n",
       "make_model                                 Audi A1         Audi A1  ...   \n",
       "body_type                                   Sedans          Sedans  ...   \n",
       "price                                        16700           17990  ...   \n",
       "vat                                 VAT deductible  VAT deductible  ...   \n",
       "km                                           57000           16103  ...   \n",
       "...                                            ...             ...  ...   \n",
       "ss_Side Airbag                                   1               1  ...   \n",
       "ss_Tire Pressure Monitoring System               0               0  ...   \n",
       "ss_Traction Control                              1               1  ...   \n",
       "ss_Traffic Sign Recognition                      0               0  ...   \n",
       "ss_Xenon Headlights                              0               0  ...   \n",
       "\n",
       "                                             15872           15873  \\\n",
       "make_model                          Renault Espace  Renault Espace   \n",
       "body_type                                      Van             Van   \n",
       "price                                        39990           39980   \n",
       "vat                                 VAT deductible  VAT deductible   \n",
       "km                                            3500            8500   \n",
       "...                                            ...             ...   \n",
       "ss_Side Airbag                                   1               0   \n",
       "ss_Tire Pressure Monitoring System               1               0   \n",
       "ss_Traction Control                              1               1   \n",
       "ss_Traffic Sign Recognition                      1               0   \n",
       "ss_Xenon Headlights                              0               0   \n",
       "\n",
       "                                             15874           15875  \\\n",
       "make_model                          Renault Espace  Renault Espace   \n",
       "body_type                                      Van             Van   \n",
       "price                                        39980           39950   \n",
       "vat                                 VAT deductible  VAT deductible   \n",
       "km                                             100               0   \n",
       "...                                            ...             ...   \n",
       "ss_Side Airbag                                   1               1   \n",
       "ss_Tire Pressure Monitoring System               1               1   \n",
       "ss_Traction Control                              0               1   \n",
       "ss_Traffic Sign Recognition                      1               1   \n",
       "ss_Xenon Headlights                              0               0   \n",
       "\n",
       "                                             15876           15877  \\\n",
       "make_model                          Renault Espace  Renault Espace   \n",
       "body_type                                      Van             Van   \n",
       "price                                        39950           39950   \n",
       "vat                                 VAT deductible  VAT deductible   \n",
       "km                                            1000               0   \n",
       "...                                            ...             ...   \n",
       "ss_Side Airbag                                   1               1   \n",
       "ss_Tire Pressure Monitoring System               1               1   \n",
       "ss_Traction Control                              1               1   \n",
       "ss_Traffic Sign Recognition                      1               1   \n",
       "ss_Xenon Headlights                              0               0   \n",
       "\n",
       "                                             15878           15879  \\\n",
       "make_model                          Renault Espace  Renault Espace   \n",
       "body_type                                      Van             Van   \n",
       "price                                        39885           39875   \n",
       "vat                                 VAT deductible  VAT deductible   \n",
       "km                                            9900              15   \n",
       "...                                            ...             ...   \n",
       "ss_Side Airbag                                   1               1   \n",
       "ss_Tire Pressure Monitoring System               1               0   \n",
       "ss_Traction Control                              1               1   \n",
       "ss_Traffic Sign Recognition                      1               1   \n",
       "ss_Xenon Headlights                              0               0   \n",
       "\n",
       "                                             15880           15881  \n",
       "make_model                          Renault Espace  Renault Espace  \n",
       "body_type                                      Van             Van  \n",
       "price                                        39700           40999  \n",
       "vat                                 VAT deductible  VAT deductible  \n",
       "km                                              10               0  \n",
       "...                                            ...             ...  \n",
       "ss_Side Airbag                                   1               1  \n",
       "ss_Tire Pressure Monitoring System               1               1  \n",
       "ss_Traction Control                              0               0  \n",
       "ss_Traffic Sign Recognition                      1               1  \n",
       "ss_Xenon Headlights                              0               0  \n",
       "\n",
       "[117 rows x 15882 columns]"
      ]
     },
     "execution_count": 303,
     "metadata": {},
     "output_type": "execute_result"
    }
   ],
   "source": [
    "df.T"
   ]
  },
  {
   "cell_type": "code",
   "execution_count": 305,
   "metadata": {},
   "outputs": [],
   "source": [
    "df.drop(['comfort_convenience','entertainment_media','extras','safety_security'],  axis=1, inplace = True)"
   ]
  },
  {
   "cell_type": "code",
   "execution_count": 306,
   "metadata": {},
   "outputs": [
    {
     "data": {
      "text/plain": [
       "(15882, 113)"
      ]
     },
     "execution_count": 306,
     "metadata": {},
     "output_type": "execute_result"
    }
   ],
   "source": [
    "df.shape"
   ]
  },
  {
   "cell_type": "code",
   "execution_count": 307,
   "metadata": {},
   "outputs": [],
   "source": [
    "df_final = pd.get_dummies(df, drop_first=True)"
   ]
  },
  {
   "cell_type": "code",
   "execution_count": 308,
   "metadata": {},
   "outputs": [
    {
     "data": {
      "text/plain": [
       "(15882, 138)"
      ]
     },
     "execution_count": 308,
     "metadata": {},
     "output_type": "execute_result"
    }
   ],
   "source": [
    "df_final.shape"
   ]
  },
  {
   "cell_type": "code",
   "execution_count": 315,
   "metadata": {},
   "outputs": [],
   "source": [
    "# df_final.head(50)"
   ]
  },
  {
   "cell_type": "code",
   "execution_count": 313,
   "metadata": {},
   "outputs": [
    {
     "name": "stdout",
     "output_type": "stream",
     "text": [
      "<class 'pandas.core.frame.DataFrame'>\n",
      "RangeIndex: 15882 entries, 0 to 15881\n",
      "Columns: 138 entries, price to upholstery_type_alcantara\n",
      "dtypes: float64(3), int64(101), uint8(34)\n",
      "memory usage: 13.1 MB\n"
     ]
    }
   ],
   "source": [
    "df_final.info()"
   ]
  },
  {
   "cell_type": "markdown",
   "metadata": {
    "id": "FWdw9NPwq7bn"
   },
   "source": [
    "## Export dataframe to csv file (dummy)"
   ]
  },
  {
   "cell_type": "code",
   "execution_count": 317,
   "metadata": {
    "colab": {
     "base_uri": "https://localhost:8080/",
     "height": 165
    },
    "id": "A2_oOGKnq7bn",
    "outputId": "eb26dfda-18b6-49a4-ca2e-ba13b5d1da84"
   },
   "outputs": [],
   "source": [
    "df_final.to_csv(\"final_scout_dummy_g1.csv\", index=False)"
   ]
  },
  {
   "cell_type": "code",
   "execution_count": null,
   "metadata": {},
   "outputs": [],
   "source": []
  }
 ],
 "metadata": {
  "colab": {
   "collapsed_sections": [
    "R93YirU3q7a2",
    "ROfFJnhRq7a3",
    "fDwp1HLtq7a7",
    "w3acSrsgq7bC",
    "9HFePhHVq7bE",
    "gf5H2XhHq7bJ",
    "1mPFgxkHq7bK",
    "dMmhsrKjq7bm"
   ],
   "name": "19-04-2022_DAwPy-Capstone_Project_(AutoScout) .ipynb",
   "provenance": []
  },
  "kernelspec": {
   "display_name": "Python 3 (ipykernel)",
   "language": "python",
   "name": "python3"
  },
  "language_info": {
   "codemirror_mode": {
    "name": "ipython",
    "version": 3
   },
   "file_extension": ".py",
   "mimetype": "text/x-python",
   "name": "python",
   "nbconvert_exporter": "python",
   "pygments_lexer": "ipython3",
   "version": "3.9.7"
  },
  "toc": {
   "base_numbering": 1,
   "nav_menu": {},
   "number_sections": true,
   "sideBar": true,
   "skip_h1_title": false,
   "title_cell": "Table of Contents",
   "title_sidebar": "Contents",
   "toc_cell": false,
   "toc_position": {
    "height": "calc(100% - 180px)",
    "left": "10px",
    "top": "150px",
    "width": "257.997px"
   },
   "toc_section_display": true,
   "toc_window_display": true
  }
 },
 "nbformat": 4,
 "nbformat_minor": 1
}
